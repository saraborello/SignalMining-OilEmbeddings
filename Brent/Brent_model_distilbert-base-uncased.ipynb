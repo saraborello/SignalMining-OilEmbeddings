{
 "cells": [
  {
   "cell_type": "markdown",
   "metadata": {},
   "source": [
    "## Random forest"
   ]
  },
  {
   "cell_type": "code",
   "execution_count": 2,
   "metadata": {},
   "outputs": [
    {
     "name": "stderr",
     "output_type": "stream",
     "text": [
      "[*********************100%***********************]  1 of 1 completed\n"
     ]
    },
    {
     "name": "stdout",
     "output_type": "stream",
     "text": [
      "                          Random Forest\n",
      "RMSE                             1.5681\n",
      "MAE                              1.1689\n",
      "MAPE (%)                         1.5471\n",
      "sMAPE (%)                        1.5432\n",
      "R²                               0.9515\n",
      "Explained Variance               0.9516\n",
      "Theil’s U                        0.0102\n",
      "Directional Accuracy (%)        51.9288\n"
     ]
    },
    {
     "data": {
      "application/vnd.plotly.v1+json": {
       "config": {
        "plotlyServerURL": "https://plot.ly"
       },
       "data": [
        {
         "mode": "lines",
         "name": "Actual",
         "type": "scatter",
         "x": [
          "2024-02-14T00:00:00",
          "2024-02-15T00:00:00",
          "2024-02-16T00:00:00",
          "2024-02-20T00:00:00",
          "2024-02-21T00:00:00",
          "2024-02-22T00:00:00",
          "2024-02-23T00:00:00",
          "2024-02-26T00:00:00",
          "2024-02-27T00:00:00",
          "2024-02-28T00:00:00",
          "2024-02-29T00:00:00",
          "2024-03-01T00:00:00",
          "2024-03-04T00:00:00",
          "2024-03-05T00:00:00",
          "2024-03-06T00:00:00",
          "2024-03-07T00:00:00",
          "2024-03-08T00:00:00",
          "2024-03-11T00:00:00",
          "2024-03-12T00:00:00",
          "2024-03-13T00:00:00",
          "2024-03-14T00:00:00",
          "2024-03-15T00:00:00",
          "2024-03-18T00:00:00",
          "2024-03-19T00:00:00",
          "2024-03-20T00:00:00",
          "2024-03-21T00:00:00",
          "2024-03-22T00:00:00",
          "2024-03-25T00:00:00",
          "2024-03-26T00:00:00",
          "2024-03-27T00:00:00",
          "2024-03-28T00:00:00",
          "2024-04-01T00:00:00",
          "2024-04-02T00:00:00",
          "2024-04-03T00:00:00",
          "2024-04-04T00:00:00",
          "2024-04-05T00:00:00",
          "2024-04-08T00:00:00",
          "2024-04-09T00:00:00",
          "2024-04-10T00:00:00",
          "2024-04-11T00:00:00",
          "2024-04-12T00:00:00",
          "2024-04-15T00:00:00",
          "2024-04-16T00:00:00",
          "2024-04-17T00:00:00",
          "2024-04-18T00:00:00",
          "2024-04-19T00:00:00",
          "2024-04-22T00:00:00",
          "2024-04-23T00:00:00",
          "2024-04-24T00:00:00",
          "2024-04-25T00:00:00",
          "2024-04-26T00:00:00",
          "2024-04-29T00:00:00",
          "2024-04-30T00:00:00",
          "2024-05-01T00:00:00",
          "2024-05-02T00:00:00",
          "2024-05-03T00:00:00",
          "2024-05-06T00:00:00",
          "2024-05-07T00:00:00",
          "2024-05-08T00:00:00",
          "2024-05-09T00:00:00",
          "2024-05-10T00:00:00",
          "2024-05-13T00:00:00",
          "2024-05-14T00:00:00",
          "2024-05-15T00:00:00",
          "2024-05-16T00:00:00",
          "2024-05-17T00:00:00",
          "2024-05-20T00:00:00",
          "2024-05-21T00:00:00",
          "2024-05-22T00:00:00",
          "2024-05-23T00:00:00",
          "2024-05-24T00:00:00",
          "2024-05-28T00:00:00",
          "2024-05-29T00:00:00",
          "2024-05-30T00:00:00",
          "2024-05-31T00:00:00",
          "2024-06-03T00:00:00",
          "2024-06-04T00:00:00",
          "2024-06-05T00:00:00",
          "2024-06-06T00:00:00",
          "2024-06-07T00:00:00",
          "2024-06-10T00:00:00",
          "2024-06-11T00:00:00",
          "2024-06-12T00:00:00",
          "2024-06-13T00:00:00",
          "2024-06-14T00:00:00",
          "2024-06-17T00:00:00",
          "2024-06-18T00:00:00",
          "2024-06-20T00:00:00",
          "2024-06-21T00:00:00",
          "2024-06-24T00:00:00",
          "2024-06-25T00:00:00",
          "2024-06-26T00:00:00",
          "2024-06-27T00:00:00",
          "2024-06-28T00:00:00",
          "2024-07-01T00:00:00",
          "2024-07-02T00:00:00",
          "2024-07-03T00:00:00",
          "2024-07-05T00:00:00",
          "2024-07-08T00:00:00",
          "2024-07-09T00:00:00",
          "2024-07-10T00:00:00",
          "2024-07-11T00:00:00",
          "2024-07-12T00:00:00",
          "2024-07-15T00:00:00",
          "2024-07-16T00:00:00",
          "2024-07-17T00:00:00",
          "2024-07-18T00:00:00",
          "2024-07-19T00:00:00",
          "2024-07-22T00:00:00",
          "2024-07-23T00:00:00",
          "2024-07-24T00:00:00",
          "2024-07-25T00:00:00",
          "2024-07-26T00:00:00",
          "2024-07-29T00:00:00",
          "2024-07-30T00:00:00",
          "2024-07-31T00:00:00",
          "2024-08-01T00:00:00",
          "2024-08-02T00:00:00",
          "2024-08-05T00:00:00",
          "2024-08-06T00:00:00",
          "2024-08-07T00:00:00",
          "2024-08-08T00:00:00",
          "2024-08-09T00:00:00",
          "2024-08-12T00:00:00",
          "2024-08-13T00:00:00",
          "2024-08-14T00:00:00",
          "2024-08-15T00:00:00",
          "2024-08-16T00:00:00",
          "2024-08-19T00:00:00",
          "2024-08-20T00:00:00",
          "2024-08-21T00:00:00",
          "2024-08-22T00:00:00",
          "2024-08-23T00:00:00",
          "2024-08-26T00:00:00",
          "2024-08-27T00:00:00",
          "2024-08-28T00:00:00",
          "2024-08-29T00:00:00",
          "2024-08-30T00:00:00",
          "2024-09-03T00:00:00",
          "2024-09-04T00:00:00",
          "2024-09-05T00:00:00",
          "2024-09-06T00:00:00",
          "2024-09-09T00:00:00",
          "2024-09-10T00:00:00",
          "2024-09-11T00:00:00",
          "2024-09-12T00:00:00",
          "2024-09-13T00:00:00",
          "2024-09-16T00:00:00",
          "2024-09-17T00:00:00",
          "2024-09-18T00:00:00",
          "2024-09-19T00:00:00",
          "2024-09-20T00:00:00",
          "2024-09-23T00:00:00",
          "2024-09-24T00:00:00",
          "2024-09-25T00:00:00",
          "2024-09-26T00:00:00",
          "2024-09-27T00:00:00",
          "2024-09-30T00:00:00",
          "2024-10-01T00:00:00",
          "2024-10-02T00:00:00",
          "2024-10-03T00:00:00",
          "2024-10-04T00:00:00",
          "2024-10-07T00:00:00",
          "2024-10-08T00:00:00",
          "2024-10-09T00:00:00",
          "2024-10-10T00:00:00",
          "2024-10-11T00:00:00",
          "2024-10-14T00:00:00",
          "2024-10-15T00:00:00",
          "2024-10-16T00:00:00",
          "2024-10-17T00:00:00",
          "2024-10-18T00:00:00",
          "2024-10-21T00:00:00",
          "2024-10-22T00:00:00",
          "2024-10-23T00:00:00",
          "2024-10-24T00:00:00",
          "2024-10-25T00:00:00",
          "2024-10-28T00:00:00",
          "2024-10-29T00:00:00",
          "2024-10-30T00:00:00",
          "2024-10-31T00:00:00",
          "2024-11-01T00:00:00",
          "2024-11-04T00:00:00",
          "2024-11-05T00:00:00",
          "2024-11-06T00:00:00",
          "2024-11-07T00:00:00",
          "2024-11-08T00:00:00",
          "2024-11-11T00:00:00",
          "2024-11-12T00:00:00",
          "2024-11-13T00:00:00",
          "2024-11-14T00:00:00",
          "2024-11-15T00:00:00",
          "2024-11-18T00:00:00",
          "2024-11-19T00:00:00",
          "2024-11-20T00:00:00",
          "2024-11-21T00:00:00",
          "2024-11-22T00:00:00",
          "2024-11-25T00:00:00",
          "2024-11-26T00:00:00",
          "2024-11-27T00:00:00",
          "2024-11-29T00:00:00",
          "2024-12-02T00:00:00",
          "2024-12-03T00:00:00",
          "2024-12-04T00:00:00",
          "2024-12-05T00:00:00",
          "2024-12-06T00:00:00",
          "2024-12-09T00:00:00",
          "2024-12-10T00:00:00",
          "2024-12-11T00:00:00",
          "2024-12-12T00:00:00",
          "2024-12-13T00:00:00",
          "2024-12-16T00:00:00",
          "2024-12-17T00:00:00",
          "2024-12-18T00:00:00",
          "2024-12-19T00:00:00",
          "2024-12-20T00:00:00",
          "2024-12-23T00:00:00",
          "2024-12-26T00:00:00",
          "2024-12-27T00:00:00",
          "2024-12-30T00:00:00",
          "2025-01-02T00:00:00",
          "2025-01-03T00:00:00",
          "2025-01-06T00:00:00",
          "2025-01-07T00:00:00",
          "2025-01-08T00:00:00",
          "2025-01-09T00:00:00",
          "2025-01-10T00:00:00",
          "2025-01-13T00:00:00",
          "2025-01-14T00:00:00",
          "2025-01-15T00:00:00",
          "2025-01-16T00:00:00",
          "2025-01-17T00:00:00",
          "2025-01-21T00:00:00",
          "2025-01-22T00:00:00",
          "2025-01-23T00:00:00",
          "2025-01-24T00:00:00",
          "2025-01-27T00:00:00",
          "2025-01-28T00:00:00",
          "2025-01-29T00:00:00",
          "2025-01-30T00:00:00",
          "2025-01-31T00:00:00",
          "2025-02-03T00:00:00",
          "2025-02-04T00:00:00",
          "2025-02-05T00:00:00",
          "2025-02-06T00:00:00",
          "2025-02-07T00:00:00",
          "2025-02-10T00:00:00",
          "2025-02-11T00:00:00",
          "2025-02-12T00:00:00",
          "2025-02-13T00:00:00",
          "2025-02-14T00:00:00",
          "2025-02-18T00:00:00",
          "2025-02-19T00:00:00",
          "2025-02-20T00:00:00",
          "2025-02-21T00:00:00",
          "2025-02-24T00:00:00",
          "2025-02-25T00:00:00",
          "2025-02-26T00:00:00",
          "2025-02-27T00:00:00",
          "2025-02-28T00:00:00",
          "2025-03-03T00:00:00",
          "2025-03-04T00:00:00",
          "2025-03-05T00:00:00",
          "2025-03-06T00:00:00",
          "2025-03-07T00:00:00",
          "2025-03-10T00:00:00",
          "2025-03-11T00:00:00",
          "2025-03-12T00:00:00",
          "2025-03-13T00:00:00",
          "2025-03-14T00:00:00",
          "2025-03-17T00:00:00",
          "2025-03-18T00:00:00",
          "2025-03-19T00:00:00",
          "2025-03-20T00:00:00",
          "2025-03-21T00:00:00",
          "2025-03-24T00:00:00",
          "2025-03-25T00:00:00",
          "2025-03-26T00:00:00",
          "2025-03-27T00:00:00",
          "2025-03-28T00:00:00",
          "2025-03-31T00:00:00",
          "2025-04-01T00:00:00",
          "2025-04-02T00:00:00",
          "2025-04-03T00:00:00",
          "2025-04-04T00:00:00",
          "2025-04-07T00:00:00",
          "2025-04-08T00:00:00",
          "2025-04-09T00:00:00",
          "2025-04-10T00:00:00",
          "2025-04-11T00:00:00",
          "2025-04-14T00:00:00",
          "2025-04-15T00:00:00",
          "2025-04-16T00:00:00",
          "2025-04-17T00:00:00",
          "2025-04-21T00:00:00",
          "2025-04-22T00:00:00",
          "2025-04-23T00:00:00",
          "2025-04-24T00:00:00",
          "2025-04-25T00:00:00",
          "2025-04-28T00:00:00",
          "2025-04-29T00:00:00",
          "2025-04-30T00:00:00",
          "2025-05-01T00:00:00",
          "2025-05-02T00:00:00",
          "2025-05-05T00:00:00",
          "2025-05-06T00:00:00",
          "2025-05-07T00:00:00",
          "2025-05-08T00:00:00",
          "2025-05-09T00:00:00",
          "2025-05-12T00:00:00",
          "2025-05-13T00:00:00",
          "2025-05-14T00:00:00",
          "2025-05-15T00:00:00",
          "2025-05-16T00:00:00",
          "2025-05-19T00:00:00",
          "2025-05-20T00:00:00",
          "2025-05-21T00:00:00",
          "2025-05-22T00:00:00",
          "2025-05-23T00:00:00",
          "2025-05-27T00:00:00",
          "2025-05-28T00:00:00",
          "2025-05-29T00:00:00",
          "2025-05-30T00:00:00",
          "2025-06-02T00:00:00",
          "2025-06-03T00:00:00",
          "2025-06-04T00:00:00",
          "2025-06-05T00:00:00",
          "2025-06-06T00:00:00",
          "2025-06-09T00:00:00",
          "2025-06-10T00:00:00",
          "2025-06-11T00:00:00",
          "2025-06-12T00:00:00",
          "2025-06-13T00:00:00",
          "2025-06-16T00:00:00",
          "2025-06-17T00:00:00",
          "2025-06-18T00:00:00",
          "2025-06-20T00:00:00",
          "2025-06-23T00:00:00"
         ],
         "y": {
          "bdata": "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",
          "dtype": "f8"
         }
        },
        {
         "mode": "lines",
         "name": "Predicted",
         "type": "scatter",
         "x": [
          "2024-02-14T00:00:00",
          "2024-02-15T00:00:00",
          "2024-02-16T00:00:00",
          "2024-02-20T00:00:00",
          "2024-02-21T00:00:00",
          "2024-02-22T00:00:00",
          "2024-02-23T00:00:00",
          "2024-02-26T00:00:00",
          "2024-02-27T00:00:00",
          "2024-02-28T00:00:00",
          "2024-02-29T00:00:00",
          "2024-03-01T00:00:00",
          "2024-03-04T00:00:00",
          "2024-03-05T00:00:00",
          "2024-03-06T00:00:00",
          "2024-03-07T00:00:00",
          "2024-03-08T00:00:00",
          "2024-03-11T00:00:00",
          "2024-03-12T00:00:00",
          "2024-03-13T00:00:00",
          "2024-03-14T00:00:00",
          "2024-03-15T00:00:00",
          "2024-03-18T00:00:00",
          "2024-03-19T00:00:00",
          "2024-03-20T00:00:00",
          "2024-03-21T00:00:00",
          "2024-03-22T00:00:00",
          "2024-03-25T00:00:00",
          "2024-03-26T00:00:00",
          "2024-03-27T00:00:00",
          "2024-03-28T00:00:00",
          "2024-04-01T00:00:00",
          "2024-04-02T00:00:00",
          "2024-04-03T00:00:00",
          "2024-04-04T00:00:00",
          "2024-04-05T00:00:00",
          "2024-04-08T00:00:00",
          "2024-04-09T00:00:00",
          "2024-04-10T00:00:00",
          "2024-04-11T00:00:00",
          "2024-04-12T00:00:00",
          "2024-04-15T00:00:00",
          "2024-04-16T00:00:00",
          "2024-04-17T00:00:00",
          "2024-04-18T00:00:00",
          "2024-04-19T00:00:00",
          "2024-04-22T00:00:00",
          "2024-04-23T00:00:00",
          "2024-04-24T00:00:00",
          "2024-04-25T00:00:00",
          "2024-04-26T00:00:00",
          "2024-04-29T00:00:00",
          "2024-04-30T00:00:00",
          "2024-05-01T00:00:00",
          "2024-05-02T00:00:00",
          "2024-05-03T00:00:00",
          "2024-05-06T00:00:00",
          "2024-05-07T00:00:00",
          "2024-05-08T00:00:00",
          "2024-05-09T00:00:00",
          "2024-05-10T00:00:00",
          "2024-05-13T00:00:00",
          "2024-05-14T00:00:00",
          "2024-05-15T00:00:00",
          "2024-05-16T00:00:00",
          "2024-05-17T00:00:00",
          "2024-05-20T00:00:00",
          "2024-05-21T00:00:00",
          "2024-05-22T00:00:00",
          "2024-05-23T00:00:00",
          "2024-05-24T00:00:00",
          "2024-05-28T00:00:00",
          "2024-05-29T00:00:00",
          "2024-05-30T00:00:00",
          "2024-05-31T00:00:00",
          "2024-06-03T00:00:00",
          "2024-06-04T00:00:00",
          "2024-06-05T00:00:00",
          "2024-06-06T00:00:00",
          "2024-06-07T00:00:00",
          "2024-06-10T00:00:00",
          "2024-06-11T00:00:00",
          "2024-06-12T00:00:00",
          "2024-06-13T00:00:00",
          "2024-06-14T00:00:00",
          "2024-06-17T00:00:00",
          "2024-06-18T00:00:00",
          "2024-06-20T00:00:00",
          "2024-06-21T00:00:00",
          "2024-06-24T00:00:00",
          "2024-06-25T00:00:00",
          "2024-06-26T00:00:00",
          "2024-06-27T00:00:00",
          "2024-06-28T00:00:00",
          "2024-07-01T00:00:00",
          "2024-07-02T00:00:00",
          "2024-07-03T00:00:00",
          "2024-07-05T00:00:00",
          "2024-07-08T00:00:00",
          "2024-07-09T00:00:00",
          "2024-07-10T00:00:00",
          "2024-07-11T00:00:00",
          "2024-07-12T00:00:00",
          "2024-07-15T00:00:00",
          "2024-07-16T00:00:00",
          "2024-07-17T00:00:00",
          "2024-07-18T00:00:00",
          "2024-07-19T00:00:00",
          "2024-07-22T00:00:00",
          "2024-07-23T00:00:00",
          "2024-07-24T00:00:00",
          "2024-07-25T00:00:00",
          "2024-07-26T00:00:00",
          "2024-07-29T00:00:00",
          "2024-07-30T00:00:00",
          "2024-07-31T00:00:00",
          "2024-08-01T00:00:00",
          "2024-08-02T00:00:00",
          "2024-08-05T00:00:00",
          "2024-08-06T00:00:00",
          "2024-08-07T00:00:00",
          "2024-08-08T00:00:00",
          "2024-08-09T00:00:00",
          "2024-08-12T00:00:00",
          "2024-08-13T00:00:00",
          "2024-08-14T00:00:00",
          "2024-08-15T00:00:00",
          "2024-08-16T00:00:00",
          "2024-08-19T00:00:00",
          "2024-08-20T00:00:00",
          "2024-08-21T00:00:00",
          "2024-08-22T00:00:00",
          "2024-08-23T00:00:00",
          "2024-08-26T00:00:00",
          "2024-08-27T00:00:00",
          "2024-08-28T00:00:00",
          "2024-08-29T00:00:00",
          "2024-08-30T00:00:00",
          "2024-09-03T00:00:00",
          "2024-09-04T00:00:00",
          "2024-09-05T00:00:00",
          "2024-09-06T00:00:00",
          "2024-09-09T00:00:00",
          "2024-09-10T00:00:00",
          "2024-09-11T00:00:00",
          "2024-09-12T00:00:00",
          "2024-09-13T00:00:00",
          "2024-09-16T00:00:00",
          "2024-09-17T00:00:00",
          "2024-09-18T00:00:00",
          "2024-09-19T00:00:00",
          "2024-09-20T00:00:00",
          "2024-09-23T00:00:00",
          "2024-09-24T00:00:00",
          "2024-09-25T00:00:00",
          "2024-09-26T00:00:00",
          "2024-09-27T00:00:00",
          "2024-09-30T00:00:00",
          "2024-10-01T00:00:00",
          "2024-10-02T00:00:00",
          "2024-10-03T00:00:00",
          "2024-10-04T00:00:00",
          "2024-10-07T00:00:00",
          "2024-10-08T00:00:00",
          "2024-10-09T00:00:00",
          "2024-10-10T00:00:00",
          "2024-10-11T00:00:00",
          "2024-10-14T00:00:00",
          "2024-10-15T00:00:00",
          "2024-10-16T00:00:00",
          "2024-10-17T00:00:00",
          "2024-10-18T00:00:00",
          "2024-10-21T00:00:00",
          "2024-10-22T00:00:00",
          "2024-10-23T00:00:00",
          "2024-10-24T00:00:00",
          "2024-10-25T00:00:00",
          "2024-10-28T00:00:00",
          "2024-10-29T00:00:00",
          "2024-10-30T00:00:00",
          "2024-10-31T00:00:00",
          "2024-11-01T00:00:00",
          "2024-11-04T00:00:00",
          "2024-11-05T00:00:00",
          "2024-11-06T00:00:00",
          "2024-11-07T00:00:00",
          "2024-11-08T00:00:00",
          "2024-11-11T00:00:00",
          "2024-11-12T00:00:00",
          "2024-11-13T00:00:00",
          "2024-11-14T00:00:00",
          "2024-11-15T00:00:00",
          "2024-11-18T00:00:00",
          "2024-11-19T00:00:00",
          "2024-11-20T00:00:00",
          "2024-11-21T00:00:00",
          "2024-11-22T00:00:00",
          "2024-11-25T00:00:00",
          "2024-11-26T00:00:00",
          "2024-11-27T00:00:00",
          "2024-11-29T00:00:00",
          "2024-12-02T00:00:00",
          "2024-12-03T00:00:00",
          "2024-12-04T00:00:00",
          "2024-12-05T00:00:00",
          "2024-12-06T00:00:00",
          "2024-12-09T00:00:00",
          "2024-12-10T00:00:00",
          "2024-12-11T00:00:00",
          "2024-12-12T00:00:00",
          "2024-12-13T00:00:00",
          "2024-12-16T00:00:00",
          "2024-12-17T00:00:00",
          "2024-12-18T00:00:00",
          "2024-12-19T00:00:00",
          "2024-12-20T00:00:00",
          "2024-12-23T00:00:00",
          "2024-12-26T00:00:00",
          "2024-12-27T00:00:00",
          "2024-12-30T00:00:00",
          "2025-01-02T00:00:00",
          "2025-01-03T00:00:00",
          "2025-01-06T00:00:00",
          "2025-01-07T00:00:00",
          "2025-01-08T00:00:00",
          "2025-01-09T00:00:00",
          "2025-01-10T00:00:00",
          "2025-01-13T00:00:00",
          "2025-01-14T00:00:00",
          "2025-01-15T00:00:00",
          "2025-01-16T00:00:00",
          "2025-01-17T00:00:00",
          "2025-01-21T00:00:00",
          "2025-01-22T00:00:00",
          "2025-01-23T00:00:00",
          "2025-01-24T00:00:00",
          "2025-01-27T00:00:00",
          "2025-01-28T00:00:00",
          "2025-01-29T00:00:00",
          "2025-01-30T00:00:00",
          "2025-01-31T00:00:00",
          "2025-02-03T00:00:00",
          "2025-02-04T00:00:00",
          "2025-02-05T00:00:00",
          "2025-02-06T00:00:00",
          "2025-02-07T00:00:00",
          "2025-02-10T00:00:00",
          "2025-02-11T00:00:00",
          "2025-02-12T00:00:00",
          "2025-02-13T00:00:00",
          "2025-02-14T00:00:00",
          "2025-02-18T00:00:00",
          "2025-02-19T00:00:00",
          "2025-02-20T00:00:00",
          "2025-02-21T00:00:00",
          "2025-02-24T00:00:00",
          "2025-02-25T00:00:00",
          "2025-02-26T00:00:00",
          "2025-02-27T00:00:00",
          "2025-02-28T00:00:00",
          "2025-03-03T00:00:00",
          "2025-03-04T00:00:00",
          "2025-03-05T00:00:00",
          "2025-03-06T00:00:00",
          "2025-03-07T00:00:00",
          "2025-03-10T00:00:00",
          "2025-03-11T00:00:00",
          "2025-03-12T00:00:00",
          "2025-03-13T00:00:00",
          "2025-03-14T00:00:00",
          "2025-03-17T00:00:00",
          "2025-03-18T00:00:00",
          "2025-03-19T00:00:00",
          "2025-03-20T00:00:00",
          "2025-03-21T00:00:00",
          "2025-03-24T00:00:00",
          "2025-03-25T00:00:00",
          "2025-03-26T00:00:00",
          "2025-03-27T00:00:00",
          "2025-03-28T00:00:00",
          "2025-03-31T00:00:00",
          "2025-04-01T00:00:00",
          "2025-04-02T00:00:00",
          "2025-04-03T00:00:00",
          "2025-04-04T00:00:00",
          "2025-04-07T00:00:00",
          "2025-04-08T00:00:00",
          "2025-04-09T00:00:00",
          "2025-04-10T00:00:00",
          "2025-04-11T00:00:00",
          "2025-04-14T00:00:00",
          "2025-04-15T00:00:00",
          "2025-04-16T00:00:00",
          "2025-04-17T00:00:00",
          "2025-04-21T00:00:00",
          "2025-04-22T00:00:00",
          "2025-04-23T00:00:00",
          "2025-04-24T00:00:00",
          "2025-04-25T00:00:00",
          "2025-04-28T00:00:00",
          "2025-04-29T00:00:00",
          "2025-04-30T00:00:00",
          "2025-05-01T00:00:00",
          "2025-05-02T00:00:00",
          "2025-05-05T00:00:00",
          "2025-05-06T00:00:00",
          "2025-05-07T00:00:00",
          "2025-05-08T00:00:00",
          "2025-05-09T00:00:00",
          "2025-05-12T00:00:00",
          "2025-05-13T00:00:00",
          "2025-05-14T00:00:00",
          "2025-05-15T00:00:00",
          "2025-05-16T00:00:00",
          "2025-05-19T00:00:00",
          "2025-05-20T00:00:00",
          "2025-05-21T00:00:00",
          "2025-05-22T00:00:00",
          "2025-05-23T00:00:00",
          "2025-05-27T00:00:00",
          "2025-05-28T00:00:00",
          "2025-05-29T00:00:00",
          "2025-05-30T00:00:00",
          "2025-06-02T00:00:00",
          "2025-06-03T00:00:00",
          "2025-06-04T00:00:00",
          "2025-06-05T00:00:00",
          "2025-06-06T00:00:00",
          "2025-06-09T00:00:00",
          "2025-06-10T00:00:00",
          "2025-06-11T00:00:00",
          "2025-06-12T00:00:00",
          "2025-06-13T00:00:00",
          "2025-06-16T00:00:00",
          "2025-06-17T00:00:00",
          "2025-06-18T00:00:00",
          "2025-06-20T00:00:00",
          "2025-06-23T00:00:00"
         ],
         "y": {
          "bdata": "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",
          "dtype": "f8"
         }
        }
       ],
       "layout": {
        "legend": {
         "orientation": "h",
         "y": -0.2
        },
        "template": {
         "data": {
          "bar": [
           {
            "error_x": {
             "color": "#2a3f5f"
            },
            "error_y": {
             "color": "#2a3f5f"
            },
            "marker": {
             "line": {
              "color": "white",
              "width": 0.5
             },
             "pattern": {
              "fillmode": "overlay",
              "size": 10,
              "solidity": 0.2
             }
            },
            "type": "bar"
           }
          ],
          "barpolar": [
           {
            "marker": {
             "line": {
              "color": "white",
              "width": 0.5
             },
             "pattern": {
              "fillmode": "overlay",
              "size": 10,
              "solidity": 0.2
             }
            },
            "type": "barpolar"
           }
          ],
          "carpet": [
           {
            "aaxis": {
             "endlinecolor": "#2a3f5f",
             "gridcolor": "#C8D4E3",
             "linecolor": "#C8D4E3",
             "minorgridcolor": "#C8D4E3",
             "startlinecolor": "#2a3f5f"
            },
            "baxis": {
             "endlinecolor": "#2a3f5f",
             "gridcolor": "#C8D4E3",
             "linecolor": "#C8D4E3",
             "minorgridcolor": "#C8D4E3",
             "startlinecolor": "#2a3f5f"
            },
            "type": "carpet"
           }
          ],
          "choropleth": [
           {
            "colorbar": {
             "outlinewidth": 0,
             "ticks": ""
            },
            "type": "choropleth"
           }
          ],
          "contour": [
           {
            "colorbar": {
             "outlinewidth": 0,
             "ticks": ""
            },
            "colorscale": [
             [
              0,
              "#0d0887"
             ],
             [
              0.1111111111111111,
              "#46039f"
             ],
             [
              0.2222222222222222,
              "#7201a8"
             ],
             [
              0.3333333333333333,
              "#9c179e"
             ],
             [
              0.4444444444444444,
              "#bd3786"
             ],
             [
              0.5555555555555556,
              "#d8576b"
             ],
             [
              0.6666666666666666,
              "#ed7953"
             ],
             [
              0.7777777777777778,
              "#fb9f3a"
             ],
             [
              0.8888888888888888,
              "#fdca26"
             ],
             [
              1,
              "#f0f921"
             ]
            ],
            "type": "contour"
           }
          ],
          "contourcarpet": [
           {
            "colorbar": {
             "outlinewidth": 0,
             "ticks": ""
            },
            "type": "contourcarpet"
           }
          ],
          "heatmap": [
           {
            "colorbar": {
             "outlinewidth": 0,
             "ticks": ""
            },
            "colorscale": [
             [
              0,
              "#0d0887"
             ],
             [
              0.1111111111111111,
              "#46039f"
             ],
             [
              0.2222222222222222,
              "#7201a8"
             ],
             [
              0.3333333333333333,
              "#9c179e"
             ],
             [
              0.4444444444444444,
              "#bd3786"
             ],
             [
              0.5555555555555556,
              "#d8576b"
             ],
             [
              0.6666666666666666,
              "#ed7953"
             ],
             [
              0.7777777777777778,
              "#fb9f3a"
             ],
             [
              0.8888888888888888,
              "#fdca26"
             ],
             [
              1,
              "#f0f921"
             ]
            ],
            "type": "heatmap"
           }
          ],
          "histogram": [
           {
            "marker": {
             "pattern": {
              "fillmode": "overlay",
              "size": 10,
              "solidity": 0.2
             }
            },
            "type": "histogram"
           }
          ],
          "histogram2d": [
           {
            "colorbar": {
             "outlinewidth": 0,
             "ticks": ""
            },
            "colorscale": [
             [
              0,
              "#0d0887"
             ],
             [
              0.1111111111111111,
              "#46039f"
             ],
             [
              0.2222222222222222,
              "#7201a8"
             ],
             [
              0.3333333333333333,
              "#9c179e"
             ],
             [
              0.4444444444444444,
              "#bd3786"
             ],
             [
              0.5555555555555556,
              "#d8576b"
             ],
             [
              0.6666666666666666,
              "#ed7953"
             ],
             [
              0.7777777777777778,
              "#fb9f3a"
             ],
             [
              0.8888888888888888,
              "#fdca26"
             ],
             [
              1,
              "#f0f921"
             ]
            ],
            "type": "histogram2d"
           }
          ],
          "histogram2dcontour": [
           {
            "colorbar": {
             "outlinewidth": 0,
             "ticks": ""
            },
            "colorscale": [
             [
              0,
              "#0d0887"
             ],
             [
              0.1111111111111111,
              "#46039f"
             ],
             [
              0.2222222222222222,
              "#7201a8"
             ],
             [
              0.3333333333333333,
              "#9c179e"
             ],
             [
              0.4444444444444444,
              "#bd3786"
             ],
             [
              0.5555555555555556,
              "#d8576b"
             ],
             [
              0.6666666666666666,
              "#ed7953"
             ],
             [
              0.7777777777777778,
              "#fb9f3a"
             ],
             [
              0.8888888888888888,
              "#fdca26"
             ],
             [
              1,
              "#f0f921"
             ]
            ],
            "type": "histogram2dcontour"
           }
          ],
          "mesh3d": [
           {
            "colorbar": {
             "outlinewidth": 0,
             "ticks": ""
            },
            "type": "mesh3d"
           }
          ],
          "parcoords": [
           {
            "line": {
             "colorbar": {
              "outlinewidth": 0,
              "ticks": ""
             }
            },
            "type": "parcoords"
           }
          ],
          "pie": [
           {
            "automargin": true,
            "type": "pie"
           }
          ],
          "scatter": [
           {
            "fillpattern": {
             "fillmode": "overlay",
             "size": 10,
             "solidity": 0.2
            },
            "type": "scatter"
           }
          ],
          "scatter3d": [
           {
            "line": {
             "colorbar": {
              "outlinewidth": 0,
              "ticks": ""
             }
            },
            "marker": {
             "colorbar": {
              "outlinewidth": 0,
              "ticks": ""
             }
            },
            "type": "scatter3d"
           }
          ],
          "scattercarpet": [
           {
            "marker": {
             "colorbar": {
              "outlinewidth": 0,
              "ticks": ""
             }
            },
            "type": "scattercarpet"
           }
          ],
          "scattergeo": [
           {
            "marker": {
             "colorbar": {
              "outlinewidth": 0,
              "ticks": ""
             }
            },
            "type": "scattergeo"
           }
          ],
          "scattergl": [
           {
            "marker": {
             "colorbar": {
              "outlinewidth": 0,
              "ticks": ""
             }
            },
            "type": "scattergl"
           }
          ],
          "scattermap": [
           {
            "marker": {
             "colorbar": {
              "outlinewidth": 0,
              "ticks": ""
             }
            },
            "type": "scattermap"
           }
          ],
          "scattermapbox": [
           {
            "marker": {
             "colorbar": {
              "outlinewidth": 0,
              "ticks": ""
             }
            },
            "type": "scattermapbox"
           }
          ],
          "scatterpolar": [
           {
            "marker": {
             "colorbar": {
              "outlinewidth": 0,
              "ticks": ""
             }
            },
            "type": "scatterpolar"
           }
          ],
          "scatterpolargl": [
           {
            "marker": {
             "colorbar": {
              "outlinewidth": 0,
              "ticks": ""
             }
            },
            "type": "scatterpolargl"
           }
          ],
          "scatterternary": [
           {
            "marker": {
             "colorbar": {
              "outlinewidth": 0,
              "ticks": ""
             }
            },
            "type": "scatterternary"
           }
          ],
          "surface": [
           {
            "colorbar": {
             "outlinewidth": 0,
             "ticks": ""
            },
            "colorscale": [
             [
              0,
              "#0d0887"
             ],
             [
              0.1111111111111111,
              "#46039f"
             ],
             [
              0.2222222222222222,
              "#7201a8"
             ],
             [
              0.3333333333333333,
              "#9c179e"
             ],
             [
              0.4444444444444444,
              "#bd3786"
             ],
             [
              0.5555555555555556,
              "#d8576b"
             ],
             [
              0.6666666666666666,
              "#ed7953"
             ],
             [
              0.7777777777777778,
              "#fb9f3a"
             ],
             [
              0.8888888888888888,
              "#fdca26"
             ],
             [
              1,
              "#f0f921"
             ]
            ],
            "type": "surface"
           }
          ],
          "table": [
           {
            "cells": {
             "fill": {
              "color": "#EBF0F8"
             },
             "line": {
              "color": "white"
             }
            },
            "header": {
             "fill": {
              "color": "#C8D4E3"
             },
             "line": {
              "color": "white"
             }
            },
            "type": "table"
           }
          ]
         },
         "layout": {
          "annotationdefaults": {
           "arrowcolor": "#2a3f5f",
           "arrowhead": 0,
           "arrowwidth": 1
          },
          "autotypenumbers": "strict",
          "coloraxis": {
           "colorbar": {
            "outlinewidth": 0,
            "ticks": ""
           }
          },
          "colorscale": {
           "diverging": [
            [
             0,
             "#8e0152"
            ],
            [
             0.1,
             "#c51b7d"
            ],
            [
             0.2,
             "#de77ae"
            ],
            [
             0.3,
             "#f1b6da"
            ],
            [
             0.4,
             "#fde0ef"
            ],
            [
             0.5,
             "#f7f7f7"
            ],
            [
             0.6,
             "#e6f5d0"
            ],
            [
             0.7,
             "#b8e186"
            ],
            [
             0.8,
             "#7fbc41"
            ],
            [
             0.9,
             "#4d9221"
            ],
            [
             1,
             "#276419"
            ]
           ],
           "sequential": [
            [
             0,
             "#0d0887"
            ],
            [
             0.1111111111111111,
             "#46039f"
            ],
            [
             0.2222222222222222,
             "#7201a8"
            ],
            [
             0.3333333333333333,
             "#9c179e"
            ],
            [
             0.4444444444444444,
             "#bd3786"
            ],
            [
             0.5555555555555556,
             "#d8576b"
            ],
            [
             0.6666666666666666,
             "#ed7953"
            ],
            [
             0.7777777777777778,
             "#fb9f3a"
            ],
            [
             0.8888888888888888,
             "#fdca26"
            ],
            [
             1,
             "#f0f921"
            ]
           ],
           "sequentialminus": [
            [
             0,
             "#0d0887"
            ],
            [
             0.1111111111111111,
             "#46039f"
            ],
            [
             0.2222222222222222,
             "#7201a8"
            ],
            [
             0.3333333333333333,
             "#9c179e"
            ],
            [
             0.4444444444444444,
             "#bd3786"
            ],
            [
             0.5555555555555556,
             "#d8576b"
            ],
            [
             0.6666666666666666,
             "#ed7953"
            ],
            [
             0.7777777777777778,
             "#fb9f3a"
            ],
            [
             0.8888888888888888,
             "#fdca26"
            ],
            [
             1,
             "#f0f921"
            ]
           ]
          },
          "colorway": [
           "#636efa",
           "#EF553B",
           "#00cc96",
           "#ab63fa",
           "#FFA15A",
           "#19d3f3",
           "#FF6692",
           "#B6E880",
           "#FF97FF",
           "#FECB52"
          ],
          "font": {
           "color": "#2a3f5f"
          },
          "geo": {
           "bgcolor": "white",
           "lakecolor": "white",
           "landcolor": "white",
           "showlakes": true,
           "showland": true,
           "subunitcolor": "#C8D4E3"
          },
          "hoverlabel": {
           "align": "left"
          },
          "hovermode": "closest",
          "mapbox": {
           "style": "light"
          },
          "paper_bgcolor": "white",
          "plot_bgcolor": "white",
          "polar": {
           "angularaxis": {
            "gridcolor": "#EBF0F8",
            "linecolor": "#EBF0F8",
            "ticks": ""
           },
           "bgcolor": "white",
           "radialaxis": {
            "gridcolor": "#EBF0F8",
            "linecolor": "#EBF0F8",
            "ticks": ""
           }
          },
          "scene": {
           "xaxis": {
            "backgroundcolor": "white",
            "gridcolor": "#DFE8F3",
            "gridwidth": 2,
            "linecolor": "#EBF0F8",
            "showbackground": true,
            "ticks": "",
            "zerolinecolor": "#EBF0F8"
           },
           "yaxis": {
            "backgroundcolor": "white",
            "gridcolor": "#DFE8F3",
            "gridwidth": 2,
            "linecolor": "#EBF0F8",
            "showbackground": true,
            "ticks": "",
            "zerolinecolor": "#EBF0F8"
           },
           "zaxis": {
            "backgroundcolor": "white",
            "gridcolor": "#DFE8F3",
            "gridwidth": 2,
            "linecolor": "#EBF0F8",
            "showbackground": true,
            "ticks": "",
            "zerolinecolor": "#EBF0F8"
           }
          },
          "shapedefaults": {
           "line": {
            "color": "#2a3f5f"
           }
          },
          "ternary": {
           "aaxis": {
            "gridcolor": "#DFE8F3",
            "linecolor": "#A2B1C6",
            "ticks": ""
           },
           "baxis": {
            "gridcolor": "#DFE8F3",
            "linecolor": "#A2B1C6",
            "ticks": ""
           },
           "bgcolor": "white",
           "caxis": {
            "gridcolor": "#DFE8F3",
            "linecolor": "#A2B1C6",
            "ticks": ""
           }
          },
          "title": {
           "x": 0.05
          },
          "xaxis": {
           "automargin": true,
           "gridcolor": "#EBF0F8",
           "linecolor": "#EBF0F8",
           "ticks": "",
           "title": {
            "standoff": 15
           },
           "zerolinecolor": "#EBF0F8",
           "zerolinewidth": 2
          },
          "yaxis": {
           "automargin": true,
           "gridcolor": "#EBF0F8",
           "linecolor": "#EBF0F8",
           "ticks": "",
           "title": {
            "standoff": 15
           },
           "zerolinecolor": "#EBF0F8",
           "zerolinewidth": 2
          }
         }
        },
        "title": {
         "text": "Brent Crude Oil – Actual vs Predicted"
        },
        "xaxis": {
         "title": {
          "text": "Date"
         }
        },
        "yaxis": {
         "title": {
          "text": "Price (USD)"
         }
        }
       }
      }
     },
     "metadata": {},
     "output_type": "display_data"
    }
   ],
   "source": [
    "import yfinance as yf\n",
    "import pandas as pd\n",
    "import numpy as np\n",
    "from sklearn.ensemble import RandomForestRegressor\n",
    "from sklearn.metrics import (\n",
    "    mean_squared_error,\n",
    "    mean_absolute_error,\n",
    "    mean_absolute_percentage_error,\n",
    "    r2_score,\n",
    "    explained_variance_score\n",
    ")\n",
    "import plotly.graph_objects as go\n",
    "\n",
    "SEED = 42\n",
    "np.random.seed(SEED)\n",
    "\n",
    "# === 1. Download Brent crude oil price data ==================================\n",
    "df = (\n",
    "    yf.download(\"BZ=F\", start=\"2011-06-13\", end=\"2025-06-25\")[['Close']]\n",
    "      .rename(columns={'Close': 'Price'})\n",
    "      .dropna()\n",
    ")\n",
    "\n",
    "# === 2. Load & align embeddings =============================================\n",
    "emb = (\n",
    "    pd.read_csv('../Data/raw/embeddings_feature_distilbert-base-uncased.csv', parse_dates=['date'])\n",
    "      .set_index('date')\n",
    ")\n",
    "# Rialliniamo all'indice di df\n",
    "emb = emb.reindex(df.index).ffill().bfill()\n",
    "\n",
    "sent = (\n",
    "    pd.read_csv('../Data/raw/daily_sent.csv', parse_dates=['Date'])\n",
    "      .set_index('Date')\n",
    ")\n",
    "\n",
    "# Aggiungiamo gli embedding al DataFrame principale\n",
    "\n",
    "df['SENT_1'] = emb['embedding_2d_1_mean']\n",
    "df['SENT_2'] = emb['embedding_2d_2_mean']\n",
    "df['cosine_sim']            = emb['cosine_sim']\n",
    "df['drift']                 = emb['drift']\n",
    "df['drift_velocity']        = emb['drift_velocity']\n",
    "df['drift_velocity_diff']   = emb['drift_velocity_diff']\n",
    "df['drift_acceleration']    = emb['drift_acceleration']\n",
    "df['var_2d_1']              = emb['embedding_2d_1_var_daily']\n",
    "df['var_2d_2']              = emb['embedding_2d_2_var_daily']\n",
    "df['sentiment']             = sent['avg_score']\n",
    "\n",
    "# === 3. Costruzione delle lag-feature =======================================\n",
    "# Lag dei prezzi\n",
    "for lag in range(1, 6):\n",
    "    df[f'price_lag_{lag}'] = df['Price'].shift(lag)\n",
    "\n",
    "\n",
    "\n",
    "# Target = prezzo del giorno successivo\n",
    "df['target'] = df['Price'].shift(-1)\n",
    "df.dropna(inplace=True)\n",
    "\n",
    "# === 4. Train-test split (90/10) ============================================\n",
    "\n",
    "feat_cols = [\n",
    "    'Price',\n",
    "    'SENT_1','SENT_2',\n",
    "    'cosine_sim','drift','drift_velocity','drift_velocity_diff','drift_acceleration',\n",
    "    'var_2d_1','var_2d_2',\n",
    "    'sentiment'\n",
    "]\n",
    "\n",
    "X = df[feat_cols]\n",
    "y = df['target']\n",
    "split_idx = int(len(df) * 0.9)\n",
    "X_train, X_test = X.iloc[:split_idx], X.iloc[split_idx:]\n",
    "y_train, y_test = y.iloc[:split_idx], y.iloc[split_idx:]\n",
    "\n",
    "# === 5. Train Random Forest =================================================\n",
    "rf = RandomForestRegressor(n_estimators=200, random_state=SEED, n_jobs=-1)\n",
    "rf.fit(X_train, y_train)\n",
    "preds = rf.predict(X_test)\n",
    "\n",
    "# === 6. Metriche di valutazione ============================================\n",
    "def smape(y_true, y_pred):\n",
    "    denom = (np.abs(y_true) + np.abs(y_pred)) / 2\n",
    "    return np.mean(np.abs(y_true - y_pred) / denom) * 100\n",
    "\n",
    "def theils_u(y_true, y_pred):\n",
    "    rmsfe = np.sqrt(np.mean((y_pred - y_true) ** 2))\n",
    "    denom = (np.sqrt(np.mean(y_true ** 2)) +\n",
    "             np.sqrt(np.mean(y_pred ** 2)))\n",
    "    return rmsfe / denom\n",
    "\n",
    "metrics = {\n",
    "    \"RMSE\": np.sqrt(mean_squared_error(y_test, preds)),\n",
    "    \"MAE\": mean_absolute_error(y_test, preds),\n",
    "    \"MAPE (%)\": mean_absolute_percentage_error(y_test, preds) * 100,\n",
    "    \"sMAPE (%)\": smape(y_test.values, preds),\n",
    "    \"R²\": r2_score(y_test, preds),\n",
    "    \"Explained Variance\": explained_variance_score(y_test, preds),\n",
    "    \"Theil’s U\": theils_u(y_test.values, preds),\n",
    "    \"Directional Accuracy (%)\": (\n",
    "        np.mean(\n",
    "            np.sign(y_test.values[1:] - y_test.values[:-1]) ==\n",
    "            np.sign(preds[1:] - y_test.values[:-1])\n",
    "        ) * 100\n",
    "    )\n",
    "}\n",
    "\n",
    "print(pd.Series(metrics).to_frame('Random Forest').round(4))\n",
    "\n",
    "# === 7. Grafico Plotly Actual vs Predicted =================================\n",
    "fig = go.Figure()\n",
    "fig.add_trace(go.Scatter(\n",
    "    x=y_test.index, y=y_test, mode='lines', name='Actual'\n",
    "))\n",
    "fig.add_trace(go.Scatter(\n",
    "    x=y_test.index, y=preds, mode='lines', name='Predicted'\n",
    "))\n",
    "fig.update_layout(\n",
    "    title='Brent Crude Oil – Actual vs Predicted',\n",
    "    xaxis_title='Date',\n",
    "    yaxis_title='Price (USD)',\n",
    "    template='plotly_white',\n",
    "    legend=dict(orientation='h', y=-0.2)\n",
    ")\n",
    "fig.show()\n"
   ]
  },
  {
   "cell_type": "code",
   "execution_count": 3,
   "metadata": {},
   "outputs": [
    {
     "name": "stderr",
     "output_type": "stream",
     "text": [
      "/opt/homebrew/lib/python3.11/site-packages/tqdm/auto.py:21: TqdmWarning:\n",
      "\n",
      "IProgress not found. Please update jupyter and ipywidgets. See https://ipywidgets.readthedocs.io/en/stable/user_install.html\n",
      "\n"
     ]
    },
    {
     "data": {
      "image/png": "[encoded data removed]",
      "text/plain": [
       "<Figure size 640x480 with 1 Axes>"
      ]
     },
     "metadata": {},
     "output_type": "display_data"
    }
   ],
   "source": [
    "import shap\n",
    "\n",
    "explainer = shap.TreeExplainer(rf)\n",
    "\n",
    "def shap_bar_plot_for_date(date_str):\n",
    "    date = pd.to_datetime(date_str)\n",
    "    if date not in X_test.index:\n",
    "        print(f\"Data {date_str} non trovata nel test set.\")\n",
    "        return\n",
    "\n",
    "    x_instance = X_test.loc[date].values.reshape(1, -1)\n",
    "    shap_values = explainer.shap_values(x_instance)\n",
    "\n",
    "    shap.bar_plot(shap_values[0], feature_names=feat_cols)\n",
    "\n",
    "shap_bar_plot_for_date(\"2025-04-02\")"
   ]
  },
  {
   "cell_type": "code",
   "execution_count": 4,
   "metadata": {},
   "outputs": [
    {
     "data": {
      "text/plain": [
       "Price   Ticker\n",
       "Price   BZ=F      74.949997\n",
       "target            70.139999\n",
       "Name: 2025-04-02 00:00:00, dtype: float64"
      ]
     },
     "execution_count": 4,
     "metadata": {},
     "output_type": "execute_result"
    }
   ],
   "source": [
    "df.loc['2025-04-02', ['Price', 'target']]"
   ]
  },
  {
   "cell_type": "code",
   "execution_count": 5,
   "metadata": {},
   "outputs": [
    {
     "data": {
      "text/plain": [
       "70.08345050811768"
      ]
     },
     "execution_count": 5,
     "metadata": {},
     "output_type": "execute_result"
    }
   ],
   "source": [
    "date_target = '2025-04-03'\n",
    "idx = y_test.index.get_loc(date_target)\n",
    "preds[idx]"
   ]
  },
  {
   "cell_type": "code",
   "execution_count": 7,
   "metadata": {},
   "outputs": [
    {
     "data": {
      "text/plain": [
       "645    15\n",
       "646     8\n",
       "647     8\n",
       "648     3\n",
       "649    12\n",
       "650     0\n",
       "651     3\n",
       "652     3\n",
       "653    16\n",
       "654     3\n",
       "655     3\n",
       "656    11\n",
       "Name: cluster, dtype: int64"
      ]
     },
     "execution_count": 7,
     "metadata": {},
     "output_type": "execute_result"
    }
   ],
   "source": [
    "import pandas as pd\n",
    "\n",
    "df_1 = pd.read_csv(\"../Data/raw/embeddings_CA_dBert.csv\")\n",
    "df_1.drop(columns=['Unnamed: 0'], inplace=True)\n",
    "df_1[df_1[\"Date\"] == \"2025-04-02\"][\"cluster\"]"
   ]
  },
  {
   "cell_type": "code",
   "execution_count": 8,
   "metadata": {},
   "outputs": [
    {
     "data": {
      "image/png": "[encoded data removed]",
      "text/plain": [
       "<Figure size 640x480 with 1 Axes>"
      ]
     },
     "metadata": {},
     "output_type": "display_data"
    }
   ],
   "source": [
    "explainer = shap.TreeExplainer(rf)\n",
    "\n",
    "def shap_bar_plot_for_date(date_str):\n",
    "    date = pd.to_datetime(date_str)\n",
    "    if date not in X_test.index:\n",
    "        print(f\"Data {date_str} non trovata nel test set.\")\n",
    "        return\n",
    "\n",
    "    x_instance = X_test.loc[date].values.reshape(1, -1)\n",
    "    shap_values = explainer.shap_values(x_instance)\n",
    "\n",
    "    shap.bar_plot(shap_values[0], feature_names=feat_cols)\n",
    "\n",
    "shap_bar_plot_for_date(\"2025-06-17\")"
   ]
  },
  {
   "cell_type": "code",
   "execution_count": 9,
   "metadata": {},
   "outputs": [
    {
     "data": {
      "text/plain": [
       "Price   Ticker\n",
       "Price   BZ=F      76.449997\n",
       "target            76.699997\n",
       "Name: 2025-06-17 00:00:00, dtype: float64"
      ]
     },
     "execution_count": 9,
     "metadata": {},
     "output_type": "execute_result"
    }
   ],
   "source": [
    "df.loc['2025-06-17', ['Price', 'target']]"
   ]
  },
  {
   "cell_type": "code",
   "execution_count": 10,
   "metadata": {},
   "outputs": [
    {
     "data": {
      "text/plain": [
       "76.381650390625"
      ]
     },
     "execution_count": 10,
     "metadata": {},
     "output_type": "execute_result"
    }
   ],
   "source": [
    "date_target = '2025-06-18'\n",
    "idx = y_test.index.get_loc(date_target)\n",
    "preds[idx]\n"
   ]
  },
  {
   "cell_type": "code",
   "execution_count": 11,
   "metadata": {},
   "outputs": [
    {
     "data": {
      "text/plain": [
       "60     9\n",
       "61     4\n",
       "62    13\n",
       "63     6\n",
       "64    11\n",
       "65     0\n",
       "66     8\n",
       "67    11\n",
       "68    13\n",
       "69     2\n",
       "70    13\n",
       "Name: cluster, dtype: int64"
      ]
     },
     "execution_count": 11,
     "metadata": {},
     "output_type": "execute_result"
    }
   ],
   "source": [
    "df_1 = pd.read_csv(\"../Data/raw/embeddings_CA_ST.csv\")\n",
    "df_1.drop(columns=['Unnamed: 0'], inplace=True)\n",
    "df_1[df_1[\"Date\"] == \"2025-06-17\"][\"cluster\"]"
   ]
  },
  {
   "cell_type": "markdown",
   "metadata": {},
   "source": [
    "## XGBOOST"
   ]
  },
  {
   "cell_type": "code",
   "execution_count": null,
   "metadata": {},
   "outputs": [
    {
     "name": "stderr",
     "output_type": "stream",
     "text": [
      "[*********************100%***********************]  1 of 1 completed\n"
     ]
    },
    {
     "name": "stdout",
     "output_type": "stream",
     "text": [
      "                          XGBoost\n",
      "RMSE                       1.7188\n",
      "MAE                        1.2609\n",
      "MAPE (%)                   1.6570\n",
      "sMAPE (%)                  1.6508\n",
      "R²                         0.9417\n",
      "Explained Variance         0.9422\n",
      "Theil’s U                  0.0111\n",
      "Directional Accuracy (%)  53.7092\n"
     ]
    },
    {
     "data": {
      "application/vnd.plotly.v1+json": {
       "config": {
        "plotlyServerURL": "https://plot.ly"
       },
       "data": [
        {
         "mode": "lines",
         "name": "Actual",
         "type": "scatter",
         "x": [
          "2024-02-14T00:00:00.000000000",
          "2024-02-15T00:00:00.000000000",
          "2024-02-16T00:00:00.000000000",
          "2024-02-20T00:00:00.000000000",
          "2024-02-21T00:00:00.000000000",
          "2024-02-22T00:00:00.000000000",
          "2024-02-23T00:00:00.000000000",
          "2024-02-26T00:00:00.000000000",
          "2024-02-27T00:00:00.000000000",
          "2024-02-28T00:00:00.000000000",
          "2024-02-29T00:00:00.000000000",
          "2024-03-01T00:00:00.000000000",
          "2024-03-04T00:00:00.000000000",
          "2024-03-05T00:00:00.000000000",
          "2024-03-06T00:00:00.000000000",
          "2024-03-07T00:00:00.000000000",
          "2024-03-08T00:00:00.000000000",
          "2024-03-11T00:00:00.000000000",
          "2024-03-12T00:00:00.000000000",
          "2024-03-13T00:00:00.000000000",
          "2024-03-14T00:00:00.000000000",
          "2024-03-15T00:00:00.000000000",
          "2024-03-18T00:00:00.000000000",
          "2024-03-19T00:00:00.000000000",
          "2024-03-20T00:00:00.000000000",
          "2024-03-21T00:00:00.000000000",
          "2024-03-22T00:00:00.000000000",
          "2024-03-25T00:00:00.000000000",
          "2024-03-26T00:00:00.000000000",
          "2024-03-27T00:00:00.000000000",
          "2024-03-28T00:00:00.000000000",
          "2024-04-01T00:00:00.000000000",
          "2024-04-02T00:00:00.000000000",
          "2024-04-03T00:00:00.000000000",
          "2024-04-04T00:00:00.000000000",
          "2024-04-05T00:00:00.000000000",
          "2024-04-08T00:00:00.000000000",
          "2024-04-09T00:00:00.000000000",
          "2024-04-10T00:00:00.000000000",
          "2024-04-11T00:00:00.000000000",
          "2024-04-12T00:00:00.000000000",
          "2024-04-15T00:00:00.000000000",
          "2024-04-16T00:00:00.000000000",
          "2024-04-17T00:00:00.000000000",
          "2024-04-18T00:00:00.000000000",
          "2024-04-19T00:00:00.000000000",
          "2024-04-22T00:00:00.000000000",
          "2024-04-23T00:00:00.000000000",
          "2024-04-24T00:00:00.000000000",
          "2024-04-25T00:00:00.000000000",
          "2024-04-26T00:00:00.000000000",
          "2024-04-29T00:00:00.000000000",
          "2024-04-30T00:00:00.000000000",
          "2024-05-01T00:00:00.000000000",
          "2024-05-02T00:00:00.000000000",
          "2024-05-03T00:00:00.000000000",
          "2024-05-06T00:00:00.000000000",
          "2024-05-07T00:00:00.000000000",
          "2024-05-08T00:00:00.000000000",
          "2024-05-09T00:00:00.000000000",
          "2024-05-10T00:00:00.000000000",
          "2024-05-13T00:00:00.000000000",
          "2024-05-14T00:00:00.000000000",
          "2024-05-15T00:00:00.000000000",
          "2024-05-16T00:00:00.000000000",
          "2024-05-17T00:00:00.000000000",
          "2024-05-20T00:00:00.000000000",
          "2024-05-21T00:00:00.000000000",
          "2024-05-22T00:00:00.000000000",
          "2024-05-23T00:00:00.000000000",
          "2024-05-24T00:00:00.000000000",
          "2024-05-28T00:00:00.000000000",
          "2024-05-29T00:00:00.000000000",
          "2024-05-30T00:00:00.000000000",
          "2024-05-31T00:00:00.000000000",
          "2024-06-03T00:00:00.000000000",
          "2024-06-04T00:00:00.000000000",
          "2024-06-05T00:00:00.000000000",
          "2024-06-06T00:00:00.000000000",
          "2024-06-07T00:00:00.000000000",
          "2024-06-10T00:00:00.000000000",
          "2024-06-11T00:00:00.000000000",
          "2024-06-12T00:00:00.000000000",
          "2024-06-13T00:00:00.000000000",
          "2024-06-14T00:00:00.000000000",
          "2024-06-17T00:00:00.000000000",
          "2024-06-18T00:00:00.000000000",
          "2024-06-20T00:00:00.000000000",
          "2024-06-21T00:00:00.000000000",
          "2024-06-24T00:00:00.000000000",
          "2024-06-25T00:00:00.000000000",
          "2024-06-26T00:00:00.000000000",
          "2024-06-27T00:00:00.000000000",
          "2024-06-28T00:00:00.000000000",
          "2024-07-01T00:00:00.000000000",
          "2024-07-02T00:00:00.000000000",
          "2024-07-03T00:00:00.000000000",
          "2024-07-05T00:00:00.000000000",
          "2024-07-08T00:00:00.000000000",
          "2024-07-09T00:00:00.000000000",
          "2024-07-10T00:00:00.000000000",
          "2024-07-11T00:00:00.000000000",
          "2024-07-12T00:00:00.000000000",
          "2024-07-15T00:00:00.000000000",
          "2024-07-16T00:00:00.000000000",
          "2024-07-17T00:00:00.000000000",
          "2024-07-18T00:00:00.000000000",
          "2024-07-19T00:00:00.000000000",
          "2024-07-22T00:00:00.000000000",
          "2024-07-23T00:00:00.000000000",
          "2024-07-24T00:00:00.000000000",
          "2024-07-25T00:00:00.000000000",
          "2024-07-26T00:00:00.000000000",
          "2024-07-29T00:00:00.000000000",
          "2024-07-30T00:00:00.000000000",
          "2024-07-31T00:00:00.000000000",
          "2024-08-01T00:00:00.000000000",
          "2024-08-02T00:00:00.000000000",
          "2024-08-05T00:00:00.000000000",
          "2024-08-06T00:00:00.000000000",
          "2024-08-07T00:00:00.000000000",
          "2024-08-08T00:00:00.000000000",
          "2024-08-09T00:00:00.000000000",
          "2024-08-12T00:00:00.000000000",
          "2024-08-13T00:00:00.000000000",
          "2024-08-14T00:00:00.000000000",
          "2024-08-15T00:00:00.000000000",
          "2024-08-16T00:00:00.000000000",
          "2024-08-19T00:00:00.000000000",
          "2024-08-20T00:00:00.000000000",
          "2024-08-21T00:00:00.000000000",
          "2024-08-22T00:00:00.000000000",
          "2024-08-23T00:00:00.000000000",
          "2024-08-26T00:00:00.000000000",
          "2024-08-27T00:00:00.000000000",
          "2024-08-28T00:00:00.000000000",
          "2024-08-29T00:00:00.000000000",
          "2024-08-30T00:00:00.000000000",
          "2024-09-03T00:00:00.000000000",
          "2024-09-04T00:00:00.000000000",
          "2024-09-05T00:00:00.000000000",
          "2024-09-06T00:00:00.000000000",
          "2024-09-09T00:00:00.000000000",
          "2024-09-10T00:00:00.000000000",
          "2024-09-11T00:00:00.000000000",
          "2024-09-12T00:00:00.000000000",
          "2024-09-13T00:00:00.000000000",
          "2024-09-16T00:00:00.000000000",
          "2024-09-17T00:00:00.000000000",
          "2024-09-18T00:00:00.000000000",
          "2024-09-19T00:00:00.000000000",
          "2024-09-20T00:00:00.000000000",
          "2024-09-23T00:00:00.000000000",
          "2024-09-24T00:00:00.000000000",
          "2024-09-25T00:00:00.000000000",
          "2024-09-26T00:00:00.000000000",
          "2024-09-27T00:00:00.000000000",
          "2024-09-30T00:00:00.000000000",
          "2024-10-01T00:00:00.000000000",
          "2024-10-02T00:00:00.000000000",
          "2024-10-03T00:00:00.000000000",
          "2024-10-04T00:00:00.000000000",
          "2024-10-07T00:00:00.000000000",
          "2024-10-08T00:00:00.000000000",
          "2024-10-09T00:00:00.000000000",
          "2024-10-10T00:00:00.000000000",
          "2024-10-11T00:00:00.000000000",
          "2024-10-14T00:00:00.000000000",
          "2024-10-15T00:00:00.000000000",
          "2024-10-16T00:00:00.000000000",
          "2024-10-17T00:00:00.000000000",
          "2024-10-18T00:00:00.000000000",
          "2024-10-21T00:00:00.000000000",
          "2024-10-22T00:00:00.000000000",
          "2024-10-23T00:00:00.000000000",
          "2024-10-24T00:00:00.000000000",
          "2024-10-25T00:00:00.000000000",
          "2024-10-28T00:00:00.000000000",
          "2024-10-29T00:00:00.000000000",
          "2024-10-30T00:00:00.000000000",
          "2024-10-31T00:00:00.000000000",
          "2024-11-01T00:00:00.000000000",
          "2024-11-04T00:00:00.000000000",
          "2024-11-05T00:00:00.000000000",
          "2024-11-06T00:00:00.000000000",
          "2024-11-07T00:00:00.000000000",
          "2024-11-08T00:00:00.000000000",
          "2024-11-11T00:00:00.000000000",
          "2024-11-12T00:00:00.000000000",
          "2024-11-13T00:00:00.000000000",
          "2024-11-14T00:00:00.000000000",
          "2024-11-15T00:00:00.000000000",
          "2024-11-18T00:00:00.000000000",
          "2024-11-19T00:00:00.000000000",
          "2024-11-20T00:00:00.000000000",
          "2024-11-21T00:00:00.000000000",
          "2024-11-22T00:00:00.000000000",
          "2024-11-25T00:00:00.000000000",
          "2024-11-26T00:00:00.000000000",
          "2024-11-27T00:00:00.000000000",
          "2024-11-29T00:00:00.000000000",
          "2024-12-02T00:00:00.000000000",
          "2024-12-03T00:00:00.000000000",
          "2024-12-04T00:00:00.000000000",
          "2024-12-05T00:00:00.000000000",
          "2024-12-06T00:00:00.000000000",
          "2024-12-09T00:00:00.000000000",
          "2024-12-10T00:00:00.000000000",
          "2024-12-11T00:00:00.000000000",
          "2024-12-12T00:00:00.000000000",
          "2024-12-13T00:00:00.000000000",
          "2024-12-16T00:00:00.000000000",
          "2024-12-17T00:00:00.000000000",
          "2024-12-18T00:00:00.000000000",
          "2024-12-19T00:00:00.000000000",
          "2024-12-20T00:00:00.000000000",
          "2024-12-23T00:00:00.000000000",
          "2024-12-26T00:00:00.000000000",
          "2024-12-27T00:00:00.000000000",
          "2024-12-30T00:00:00.000000000",
          "2025-01-02T00:00:00.000000000",
          "2025-01-03T00:00:00.000000000",
          "2025-01-06T00:00:00.000000000",
          "2025-01-07T00:00:00.000000000",
          "2025-01-08T00:00:00.000000000",
          "2025-01-09T00:00:00.000000000",
          "2025-01-10T00:00:00.000000000",
          "2025-01-13T00:00:00.000000000",
          "2025-01-14T00:00:00.000000000",
          "2025-01-15T00:00:00.000000000",
          "2025-01-16T00:00:00.000000000",
          "2025-01-17T00:00:00.000000000",
          "2025-01-21T00:00:00.000000000",
          "2025-01-22T00:00:00.000000000",
          "2025-01-23T00:00:00.000000000",
          "2025-01-24T00:00:00.000000000",
          "2025-01-27T00:00:00.000000000",
          "2025-01-28T00:00:00.000000000",
          "2025-01-29T00:00:00.000000000",
          "2025-01-30T00:00:00.000000000",
          "2025-01-31T00:00:00.000000000",
          "2025-02-03T00:00:00.000000000",
          "2025-02-04T00:00:00.000000000",
          "2025-02-05T00:00:00.000000000",
          "2025-02-06T00:00:00.000000000",
          "2025-02-07T00:00:00.000000000",
          "2025-02-10T00:00:00.000000000",
          "2025-02-11T00:00:00.000000000",
          "2025-02-12T00:00:00.000000000",
          "2025-02-13T00:00:00.000000000",
          "2025-02-14T00:00:00.000000000",
          "2025-02-18T00:00:00.000000000",
          "2025-02-19T00:00:00.000000000",
          "2025-02-20T00:00:00.000000000",
          "2025-02-21T00:00:00.000000000",
          "2025-02-24T00:00:00.000000000",
          "2025-02-25T00:00:00.000000000",
          "2025-02-26T00:00:00.000000000",
          "2025-02-27T00:00:00.000000000",
          "2025-02-28T00:00:00.000000000",
          "2025-03-03T00:00:00.000000000",
          "2025-03-04T00:00:00.000000000",
          "2025-03-05T00:00:00.000000000",
          "2025-03-06T00:00:00.000000000",
          "2025-03-07T00:00:00.000000000",
          "2025-03-10T00:00:00.000000000",
          "2025-03-11T00:00:00.000000000",
          "2025-03-12T00:00:00.000000000",
          "2025-03-13T00:00:00.000000000",
          "2025-03-14T00:00:00.000000000",
          "2025-03-17T00:00:00.000000000",
          "2025-03-18T00:00:00.000000000",
          "2025-03-19T00:00:00.000000000",
          "2025-03-20T00:00:00.000000000",
          "2025-03-21T00:00:00.000000000",
          "2025-03-24T00:00:00.000000000",
          "2025-03-25T00:00:00.000000000",
          "2025-03-26T00:00:00.000000000",
          "2025-03-27T00:00:00.000000000",
          "2025-03-28T00:00:00.000000000",
          "2025-03-31T00:00:00.000000000",
          "2025-04-01T00:00:00.000000000",
          "2025-04-02T00:00:00.000000000",
          "2025-04-03T00:00:00.000000000",
          "2025-04-04T00:00:00.000000000",
          "2025-04-07T00:00:00.000000000",
          "2025-04-08T00:00:00.000000000",
          "2025-04-09T00:00:00.000000000",
          "2025-04-10T00:00:00.000000000",
          "2025-04-11T00:00:00.000000000",
          "2025-04-14T00:00:00.000000000",
          "2025-04-15T00:00:00.000000000",
          "2025-04-16T00:00:00.000000000",
          "2025-04-17T00:00:00.000000000",
          "2025-04-21T00:00:00.000000000",
          "2025-04-22T00:00:00.000000000",
          "2025-04-23T00:00:00.000000000",
          "2025-04-24T00:00:00.000000000",
          "2025-04-25T00:00:00.000000000",
          "2025-04-28T00:00:00.000000000",
          "2025-04-29T00:00:00.000000000",
          "2025-04-30T00:00:00.000000000",
          "2025-05-01T00:00:00.000000000",
          "2025-05-02T00:00:00.000000000",
          "2025-05-05T00:00:00.000000000",
          "2025-05-06T00:00:00.000000000",
          "2025-05-07T00:00:00.000000000",
          "2025-05-08T00:00:00.000000000",
          "2025-05-09T00:00:00.000000000",
          "2025-05-12T00:00:00.000000000",
          "2025-05-13T00:00:00.000000000",
          "2025-05-14T00:00:00.000000000",
          "2025-05-15T00:00:00.000000000",
          "2025-05-16T00:00:00.000000000",
          "2025-05-19T00:00:00.000000000",
          "2025-05-20T00:00:00.000000000",
          "2025-05-21T00:00:00.000000000",
          "2025-05-22T00:00:00.000000000",
          "2025-05-23T00:00:00.000000000",
          "2025-05-27T00:00:00.000000000",
          "2025-05-28T00:00:00.000000000",
          "2025-05-29T00:00:00.000000000",
          "2025-05-30T00:00:00.000000000",
          "2025-06-02T00:00:00.000000000",
          "2025-06-03T00:00:00.000000000",
          "2025-06-04T00:00:00.000000000",
          "2025-06-05T00:00:00.000000000",
          "2025-06-06T00:00:00.000000000",
          "2025-06-09T00:00:00.000000000",
          "2025-06-10T00:00:00.000000000",
          "2025-06-11T00:00:00.000000000",
          "2025-06-12T00:00:00.000000000",
          "2025-06-13T00:00:00.000000000",
          "2025-06-16T00:00:00.000000000",
          "2025-06-17T00:00:00.000000000",
          "2025-06-18T00:00:00.000000000",
          "2025-06-20T00:00:00.000000000",
          "2025-06-23T00:00:00.000000000"
         ],
         "y": {
          "bdata": "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",
          "dtype": "f8"
         }
        },
        {
         "mode": "lines",
         "name": "Predicted",
         "type": "scatter",
         "x": [
          "2024-02-14T00:00:00.000000000",
          "2024-02-15T00:00:00.000000000",
          "2024-02-16T00:00:00.000000000",
          "2024-02-20T00:00:00.000000000",
          "2024-02-21T00:00:00.000000000",
          "2024-02-22T00:00:00.000000000",
          "2024-02-23T00:00:00.000000000",
          "2024-02-26T00:00:00.000000000",
          "2024-02-27T00:00:00.000000000",
          "2024-02-28T00:00:00.000000000",
          "2024-02-29T00:00:00.000000000",
          "2024-03-01T00:00:00.000000000",
          "2024-03-04T00:00:00.000000000",
          "2024-03-05T00:00:00.000000000",
          "2024-03-06T00:00:00.000000000",
          "2024-03-07T00:00:00.000000000",
          "2024-03-08T00:00:00.000000000",
          "2024-03-11T00:00:00.000000000",
          "2024-03-12T00:00:00.000000000",
          "2024-03-13T00:00:00.000000000",
          "2024-03-14T00:00:00.000000000",
          "2024-03-15T00:00:00.000000000",
          "2024-03-18T00:00:00.000000000",
          "2024-03-19T00:00:00.000000000",
          "2024-03-20T00:00:00.000000000",
          "2024-03-21T00:00:00.000000000",
          "2024-03-22T00:00:00.000000000",
          "2024-03-25T00:00:00.000000000",
          "2024-03-26T00:00:00.000000000",
          "2024-03-27T00:00:00.000000000",
          "2024-03-28T00:00:00.000000000",
          "2024-04-01T00:00:00.000000000",
          "2024-04-02T00:00:00.000000000",
          "2024-04-03T00:00:00.000000000",
          "2024-04-04T00:00:00.000000000",
          "2024-04-05T00:00:00.000000000",
          "2024-04-08T00:00:00.000000000",
          "2024-04-09T00:00:00.000000000",
          "2024-04-10T00:00:00.000000000",
          "2024-04-11T00:00:00.000000000",
          "2024-04-12T00:00:00.000000000",
          "2024-04-15T00:00:00.000000000",
          "2024-04-16T00:00:00.000000000",
          "2024-04-17T00:00:00.000000000",
          "2024-04-18T00:00:00.000000000",
          "2024-04-19T00:00:00.000000000",
          "2024-04-22T00:00:00.000000000",
          "2024-04-23T00:00:00.000000000",
          "2024-04-24T00:00:00.000000000",
          "2024-04-25T00:00:00.000000000",
          "2024-04-26T00:00:00.000000000",
          "2024-04-29T00:00:00.000000000",
          "2024-04-30T00:00:00.000000000",
          "2024-05-01T00:00:00.000000000",
          "2024-05-02T00:00:00.000000000",
          "2024-05-03T00:00:00.000000000",
          "2024-05-06T00:00:00.000000000",
          "2024-05-07T00:00:00.000000000",
          "2024-05-08T00:00:00.000000000",
          "2024-05-09T00:00:00.000000000",
          "2024-05-10T00:00:00.000000000",
          "2024-05-13T00:00:00.000000000",
          "2024-05-14T00:00:00.000000000",
          "2024-05-15T00:00:00.000000000",
          "2024-05-16T00:00:00.000000000",
          "2024-05-17T00:00:00.000000000",
          "2024-05-20T00:00:00.000000000",
          "2024-05-21T00:00:00.000000000",
          "2024-05-22T00:00:00.000000000",
          "2024-05-23T00:00:00.000000000",
          "2024-05-24T00:00:00.000000000",
          "2024-05-28T00:00:00.000000000",
          "2024-05-29T00:00:00.000000000",
          "2024-05-30T00:00:00.000000000",
          "2024-05-31T00:00:00.000000000",
          "2024-06-03T00:00:00.000000000",
          "2024-06-04T00:00:00.000000000",
          "2024-06-05T00:00:00.000000000",
          "2024-06-06T00:00:00.000000000",
          "2024-06-07T00:00:00.000000000",
          "2024-06-10T00:00:00.000000000",
          "2024-06-11T00:00:00.000000000",
          "2024-06-12T00:00:00.000000000",
          "2024-06-13T00:00:00.000000000",
          "2024-06-14T00:00:00.000000000",
          "2024-06-17T00:00:00.000000000",
          "2024-06-18T00:00:00.000000000",
          "2024-06-20T00:00:00.000000000",
          "2024-06-21T00:00:00.000000000",
          "2024-06-24T00:00:00.000000000",
          "2024-06-25T00:00:00.000000000",
          "2024-06-26T00:00:00.000000000",
          "2024-06-27T00:00:00.000000000",
          "2024-06-28T00:00:00.000000000",
          "2024-07-01T00:00:00.000000000",
          "2024-07-02T00:00:00.000000000",
          "2024-07-03T00:00:00.000000000",
          "2024-07-05T00:00:00.000000000",
          "2024-07-08T00:00:00.000000000",
          "2024-07-09T00:00:00.000000000",
          "2024-07-10T00:00:00.000000000",
          "2024-07-11T00:00:00.000000000",
          "2024-07-12T00:00:00.000000000",
          "2024-07-15T00:00:00.000000000",
          "2024-07-16T00:00:00.000000000",
          "2024-07-17T00:00:00.000000000",
          "2024-07-18T00:00:00.000000000",
          "2024-07-19T00:00:00.000000000",
          "2024-07-22T00:00:00.000000000",
          "2024-07-23T00:00:00.000000000",
          "2024-07-24T00:00:00.000000000",
          "2024-07-25T00:00:00.000000000",
          "2024-07-26T00:00:00.000000000",
          "2024-07-29T00:00:00.000000000",
          "2024-07-30T00:00:00.000000000",
          "2024-07-31T00:00:00.000000000",
          "2024-08-01T00:00:00.000000000",
          "2024-08-02T00:00:00.000000000",
          "2024-08-05T00:00:00.000000000",
          "2024-08-06T00:00:00.000000000",
          "2024-08-07T00:00:00.000000000",
          "2024-08-08T00:00:00.000000000",
          "2024-08-09T00:00:00.000000000",
          "2024-08-12T00:00:00.000000000",
          "2024-08-13T00:00:00.000000000",
          "2024-08-14T00:00:00.000000000",
          "2024-08-15T00:00:00.000000000",
          "2024-08-16T00:00:00.000000000",
          "2024-08-19T00:00:00.000000000",
          "2024-08-20T00:00:00.000000000",
          "2024-08-21T00:00:00.000000000",
          "2024-08-22T00:00:00.000000000",
          "2024-08-23T00:00:00.000000000",
          "2024-08-26T00:00:00.000000000",
          "2024-08-27T00:00:00.000000000",
          "2024-08-28T00:00:00.000000000",
          "2024-08-29T00:00:00.000000000",
          "2024-08-30T00:00:00.000000000",
          "2024-09-03T00:00:00.000000000",
          "2024-09-04T00:00:00.000000000",
          "2024-09-05T00:00:00.000000000",
          "2024-09-06T00:00:00.000000000",
          "2024-09-09T00:00:00.000000000",
          "2024-09-10T00:00:00.000000000",
          "2024-09-11T00:00:00.000000000",
          "2024-09-12T00:00:00.000000000",
          "2024-09-13T00:00:00.000000000",
          "2024-09-16T00:00:00.000000000",
          "2024-09-17T00:00:00.000000000",
          "2024-09-18T00:00:00.000000000",
          "2024-09-19T00:00:00.000000000",
          "2024-09-20T00:00:00.000000000",
          "2024-09-23T00:00:00.000000000",
          "2024-09-24T00:00:00.000000000",
          "2024-09-25T00:00:00.000000000",
          "2024-09-26T00:00:00.000000000",
          "2024-09-27T00:00:00.000000000",
          "2024-09-30T00:00:00.000000000",
          "2024-10-01T00:00:00.000000000",
          "2024-10-02T00:00:00.000000000",
          "2024-10-03T00:00:00.000000000",
          "2024-10-04T00:00:00.000000000",
          "2024-10-07T00:00:00.000000000",
          "2024-10-08T00:00:00.000000000",
          "2024-10-09T00:00:00.000000000",
          "2024-10-10T00:00:00.000000000",
          "2024-10-11T00:00:00.000000000",
          "2024-10-14T00:00:00.000000000",
          "2024-10-15T00:00:00.000000000",
          "2024-10-16T00:00:00.000000000",
          "2024-10-17T00:00:00.000000000",
          "2024-10-18T00:00:00.000000000",
          "2024-10-21T00:00:00.000000000",
          "2024-10-22T00:00:00.000000000",
          "2024-10-23T00:00:00.000000000",
          "2024-10-24T00:00:00.000000000",
          "2024-10-25T00:00:00.000000000",
          "2024-10-28T00:00:00.000000000",
          "2024-10-29T00:00:00.000000000",
          "2024-10-30T00:00:00.000000000",
          "2024-10-31T00:00:00.000000000",
          "2024-11-01T00:00:00.000000000",
          "2024-11-04T00:00:00.000000000",
          "2024-11-05T00:00:00.000000000",
          "2024-11-06T00:00:00.000000000",
          "2024-11-07T00:00:00.000000000",
          "2024-11-08T00:00:00.000000000",
          "2024-11-11T00:00:00.000000000",
          "2024-11-12T00:00:00.000000000",
          "2024-11-13T00:00:00.000000000",
          "2024-11-14T00:00:00.000000000",
          "2024-11-15T00:00:00.000000000",
          "2024-11-18T00:00:00.000000000",
          "2024-11-19T00:00:00.000000000",
          "2024-11-20T00:00:00.000000000",
          "2024-11-21T00:00:00.000000000",
          "2024-11-22T00:00:00.000000000",
          "2024-11-25T00:00:00.000000000",
          "2024-11-26T00:00:00.000000000",
          "2024-11-27T00:00:00.000000000",
          "2024-11-29T00:00:00.000000000",
          "2024-12-02T00:00:00.000000000",
          "2024-12-03T00:00:00.000000000",
          "2024-12-04T00:00:00.000000000",
          "2024-12-05T00:00:00.000000000",
          "2024-12-06T00:00:00.000000000",
          "2024-12-09T00:00:00.000000000",
          "2024-12-10T00:00:00.000000000",
          "2024-12-11T00:00:00.000000000",
          "2024-12-12T00:00:00.000000000",
          "2024-12-13T00:00:00.000000000",
          "2024-12-16T00:00:00.000000000",
          "2024-12-17T00:00:00.000000000",
          "2024-12-18T00:00:00.000000000",
          "2024-12-19T00:00:00.000000000",
          "2024-12-20T00:00:00.000000000",
          "2024-12-23T00:00:00.000000000",
          "2024-12-26T00:00:00.000000000",
          "2024-12-27T00:00:00.000000000",
          "2024-12-30T00:00:00.000000000",
          "2025-01-02T00:00:00.000000000",
          "2025-01-03T00:00:00.000000000",
          "2025-01-06T00:00:00.000000000",
          "2025-01-07T00:00:00.000000000",
          "2025-01-08T00:00:00.000000000",
          "2025-01-09T00:00:00.000000000",
          "2025-01-10T00:00:00.000000000",
          "2025-01-13T00:00:00.000000000",
          "2025-01-14T00:00:00.000000000",
          "2025-01-15T00:00:00.000000000",
          "2025-01-16T00:00:00.000000000",
          "2025-01-17T00:00:00.000000000",
          "2025-01-21T00:00:00.000000000",
          "2025-01-22T00:00:00.000000000",
          "2025-01-23T00:00:00.000000000",
          "2025-01-24T00:00:00.000000000",
          "2025-01-27T00:00:00.000000000",
          "2025-01-28T00:00:00.000000000",
          "2025-01-29T00:00:00.000000000",
          "2025-01-30T00:00:00.000000000",
          "2025-01-31T00:00:00.000000000",
          "2025-02-03T00:00:00.000000000",
          "2025-02-04T00:00:00.000000000",
          "2025-02-05T00:00:00.000000000",
          "2025-02-06T00:00:00.000000000",
          "2025-02-07T00:00:00.000000000",
          "2025-02-10T00:00:00.000000000",
          "2025-02-11T00:00:00.000000000",
          "2025-02-12T00:00:00.000000000",
          "2025-02-13T00:00:00.000000000",
          "2025-02-14T00:00:00.000000000",
          "2025-02-18T00:00:00.000000000",
          "2025-02-19T00:00:00.000000000",
          "2025-02-20T00:00:00.000000000",
          "2025-02-21T00:00:00.000000000",
          "2025-02-24T00:00:00.000000000",
          "2025-02-25T00:00:00.000000000",
          "2025-02-26T00:00:00.000000000",
          "2025-02-27T00:00:00.000000000",
          "2025-02-28T00:00:00.000000000",
          "2025-03-03T00:00:00.000000000",
          "2025-03-04T00:00:00.000000000",
          "2025-03-05T00:00:00.000000000",
          "2025-03-06T00:00:00.000000000",
          "2025-03-07T00:00:00.000000000",
          "2025-03-10T00:00:00.000000000",
          "2025-03-11T00:00:00.000000000",
          "2025-03-12T00:00:00.000000000",
          "2025-03-13T00:00:00.000000000",
          "2025-03-14T00:00:00.000000000",
          "2025-03-17T00:00:00.000000000",
          "2025-03-18T00:00:00.000000000",
          "2025-03-19T00:00:00.000000000",
          "2025-03-20T00:00:00.000000000",
          "2025-03-21T00:00:00.000000000",
          "2025-03-24T00:00:00.000000000",
          "2025-03-25T00:00:00.000000000",
          "2025-03-26T00:00:00.000000000",
          "2025-03-27T00:00:00.000000000",
          "2025-03-28T00:00:00.000000000",
          "2025-03-31T00:00:00.000000000",
          "2025-04-01T00:00:00.000000000",
          "2025-04-02T00:00:00.000000000",
          "2025-04-03T00:00:00.000000000",
          "2025-04-04T00:00:00.000000000",
          "2025-04-07T00:00:00.000000000",
          "2025-04-08T00:00:00.000000000",
          "2025-04-09T00:00:00.000000000",
          "2025-04-10T00:00:00.000000000",
          "2025-04-11T00:00:00.000000000",
          "2025-04-14T00:00:00.000000000",
          "2025-04-15T00:00:00.000000000",
          "2025-04-16T00:00:00.000000000",
          "2025-04-17T00:00:00.000000000",
          "2025-04-21T00:00:00.000000000",
          "2025-04-22T00:00:00.000000000",
          "2025-04-23T00:00:00.000000000",
          "2025-04-24T00:00:00.000000000",
          "2025-04-25T00:00:00.000000000",
          "2025-04-28T00:00:00.000000000",
          "2025-04-29T00:00:00.000000000",
          "2025-04-30T00:00:00.000000000",
          "2025-05-01T00:00:00.000000000",
          "2025-05-02T00:00:00.000000000",
          "2025-05-05T00:00:00.000000000",
          "2025-05-06T00:00:00.000000000",
          "2025-05-07T00:00:00.000000000",
          "2025-05-08T00:00:00.000000000",
          "2025-05-09T00:00:00.000000000",
          "2025-05-12T00:00:00.000000000",
          "2025-05-13T00:00:00.000000000",
          "2025-05-14T00:00:00.000000000",
          "2025-05-15T00:00:00.000000000",
          "2025-05-16T00:00:00.000000000",
          "2025-05-19T00:00:00.000000000",
          "2025-05-20T00:00:00.000000000",
          "2025-05-21T00:00:00.000000000",
          "2025-05-22T00:00:00.000000000",
          "2025-05-23T00:00:00.000000000",
          "2025-05-27T00:00:00.000000000",
          "2025-05-28T00:00:00.000000000",
          "2025-05-29T00:00:00.000000000",
          "2025-05-30T00:00:00.000000000",
          "2025-06-02T00:00:00.000000000",
          "2025-06-03T00:00:00.000000000",
          "2025-06-04T00:00:00.000000000",
          "2025-06-05T00:00:00.000000000",
          "2025-06-06T00:00:00.000000000",
          "2025-06-09T00:00:00.000000000",
          "2025-06-10T00:00:00.000000000",
          "2025-06-11T00:00:00.000000000",
          "2025-06-12T00:00:00.000000000",
          "2025-06-13T00:00:00.000000000",
          "2025-06-16T00:00:00.000000000",
          "2025-06-17T00:00:00.000000000",
          "2025-06-18T00:00:00.000000000",
          "2025-06-20T00:00:00.000000000",
          "2025-06-23T00:00:00.000000000"
         ],
         "y": {
          "bdata": "6juiQvtwpEK6caZCmrSlQtVxokIZAKZCY62kQmYSpULqbaJCZdyhQlotp0LDCKdCZFalQvR3mEIFOplCGo6iQshqokLkgqRCH+KiQkynpkJ83alCP+CqQmcGrEKToaxCSAusQuZZqkI4cqpCGFGrQjToqEL2talCXDCwQmn/rEJsFbBC0wqzQjmNskI/5rdCKL60Qkx+tUINubNCotO2Qn8BskK7pbVCGU20QgAyr0IxLq1COWuuQvq2q0Ixf65CrH2uQkKbsELEQbRCdaKyQr5RskLOIahCWOapQqPop0IvdKVCLO+lQkkip0LgVKlCJ1ykQkcqpkKtM6VCv2WkQqBXpkL/9KlCIUqqQkazpUKPJKJC1zSkQhrCo0L2xKdCIlimQsLmo0IyNqRCdNucQh09m0K+7p1CKFihQo9Xn0JdfqJCPPOjQtQCpUJUH6NC7+ikQinjqEIKmKhC2YKqQvARqkLXCqpCnPGpQpSyqUKSR6tCkBurQtziq0ITka1ChD6rQpCTq0I78qhCCP+mQhlrpkIM06lCJ3CoQvnCqUKMZqdCTkqnQgh6q0IbEKFC2cilQtpgmULJXZhCxiajQgadokJzfqBCgzaeQt+IoUK0yJ9CUOOYQgqnmUJ/0JhCkKicQrFBm0L5mZ9CHLGjQnfAoEKVN6FCo8mjQlt4oUIZC51CHXSZQlORmEI+4phCP3WeQjPzoUL3T51CClucQikhoUIebp1C32yVQuEQlEJd2ZJC64ORQto7k0I8fItCSDWOQu+nkELMiY9CY5aRQqc9k0LseZVC66KVQp/2lUIxsZVClUWWQjzhlUJ8oI9CuoCRQkOGkEJKypNCs86WQot2mULmAJ1CXv+jQmOOmkIcnJhCJr+eQqaknkKJqZtCLzCWQqCOlEJ8oZVC0g6UQlJ/lULozpdCllKWQlMmlkIDOZhCdAiRQrKJkELjG5BCNk6TQlfyk0JFL5ZCrJCYQv8hlUKW8pZCUUCWQqW0kULC3JBCLxeRQhVDkkK8cpBCUiuTQgOklEJcbpNCWW6UQn2VlUJyWZVC3ZSTQi0Dk0JDm5NC2OeSQizqkkKvBZRCgeGTQtbmkUKrNZJC/GqQQh7ek0KmS5RCezOVQhwclEIIZ5NCXj2UQlLflEIg0JJCKTaTQvsck0IDDpZCGtCVQiy6mEJyV5hC9PWYQs5QmUKNtJhCnhSZQvClnkLgg6JC5DKiQlu+oUJQYaFCKiiiQlxln0I3XZ9CtP+dQvFNnkLvxZlCKfKaQuKPmULv8JlCf4yZQhaTmEJhLphCUl6UQpNOlUIGDJZCaSOXQhVOmULmepVCvIOXQqUIlkJSLphCoICXQqPEmEKZ9JRC6ymWQhi1k0KoZJNCeU6VQpzflELT4ZFCD+GNQps0jUJR+YtCW/6NQgQZjUJt/ItC3PmNQjsijkISf41C0gqQQk1NjkL4fI9CoOGRQmU6k0Ly9JNCWFCVQj6alUKQrJVCDieUQgKjlkIUdZhCaeKVQt8ZkEIu9IZCGLWCQq+5gUIjioNCG8l+QgpmgUIiJYNCmIuBQsOzg0K2j4dC5BWFQh7/h0KTuIRCyAmGQnA2hEIez4NCGpiAQnjHfkIXEnpCO1N6QjwyckLbHnZCmZ14QtglfEImAoFCl9uBQpcNhUK0q4RCw4OBQtUmg0JvgoNCUF6DQkEPgkI0QIFCNNSBQjWcgUIWZoJCFneBQob0gEJjSYFCTbiCQroJgkInJYNCtT+FQm3/hUJXEIZCoi+LQs5UjEKE8JJCS7+SQmu/l0KhtphC+qWZQtuQkUI=",
          "dtype": "f4"
         }
        }
       ],
       "layout": {
        "legend": {
         "orientation": "h",
         "y": -0.2
        },
        "template": {
         "data": {
          "bar": [
           {
            "error_x": {
             "color": "#2a3f5f"
            },
            "error_y": {
             "color": "#2a3f5f"
            },
            "marker": {
             "line": {
              "color": "white",
              "width": 0.5
             },
             "pattern": {
              "fillmode": "overlay",
              "size": 10,
              "solidity": 0.2
             }
            },
            "type": "bar"
           }
          ],
          "barpolar": [
           {
            "marker": {
             "line": {
              "color": "white",
              "width": 0.5
             },
             "pattern": {
              "fillmode": "overlay",
              "size": 10,
              "solidity": 0.2
             }
            },
            "type": "barpolar"
           }
          ],
          "carpet": [
           {
            "aaxis": {
             "endlinecolor": "#2a3f5f",
             "gridcolor": "#C8D4E3",
             "linecolor": "#C8D4E3",
             "minorgridcolor": "#C8D4E3",
             "startlinecolor": "#2a3f5f"
            },
            "baxis": {
             "endlinecolor": "#2a3f5f",
             "gridcolor": "#C8D4E3",
             "linecolor": "#C8D4E3",
             "minorgridcolor": "#C8D4E3",
             "startlinecolor": "#2a3f5f"
            },
            "type": "carpet"
           }
          ],
          "choropleth": [
           {
            "colorbar": {
             "outlinewidth": 0,
             "ticks": ""
            },
            "type": "choropleth"
           }
          ],
          "contour": [
           {
            "colorbar": {
             "outlinewidth": 0,
             "ticks": ""
            },
            "colorscale": [
             [
              0,
              "#0d0887"
             ],
             [
              0.1111111111111111,
              "#46039f"
             ],
             [
              0.2222222222222222,
              "#7201a8"
             ],
             [
              0.3333333333333333,
              "#9c179e"
             ],
             [
              0.4444444444444444,
              "#bd3786"
             ],
             [
              0.5555555555555556,
              "#d8576b"
             ],
             [
              0.6666666666666666,
              "#ed7953"
             ],
             [
              0.7777777777777778,
              "#fb9f3a"
             ],
             [
              0.8888888888888888,
              "#fdca26"
             ],
             [
              1,
              "#f0f921"
             ]
            ],
            "type": "contour"
           }
          ],
          "contourcarpet": [
           {
            "colorbar": {
             "outlinewidth": 0,
             "ticks": ""
            },
            "type": "contourcarpet"
           }
          ],
          "heatmap": [
           {
            "colorbar": {
             "outlinewidth": 0,
             "ticks": ""
            },
            "colorscale": [
             [
              0,
              "#0d0887"
             ],
             [
              0.1111111111111111,
              "#46039f"
             ],
             [
              0.2222222222222222,
              "#7201a8"
             ],
             [
              0.3333333333333333,
              "#9c179e"
             ],
             [
              0.4444444444444444,
              "#bd3786"
             ],
             [
              0.5555555555555556,
              "#d8576b"
             ],
             [
              0.6666666666666666,
              "#ed7953"
             ],
             [
              0.7777777777777778,
              "#fb9f3a"
             ],
             [
              0.8888888888888888,
              "#fdca26"
             ],
             [
              1,
              "#f0f921"
             ]
            ],
            "type": "heatmap"
           }
          ],
          "histogram": [
           {
            "marker": {
             "pattern": {
              "fillmode": "overlay",
              "size": 10,
              "solidity": 0.2
             }
            },
            "type": "histogram"
           }
          ],
          "histogram2d": [
           {
            "colorbar": {
             "outlinewidth": 0,
             "ticks": ""
            },
            "colorscale": [
             [
              0,
              "#0d0887"
             ],
             [
              0.1111111111111111,
              "#46039f"
             ],
             [
              0.2222222222222222,
              "#7201a8"
             ],
             [
              0.3333333333333333,
              "#9c179e"
             ],
             [
              0.4444444444444444,
              "#bd3786"
             ],
             [
              0.5555555555555556,
              "#d8576b"
             ],
             [
              0.6666666666666666,
              "#ed7953"
             ],
             [
              0.7777777777777778,
              "#fb9f3a"
             ],
             [
              0.8888888888888888,
              "#fdca26"
             ],
             [
              1,
              "#f0f921"
             ]
            ],
            "type": "histogram2d"
           }
          ],
          "histogram2dcontour": [
           {
            "colorbar": {
             "outlinewidth": 0,
             "ticks": ""
            },
            "colorscale": [
             [
              0,
              "#0d0887"
             ],
             [
              0.1111111111111111,
              "#46039f"
             ],
             [
              0.2222222222222222,
              "#7201a8"
             ],
             [
              0.3333333333333333,
              "#9c179e"
             ],
             [
              0.4444444444444444,
              "#bd3786"
             ],
             [
              0.5555555555555556,
              "#d8576b"
             ],
             [
              0.6666666666666666,
              "#ed7953"
             ],
             [
              0.7777777777777778,
              "#fb9f3a"
             ],
             [
              0.8888888888888888,
              "#fdca26"
             ],
             [
              1,
              "#f0f921"
             ]
            ],
            "type": "histogram2dcontour"
           }
          ],
          "mesh3d": [
           {
            "colorbar": {
             "outlinewidth": 0,
             "ticks": ""
            },
            "type": "mesh3d"
           }
          ],
          "parcoords": [
           {
            "line": {
             "colorbar": {
              "outlinewidth": 0,
              "ticks": ""
             }
            },
            "type": "parcoords"
           }
          ],
          "pie": [
           {
            "automargin": true,
            "type": "pie"
           }
          ],
          "scatter": [
           {
            "fillpattern": {
             "fillmode": "overlay",
             "size": 10,
             "solidity": 0.2
            },
            "type": "scatter"
           }
          ],
          "scatter3d": [
           {
            "line": {
             "colorbar": {
              "outlinewidth": 0,
              "ticks": ""
             }
            },
            "marker": {
             "colorbar": {
              "outlinewidth": 0,
              "ticks": ""
             }
            },
            "type": "scatter3d"
           }
          ],
          "scattercarpet": [
           {
            "marker": {
             "colorbar": {
              "outlinewidth": 0,
              "ticks": ""
             }
            },
            "type": "scattercarpet"
           }
          ],
          "scattergeo": [
           {
            "marker": {
             "colorbar": {
              "outlinewidth": 0,
              "ticks": ""
             }
            },
            "type": "scattergeo"
           }
          ],
          "scattergl": [
           {
            "marker": {
             "colorbar": {
              "outlinewidth": 0,
              "ticks": ""
             }
            },
            "type": "scattergl"
           }
          ],
          "scattermap": [
           {
            "marker": {
             "colorbar": {
              "outlinewidth": 0,
              "ticks": ""
             }
            },
            "type": "scattermap"
           }
          ],
          "scattermapbox": [
           {
            "marker": {
             "colorbar": {
              "outlinewidth": 0,
              "ticks": ""
             }
            },
            "type": "scattermapbox"
           }
          ],
          "scatterpolar": [
           {
            "marker": {
             "colorbar": {
              "outlinewidth": 0,
              "ticks": ""
             }
            },
            "type": "scatterpolar"
           }
          ],
          "scatterpolargl": [
           {
            "marker": {
             "colorbar": {
              "outlinewidth": 0,
              "ticks": ""
             }
            },
            "type": "scatterpolargl"
           }
          ],
          "scatterternary": [
           {
            "marker": {
             "colorbar": {
              "outlinewidth": 0,
              "ticks": ""
             }
            },
            "type": "scatterternary"
           }
          ],
          "surface": [
           {
            "colorbar": {
             "outlinewidth": 0,
             "ticks": ""
            },
            "colorscale": [
             [
              0,
              "#0d0887"
             ],
             [
              0.1111111111111111,
              "#46039f"
             ],
             [
              0.2222222222222222,
              "#7201a8"
             ],
             [
              0.3333333333333333,
              "#9c179e"
             ],
             [
              0.4444444444444444,
              "#bd3786"
             ],
             [
              0.5555555555555556,
              "#d8576b"
             ],
             [
              0.6666666666666666,
              "#ed7953"
             ],
             [
              0.7777777777777778,
              "#fb9f3a"
             ],
             [
              0.8888888888888888,
              "#fdca26"
             ],
             [
              1,
              "#f0f921"
             ]
            ],
            "type": "surface"
           }
          ],
          "table": [
           {
            "cells": {
             "fill": {
              "color": "#EBF0F8"
             },
             "line": {
              "color": "white"
             }
            },
            "header": {
             "fill": {
              "color": "#C8D4E3"
             },
             "line": {
              "color": "white"
             }
            },
            "type": "table"
           }
          ]
         },
         "layout": {
          "annotationdefaults": {
           "arrowcolor": "#2a3f5f",
           "arrowhead": 0,
           "arrowwidth": 1
          },
          "autotypenumbers": "strict",
          "coloraxis": {
           "colorbar": {
            "outlinewidth": 0,
            "ticks": ""
           }
          },
          "colorscale": {
           "diverging": [
            [
             0,
             "#8e0152"
            ],
            [
             0.1,
             "#c51b7d"
            ],
            [
             0.2,
             "#de77ae"
            ],
            [
             0.3,
             "#f1b6da"
            ],
            [
             0.4,
             "#fde0ef"
            ],
            [
             0.5,
             "#f7f7f7"
            ],
            [
             0.6,
             "#e6f5d0"
            ],
            [
             0.7,
             "#b8e186"
            ],
            [
             0.8,
             "#7fbc41"
            ],
            [
             0.9,
             "#4d9221"
            ],
            [
             1,
             "#276419"
            ]
           ],
           "sequential": [
            [
             0,
             "#0d0887"
            ],
            [
             0.1111111111111111,
             "#46039f"
            ],
            [
             0.2222222222222222,
             "#7201a8"
            ],
            [
             0.3333333333333333,
             "#9c179e"
            ],
            [
             0.4444444444444444,
             "#bd3786"
            ],
            [
             0.5555555555555556,
             "#d8576b"
            ],
            [
             0.6666666666666666,
             "#ed7953"
            ],
            [
             0.7777777777777778,
             "#fb9f3a"
            ],
            [
             0.8888888888888888,
             "#fdca26"
            ],
            [
             1,
             "#f0f921"
            ]
           ],
           "sequentialminus": [
            [
             0,
             "#0d0887"
            ],
            [
             0.1111111111111111,
             "#46039f"
            ],
            [
             0.2222222222222222,
             "#7201a8"
            ],
            [
             0.3333333333333333,
             "#9c179e"
            ],
            [
             0.4444444444444444,
             "#bd3786"
            ],
            [
             0.5555555555555556,
             "#d8576b"
            ],
            [
             0.6666666666666666,
             "#ed7953"
            ],
            [
             0.7777777777777778,
             "#fb9f3a"
            ],
            [
             0.8888888888888888,
             "#fdca26"
            ],
            [
             1,
             "#f0f921"
            ]
           ]
          },
          "colorway": [
           "#636efa",
           "#EF553B",
           "#00cc96",
           "#ab63fa",
           "#FFA15A",
           "#19d3f3",
           "#FF6692",
           "#B6E880",
           "#FF97FF",
           "#FECB52"
          ],
          "font": {
           "color": "#2a3f5f"
          },
          "geo": {
           "bgcolor": "white",
           "lakecolor": "white",
           "landcolor": "white",
           "showlakes": true,
           "showland": true,
           "subunitcolor": "#C8D4E3"
          },
          "hoverlabel": {
           "align": "left"
          },
          "hovermode": "closest",
          "mapbox": {
           "style": "light"
          },
          "paper_bgcolor": "white",
          "plot_bgcolor": "white",
          "polar": {
           "angularaxis": {
            "gridcolor": "#EBF0F8",
            "linecolor": "#EBF0F8",
            "ticks": ""
           },
           "bgcolor": "white",
           "radialaxis": {
            "gridcolor": "#EBF0F8",
            "linecolor": "#EBF0F8",
            "ticks": ""
           }
          },
          "scene": {
           "xaxis": {
            "backgroundcolor": "white",
            "gridcolor": "#DFE8F3",
            "gridwidth": 2,
            "linecolor": "#EBF0F8",
            "showbackground": true,
            "ticks": "",
            "zerolinecolor": "#EBF0F8"
           },
           "yaxis": {
            "backgroundcolor": "white",
            "gridcolor": "#DFE8F3",
            "gridwidth": 2,
            "linecolor": "#EBF0F8",
            "showbackground": true,
            "ticks": "",
            "zerolinecolor": "#EBF0F8"
           },
           "zaxis": {
            "backgroundcolor": "white",
            "gridcolor": "#DFE8F3",
            "gridwidth": 2,
            "linecolor": "#EBF0F8",
            "showbackground": true,
            "ticks": "",
            "zerolinecolor": "#EBF0F8"
           }
          },
          "shapedefaults": {
           "line": {
            "color": "#2a3f5f"
           }
          },
          "ternary": {
           "aaxis": {
            "gridcolor": "#DFE8F3",
            "linecolor": "#A2B1C6",
            "ticks": ""
           },
           "baxis": {
            "gridcolor": "#DFE8F3",
            "linecolor": "#A2B1C6",
            "ticks": ""
           },
           "bgcolor": "white",
           "caxis": {
            "gridcolor": "#DFE8F3",
            "linecolor": "#A2B1C6",
            "ticks": ""
           }
          },
          "title": {
           "x": 0.05
          },
          "xaxis": {
           "automargin": true,
           "gridcolor": "#EBF0F8",
           "linecolor": "#EBF0F8",
           "ticks": "",
           "title": {
            "standoff": 15
           },
           "zerolinecolor": "#EBF0F8",
           "zerolinewidth": 2
          },
          "yaxis": {
           "automargin": true,
           "gridcolor": "#EBF0F8",
           "linecolor": "#EBF0F8",
           "ticks": "",
           "title": {
            "standoff": 15
           },
           "zerolinecolor": "#EBF0F8",
           "zerolinewidth": 2
          }
         }
        },
        "title": {
         "text": "Brent Crude Oil – Actual vs Predicted (XGBoost)"
        },
        "xaxis": {
         "title": {
          "text": "Date"
         }
        },
        "yaxis": {
         "title": {
          "text": "Price (USD)"
         }
        }
       }
      }
     },
     "metadata": {},
     "output_type": "display_data"
    }
   ],
   "source": [
    "import yfinance as yf\n",
    "import pandas as pd\n",
    "import numpy as np\n",
    "from xgboost import XGBRegressor\n",
    "from sklearn.metrics import (\n",
    "    mean_squared_error,\n",
    "    mean_absolute_error,\n",
    "    mean_absolute_percentage_error,\n",
    "    r2_score,\n",
    "    explained_variance_score\n",
    ")\n",
    "import plotly.graph_objects as go\n",
    "\n",
    "SEED = 42\n",
    "np.random.seed(SEED)\n",
    "\n",
    "# === 1. Download Brent crude oil price data ==================================\n",
    "df = (\n",
    "    yf.download(\"BZ=F\", start=\"2011-06-13\", end=\"2025-06-25\")[['Close']]\n",
    "      .rename(columns={'Close': 'Price'})\n",
    "      .dropna()\n",
    ")\n",
    "\n",
    "# === 2. Load & align embeddings =============================================\n",
    "emb = (\n",
    "    pd.read_csv('../Data/raw/embeddings_feature_distilbert-base-uncased.csv', parse_dates=['date'])\n",
    "      .set_index('date')\n",
    ")\n",
    "emb = emb.reindex(df.index).ffill().bfill()\n",
    "sent = (\n",
    "    pd.read_csv('../Data/raw/daily_sent.csv', parse_dates=['Date'])\n",
    "      .set_index('Date')\n",
    ")\n",
    "\n",
    "df['SENT_1'] = emb['embedding_3d_1_mean']\n",
    "df['SENT_2'] = emb['embedding_3d_2_mean']\n",
    "df['SENT_3'] = emb['embedding_3d_3_mean']\n",
    "df['cosine_sim']            = emb['cosine_sim']\n",
    "df['drift']                 = emb['drift']\n",
    "df['drift_velocity']        = emb['drift_velocity']\n",
    "df['drift_velocity_diff']   = emb['drift_velocity_diff']\n",
    "df['drift_acceleration']    = emb['drift_acceleration']\n",
    "df['var_3d_1']              = emb['embedding_3d_1_var_daily']\n",
    "df['var_3d_2']              = emb['embedding_3d_2_var_daily']\n",
    "df['var_3d_3']              = emb['embedding_3d_3_var_daily']\n",
    "df['sentiment']             = sent['avg_score']\n",
    "\n",
    "# === 3. Costruzione delle lag-feature =======================================\n",
    "for lag in range(1, 6):\n",
    "    df[f'price_lag_{lag}'] = df['Price'].shift(lag)\n",
    "\n",
    "df['target'] = df['Price'].shift(-1)\n",
    "df.dropna(inplace=True)\n",
    "\n",
    "# === 4. Train-test split (90/10) ============================================\n",
    "feat_cols = [\n",
    "    'Price',\n",
    "    'SENT_1','SENT_2','SENT_3',\n",
    "    'cosine_sim','drift','drift_velocity','drift_velocity_diff','drift_acceleration',\n",
    "    'var_3d_1','var_3d_2','var_3d_3',\n",
    "    'sentiment'\n",
    "]\n",
    "\n",
    "X = df[feat_cols]\n",
    "y = df['target']\n",
    "split_idx = int(len(df) * 0.9)\n",
    "X_train, X_test = X.iloc[:split_idx], X.iloc[split_idx:]\n",
    "y_train, y_test = y.iloc[:split_idx], y.iloc[split_idx:]\n",
    "\n",
    "# === 5. Train XGBoost ======================================================\n",
    "xgb = XGBRegressor(\n",
    "    n_estimators=200,\n",
    "    max_depth=6,\n",
    "    learning_rate=0.07,\n",
    "    subsample=0.9,\n",
    "    colsample_bytree=0.9,\n",
    "    random_state=SEED,\n",
    "    n_jobs=-1,\n",
    "    tree_method=\"hist\"  # \"gpu_hist\" se hai una GPU\n",
    ")\n",
    "xgb.fit(X_train, y_train)\n",
    "preds = xgb.predict(X_test)\n",
    "\n",
    "# === 6. Metriche di valutazione ============================================\n",
    "def smape(y_true, y_pred):\n",
    "    denom = (np.abs(y_true) + np.abs(y_pred)) / 2\n",
    "    return np.mean(np.abs(y_true - y_pred) / denom) * 100\n",
    "\n",
    "def theils_u(y_true, y_pred):\n",
    "    rmsfe = np.sqrt(np.mean((y_pred - y_true) ** 2))\n",
    "    denom = (np.sqrt(np.mean(y_true ** 2)) +\n",
    "             np.sqrt(np.mean(y_pred ** 2)))\n",
    "    return rmsfe / denom\n",
    "\n",
    "metrics = {\n",
    "    \"RMSE\": np.sqrt(mean_squared_error(y_test, preds)),\n",
    "    \"MAE\": mean_absolute_error(y_test, preds),\n",
    "    \"MAPE (%)\": mean_absolute_percentage_error(y_test, preds) * 100,\n",
    "    \"sMAPE (%)\": smape(y_test.values, preds),\n",
    "    \"R²\": r2_score(y_test, preds),\n",
    "    \"Explained Variance\": explained_variance_score(y_test, preds),\n",
    "    \"Theil’s U\": theils_u(y_test.values, preds),\n",
    "    \"Directional Accuracy (%)\": (\n",
    "        np.mean(\n",
    "            np.sign(y_test.values[1:] - y_test.values[:-1]) ==\n",
    "            np.sign(preds[1:] - y_test.values[:-1])\n",
    "        ) * 100\n",
    "    )\n",
    "}\n",
    "\n",
    "print(pd.Series(metrics).to_frame('XGBoost').round(4))\n",
    "\n",
    "# === 7. Grafico Plotly Actual vs Predicted =================================\n",
    "fig = go.Figure()\n",
    "fig.add_trace(go.Scatter(\n",
    "    x=y_test.index, y=y_test, mode='lines', name='Actual'\n",
    "))\n",
    "fig.add_trace(go.Scatter(\n",
    "    x=y_test.index, y=preds, mode='lines', name='Predicted'\n",
    "))\n",
    "fig.update_layout(\n",
    "    title='Brent Crude Oil – Actual vs Predicted (XGBoost)',\n",
    "    xaxis_title='Date',\n",
    "    yaxis_title='Price (USD)',\n",
    "    template='plotly_white',\n",
    "    legend=dict(orientation='h', y=-0.2)\n",
    ")\n",
    "fig.show()\n"
   ]
  }
 ],
 "metadata": {
  "kernelspec": {
   "display_name": "Python 3",
   "language": "python",
   "name": "python3"
  },
  "language_info": {
   "codemirror_mode": {
    "name": "ipython",
    "version": 3
   },
   "file_extension": ".py",
   "mimetype": "text/x-python",
   "name": "python",
   "nbconvert_exporter": "python",
   "pygments_lexer": "ipython3",
   "version": "3.11.12"
  }
 },
 "nbformat": 4,
 "nbformat_minor": 2
}
