{
 "cells": [
  {
   "cell_type": "markdown",
   "metadata": {},
   "source": [
    "## Random forest"
   ]
  },
  {
   "cell_type": "code",
   "execution_count": null,
   "metadata": {},
   "outputs": [
    {
     "name": "stdout",
     "output_type": "stream",
     "text": [
      "YF.download() has changed argument auto_adjust default to True\n"
     ]
    },
    {
     "name": "stderr",
     "output_type": "stream",
     "text": [
      "[*********************100%***********************]  1 of 1 completed\n"
     ]
    },
    {
     "name": "stdout",
     "output_type": "stream",
     "text": [
      "                          Random Forest\n",
      "RMSE                             1.5969\n",
      "MAE                              1.2053\n",
      "MAPE (%)                         1.6052\n",
      "sMAPE (%)                        1.6009\n",
      "R²                               0.9497\n",
      "Explained Variance               0.9499\n",
      "Theil’s U                        0.0104\n",
      "Directional Accuracy (%)        46.5875\n"
     ]
    },
    {
     "data": {
      "application/vnd.plotly.v1+json": {
       "config": {
        "plotlyServerURL": "https://plot.ly"
       },
       "data": [
        {
         "mode": "lines",
         "name": "Actual",
         "type": "scatter",
         "x": [
          "2024-02-14T00:00:00",
          "2024-02-15T00:00:00",
          "2024-02-16T00:00:00",
          "2024-02-20T00:00:00",
          "2024-02-21T00:00:00",
          "2024-02-22T00:00:00",
          "2024-02-23T00:00:00",
          "2024-02-26T00:00:00",
          "2024-02-27T00:00:00",
          "2024-02-28T00:00:00",
          "2024-02-29T00:00:00",
          "2024-03-01T00:00:00",
          "2024-03-04T00:00:00",
          "2024-03-05T00:00:00",
          "2024-03-06T00:00:00",
          "2024-03-07T00:00:00",
          "2024-03-08T00:00:00",
          "2024-03-11T00:00:00",
          "2024-03-12T00:00:00",
          "2024-03-13T00:00:00",
          "2024-03-14T00:00:00",
          "2024-03-15T00:00:00",
          "2024-03-18T00:00:00",
          "2024-03-19T00:00:00",
          "2024-03-20T00:00:00",
          "2024-03-21T00:00:00",
          "2024-03-22T00:00:00",
          "2024-03-25T00:00:00",
          "2024-03-26T00:00:00",
          "2024-03-27T00:00:00",
          "2024-03-28T00:00:00",
          "2024-04-01T00:00:00",
          "2024-04-02T00:00:00",
          "2024-04-03T00:00:00",
          "2024-04-04T00:00:00",
          "2024-04-05T00:00:00",
          "2024-04-08T00:00:00",
          "2024-04-09T00:00:00",
          "2024-04-10T00:00:00",
          "2024-04-11T00:00:00",
          "2024-04-12T00:00:00",
          "2024-04-15T00:00:00",
          "2024-04-16T00:00:00",
          "2024-04-17T00:00:00",
          "2024-04-18T00:00:00",
          "2024-04-19T00:00:00",
          "2024-04-22T00:00:00",
          "2024-04-23T00:00:00",
          "2024-04-24T00:00:00",
          "2024-04-25T00:00:00",
          "2024-04-26T00:00:00",
          "2024-04-29T00:00:00",
          "2024-04-30T00:00:00",
          "2024-05-01T00:00:00",
          "2024-05-02T00:00:00",
          "2024-05-03T00:00:00",
          "2024-05-06T00:00:00",
          "2024-05-07T00:00:00",
          "2024-05-08T00:00:00",
          "2024-05-09T00:00:00",
          "2024-05-10T00:00:00",
          "2024-05-13T00:00:00",
          "2024-05-14T00:00:00",
          "2024-05-15T00:00:00",
          "2024-05-16T00:00:00",
          "2024-05-17T00:00:00",
          "2024-05-20T00:00:00",
          "2024-05-21T00:00:00",
          "2024-05-22T00:00:00",
          "2024-05-23T00:00:00",
          "2024-05-24T00:00:00",
          "2024-05-28T00:00:00",
          "2024-05-29T00:00:00",
          "2024-05-30T00:00:00",
          "2024-05-31T00:00:00",
          "2024-06-03T00:00:00",
          "2024-06-04T00:00:00",
          "2024-06-05T00:00:00",
          "2024-06-06T00:00:00",
          "2024-06-07T00:00:00",
          "2024-06-10T00:00:00",
          "2024-06-11T00:00:00",
          "2024-06-12T00:00:00",
          "2024-06-13T00:00:00",
          "2024-06-14T00:00:00",
          "2024-06-17T00:00:00",
          "2024-06-18T00:00:00",
          "2024-06-20T00:00:00",
          "2024-06-21T00:00:00",
          "2024-06-24T00:00:00",
          "2024-06-25T00:00:00",
          "2024-06-26T00:00:00",
          "2024-06-27T00:00:00",
          "2024-06-28T00:00:00",
          "2024-07-01T00:00:00",
          "2024-07-02T00:00:00",
          "2024-07-03T00:00:00",
          "2024-07-05T00:00:00",
          "2024-07-08T00:00:00",
          "2024-07-09T00:00:00",
          "2024-07-10T00:00:00",
          "2024-07-11T00:00:00",
          "2024-07-12T00:00:00",
          "2024-07-15T00:00:00",
          "2024-07-16T00:00:00",
          "2024-07-17T00:00:00",
          "2024-07-18T00:00:00",
          "2024-07-19T00:00:00",
          "2024-07-22T00:00:00",
          "2024-07-23T00:00:00",
          "2024-07-24T00:00:00",
          "2024-07-25T00:00:00",
          "2024-07-26T00:00:00",
          "2024-07-29T00:00:00",
          "2024-07-30T00:00:00",
          "2024-07-31T00:00:00",
          "2024-08-01T00:00:00",
          "2024-08-02T00:00:00",
          "2024-08-05T00:00:00",
          "2024-08-06T00:00:00",
          "2024-08-07T00:00:00",
          "2024-08-08T00:00:00",
          "2024-08-09T00:00:00",
          "2024-08-12T00:00:00",
          "2024-08-13T00:00:00",
          "2024-08-14T00:00:00",
          "2024-08-15T00:00:00",
          "2024-08-16T00:00:00",
          "2024-08-19T00:00:00",
          "2024-08-20T00:00:00",
          "2024-08-21T00:00:00",
          "2024-08-22T00:00:00",
          "2024-08-23T00:00:00",
          "2024-08-26T00:00:00",
          "2024-08-27T00:00:00",
          "2024-08-28T00:00:00",
          "2024-08-29T00:00:00",
          "2024-08-30T00:00:00",
          "2024-09-03T00:00:00",
          "2024-09-04T00:00:00",
          "2024-09-05T00:00:00",
          "2024-09-06T00:00:00",
          "2024-09-09T00:00:00",
          "2024-09-10T00:00:00",
          "2024-09-11T00:00:00",
          "2024-09-12T00:00:00",
          "2024-09-13T00:00:00",
          "2024-09-16T00:00:00",
          "2024-09-17T00:00:00",
          "2024-09-18T00:00:00",
          "2024-09-19T00:00:00",
          "2024-09-20T00:00:00",
          "2024-09-23T00:00:00",
          "2024-09-24T00:00:00",
          "2024-09-25T00:00:00",
          "2024-09-26T00:00:00",
          "2024-09-27T00:00:00",
          "2024-09-30T00:00:00",
          "2024-10-01T00:00:00",
          "2024-10-02T00:00:00",
          "2024-10-03T00:00:00",
          "2024-10-04T00:00:00",
          "2024-10-07T00:00:00",
          "2024-10-08T00:00:00",
          "2024-10-09T00:00:00",
          "2024-10-10T00:00:00",
          "2024-10-11T00:00:00",
          "2024-10-14T00:00:00",
          "2024-10-15T00:00:00",
          "2024-10-16T00:00:00",
          "2024-10-17T00:00:00",
          "2024-10-18T00:00:00",
          "2024-10-21T00:00:00",
          "2024-10-22T00:00:00",
          "2024-10-23T00:00:00",
          "2024-10-24T00:00:00",
          "2024-10-25T00:00:00",
          "2024-10-28T00:00:00",
          "2024-10-29T00:00:00",
          "2024-10-30T00:00:00",
          "2024-10-31T00:00:00",
          "2024-11-01T00:00:00",
          "2024-11-04T00:00:00",
          "2024-11-05T00:00:00",
          "2024-11-06T00:00:00",
          "2024-11-07T00:00:00",
          "2024-11-08T00:00:00",
          "2024-11-11T00:00:00",
          "2024-11-12T00:00:00",
          "2024-11-13T00:00:00",
          "2024-11-14T00:00:00",
          "2024-11-15T00:00:00",
          "2024-11-18T00:00:00",
          "2024-11-19T00:00:00",
          "2024-11-20T00:00:00",
          "2024-11-21T00:00:00",
          "2024-11-22T00:00:00",
          "2024-11-25T00:00:00",
          "2024-11-26T00:00:00",
          "2024-11-27T00:00:00",
          "2024-11-29T00:00:00",
          "2024-12-02T00:00:00",
          "2024-12-03T00:00:00",
          "2024-12-04T00:00:00",
          "2024-12-05T00:00:00",
          "2024-12-06T00:00:00",
          "2024-12-09T00:00:00",
          "2024-12-10T00:00:00",
          "2024-12-11T00:00:00",
          "2024-12-12T00:00:00",
          "2024-12-13T00:00:00",
          "2024-12-16T00:00:00",
          "2024-12-17T00:00:00",
          "2024-12-18T00:00:00",
          "2024-12-19T00:00:00",
          "2024-12-20T00:00:00",
          "2024-12-23T00:00:00",
          "2024-12-26T00:00:00",
          "2024-12-27T00:00:00",
          "2024-12-30T00:00:00",
          "2025-01-02T00:00:00",
          "2025-01-03T00:00:00",
          "2025-01-06T00:00:00",
          "2025-01-07T00:00:00",
          "2025-01-08T00:00:00",
          "2025-01-09T00:00:00",
          "2025-01-10T00:00:00",
          "2025-01-13T00:00:00",
          "2025-01-14T00:00:00",
          "2025-01-15T00:00:00",
          "2025-01-16T00:00:00",
          "2025-01-17T00:00:00",
          "2025-01-21T00:00:00",
          "2025-01-22T00:00:00",
          "2025-01-23T00:00:00",
          "2025-01-24T00:00:00",
          "2025-01-27T00:00:00",
          "2025-01-28T00:00:00",
          "2025-01-29T00:00:00",
          "2025-01-30T00:00:00",
          "2025-01-31T00:00:00",
          "2025-02-03T00:00:00",
          "2025-02-04T00:00:00",
          "2025-02-05T00:00:00",
          "2025-02-06T00:00:00",
          "2025-02-07T00:00:00",
          "2025-02-10T00:00:00",
          "2025-02-11T00:00:00",
          "2025-02-12T00:00:00",
          "2025-02-13T00:00:00",
          "2025-02-14T00:00:00",
          "2025-02-18T00:00:00",
          "2025-02-19T00:00:00",
          "2025-02-20T00:00:00",
          "2025-02-21T00:00:00",
          "2025-02-24T00:00:00",
          "2025-02-25T00:00:00",
          "2025-02-26T00:00:00",
          "2025-02-27T00:00:00",
          "2025-02-28T00:00:00",
          "2025-03-03T00:00:00",
          "2025-03-04T00:00:00",
          "2025-03-05T00:00:00",
          "2025-03-06T00:00:00",
          "2025-03-07T00:00:00",
          "2025-03-10T00:00:00",
          "2025-03-11T00:00:00",
          "2025-03-12T00:00:00",
          "2025-03-13T00:00:00",
          "2025-03-14T00:00:00",
          "2025-03-17T00:00:00",
          "2025-03-18T00:00:00",
          "2025-03-19T00:00:00",
          "2025-03-20T00:00:00",
          "2025-03-21T00:00:00",
          "2025-03-24T00:00:00",
          "2025-03-25T00:00:00",
          "2025-03-26T00:00:00",
          "2025-03-27T00:00:00",
          "2025-03-28T00:00:00",
          "2025-03-31T00:00:00",
          "2025-04-01T00:00:00",
          "2025-04-02T00:00:00",
          "2025-04-03T00:00:00",
          "2025-04-04T00:00:00",
          "2025-04-07T00:00:00",
          "2025-04-08T00:00:00",
          "2025-04-09T00:00:00",
          "2025-04-10T00:00:00",
          "2025-04-11T00:00:00",
          "2025-04-14T00:00:00",
          "2025-04-15T00:00:00",
          "2025-04-16T00:00:00",
          "2025-04-17T00:00:00",
          "2025-04-21T00:00:00",
          "2025-04-22T00:00:00",
          "2025-04-23T00:00:00",
          "2025-04-24T00:00:00",
          "2025-04-25T00:00:00",
          "2025-04-28T00:00:00",
          "2025-04-29T00:00:00",
          "2025-04-30T00:00:00",
          "2025-05-01T00:00:00",
          "2025-05-02T00:00:00",
          "2025-05-05T00:00:00",
          "2025-05-06T00:00:00",
          "2025-05-07T00:00:00",
          "2025-05-08T00:00:00",
          "2025-05-09T00:00:00",
          "2025-05-12T00:00:00",
          "2025-05-13T00:00:00",
          "2025-05-14T00:00:00",
          "2025-05-15T00:00:00",
          "2025-05-16T00:00:00",
          "2025-05-19T00:00:00",
          "2025-05-20T00:00:00",
          "2025-05-21T00:00:00",
          "2025-05-22T00:00:00",
          "2025-05-23T00:00:00",
          "2025-05-27T00:00:00",
          "2025-05-28T00:00:00",
          "2025-05-29T00:00:00",
          "2025-05-30T00:00:00",
          "2025-06-02T00:00:00",
          "2025-06-03T00:00:00",
          "2025-06-04T00:00:00",
          "2025-06-05T00:00:00",
          "2025-06-06T00:00:00",
          "2025-06-09T00:00:00",
          "2025-06-10T00:00:00",
          "2025-06-11T00:00:00",
          "2025-06-12T00:00:00",
          "2025-06-13T00:00:00",
          "2025-06-16T00:00:00",
          "2025-06-17T00:00:00",
          "2025-06-18T00:00:00",
          "2025-06-20T00:00:00",
          "2025-06-23T00:00:00"
         ],
         "y": {
          "bdata": "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",
          "dtype": "f8"
         }
        },
        {
         "mode": "lines",
         "name": "Predicted",
         "type": "scatter",
         "x": [
          "2024-02-14T00:00:00",
          "2024-02-15T00:00:00",
          "2024-02-16T00:00:00",
          "2024-02-20T00:00:00",
          "2024-02-21T00:00:00",
          "2024-02-22T00:00:00",
          "2024-02-23T00:00:00",
          "2024-02-26T00:00:00",
          "2024-02-27T00:00:00",
          "2024-02-28T00:00:00",
          "2024-02-29T00:00:00",
          "2024-03-01T00:00:00",
          "2024-03-04T00:00:00",
          "2024-03-05T00:00:00",
          "2024-03-06T00:00:00",
          "2024-03-07T00:00:00",
          "2024-03-08T00:00:00",
          "2024-03-11T00:00:00",
          "2024-03-12T00:00:00",
          "2024-03-13T00:00:00",
          "2024-03-14T00:00:00",
          "2024-03-15T00:00:00",
          "2024-03-18T00:00:00",
          "2024-03-19T00:00:00",
          "2024-03-20T00:00:00",
          "2024-03-21T00:00:00",
          "2024-03-22T00:00:00",
          "2024-03-25T00:00:00",
          "2024-03-26T00:00:00",
          "2024-03-27T00:00:00",
          "2024-03-28T00:00:00",
          "2024-04-01T00:00:00",
          "2024-04-02T00:00:00",
          "2024-04-03T00:00:00",
          "2024-04-04T00:00:00",
          "2024-04-05T00:00:00",
          "2024-04-08T00:00:00",
          "2024-04-09T00:00:00",
          "2024-04-10T00:00:00",
          "2024-04-11T00:00:00",
          "2024-04-12T00:00:00",
          "2024-04-15T00:00:00",
          "2024-04-16T00:00:00",
          "2024-04-17T00:00:00",
          "2024-04-18T00:00:00",
          "2024-04-19T00:00:00",
          "2024-04-22T00:00:00",
          "2024-04-23T00:00:00",
          "2024-04-24T00:00:00",
          "2024-04-25T00:00:00",
          "2024-04-26T00:00:00",
          "2024-04-29T00:00:00",
          "2024-04-30T00:00:00",
          "2024-05-01T00:00:00",
          "2024-05-02T00:00:00",
          "2024-05-03T00:00:00",
          "2024-05-06T00:00:00",
          "2024-05-07T00:00:00",
          "2024-05-08T00:00:00",
          "2024-05-09T00:00:00",
          "2024-05-10T00:00:00",
          "2024-05-13T00:00:00",
          "2024-05-14T00:00:00",
          "2024-05-15T00:00:00",
          "2024-05-16T00:00:00",
          "2024-05-17T00:00:00",
          "2024-05-20T00:00:00",
          "2024-05-21T00:00:00",
          "2024-05-22T00:00:00",
          "2024-05-23T00:00:00",
          "2024-05-24T00:00:00",
          "2024-05-28T00:00:00",
          "2024-05-29T00:00:00",
          "2024-05-30T00:00:00",
          "2024-05-31T00:00:00",
          "2024-06-03T00:00:00",
          "2024-06-04T00:00:00",
          "2024-06-05T00:00:00",
          "2024-06-06T00:00:00",
          "2024-06-07T00:00:00",
          "2024-06-10T00:00:00",
          "2024-06-11T00:00:00",
          "2024-06-12T00:00:00",
          "2024-06-13T00:00:00",
          "2024-06-14T00:00:00",
          "2024-06-17T00:00:00",
          "2024-06-18T00:00:00",
          "2024-06-20T00:00:00",
          "2024-06-21T00:00:00",
          "2024-06-24T00:00:00",
          "2024-06-25T00:00:00",
          "2024-06-26T00:00:00",
          "2024-06-27T00:00:00",
          "2024-06-28T00:00:00",
          "2024-07-01T00:00:00",
          "2024-07-02T00:00:00",
          "2024-07-03T00:00:00",
          "2024-07-05T00:00:00",
          "2024-07-08T00:00:00",
          "2024-07-09T00:00:00",
          "2024-07-10T00:00:00",
          "2024-07-11T00:00:00",
          "2024-07-12T00:00:00",
          "2024-07-15T00:00:00",
          "2024-07-16T00:00:00",
          "2024-07-17T00:00:00",
          "2024-07-18T00:00:00",
          "2024-07-19T00:00:00",
          "2024-07-22T00:00:00",
          "2024-07-23T00:00:00",
          "2024-07-24T00:00:00",
          "2024-07-25T00:00:00",
          "2024-07-26T00:00:00",
          "2024-07-29T00:00:00",
          "2024-07-30T00:00:00",
          "2024-07-31T00:00:00",
          "2024-08-01T00:00:00",
          "2024-08-02T00:00:00",
          "2024-08-05T00:00:00",
          "2024-08-06T00:00:00",
          "2024-08-07T00:00:00",
          "2024-08-08T00:00:00",
          "2024-08-09T00:00:00",
          "2024-08-12T00:00:00",
          "2024-08-13T00:00:00",
          "2024-08-14T00:00:00",
          "2024-08-15T00:00:00",
          "2024-08-16T00:00:00",
          "2024-08-19T00:00:00",
          "2024-08-20T00:00:00",
          "2024-08-21T00:00:00",
          "2024-08-22T00:00:00",
          "2024-08-23T00:00:00",
          "2024-08-26T00:00:00",
          "2024-08-27T00:00:00",
          "2024-08-28T00:00:00",
          "2024-08-29T00:00:00",
          "2024-08-30T00:00:00",
          "2024-09-03T00:00:00",
          "2024-09-04T00:00:00",
          "2024-09-05T00:00:00",
          "2024-09-06T00:00:00",
          "2024-09-09T00:00:00",
          "2024-09-10T00:00:00",
          "2024-09-11T00:00:00",
          "2024-09-12T00:00:00",
          "2024-09-13T00:00:00",
          "2024-09-16T00:00:00",
          "2024-09-17T00:00:00",
          "2024-09-18T00:00:00",
          "2024-09-19T00:00:00",
          "2024-09-20T00:00:00",
          "2024-09-23T00:00:00",
          "2024-09-24T00:00:00",
          "2024-09-25T00:00:00",
          "2024-09-26T00:00:00",
          "2024-09-27T00:00:00",
          "2024-09-30T00:00:00",
          "2024-10-01T00:00:00",
          "2024-10-02T00:00:00",
          "2024-10-03T00:00:00",
          "2024-10-04T00:00:00",
          "2024-10-07T00:00:00",
          "2024-10-08T00:00:00",
          "2024-10-09T00:00:00",
          "2024-10-10T00:00:00",
          "2024-10-11T00:00:00",
          "2024-10-14T00:00:00",
          "2024-10-15T00:00:00",
          "2024-10-16T00:00:00",
          "2024-10-17T00:00:00",
          "2024-10-18T00:00:00",
          "2024-10-21T00:00:00",
          "2024-10-22T00:00:00",
          "2024-10-23T00:00:00",
          "2024-10-24T00:00:00",
          "2024-10-25T00:00:00",
          "2024-10-28T00:00:00",
          "2024-10-29T00:00:00",
          "2024-10-30T00:00:00",
          "2024-10-31T00:00:00",
          "2024-11-01T00:00:00",
          "2024-11-04T00:00:00",
          "2024-11-05T00:00:00",
          "2024-11-06T00:00:00",
          "2024-11-07T00:00:00",
          "2024-11-08T00:00:00",
          "2024-11-11T00:00:00",
          "2024-11-12T00:00:00",
          "2024-11-13T00:00:00",
          "2024-11-14T00:00:00",
          "2024-11-15T00:00:00",
          "2024-11-18T00:00:00",
          "2024-11-19T00:00:00",
          "2024-11-20T00:00:00",
          "2024-11-21T00:00:00",
          "2024-11-22T00:00:00",
          "2024-11-25T00:00:00",
          "2024-11-26T00:00:00",
          "2024-11-27T00:00:00",
          "2024-11-29T00:00:00",
          "2024-12-02T00:00:00",
          "2024-12-03T00:00:00",
          "2024-12-04T00:00:00",
          "2024-12-05T00:00:00",
          "2024-12-06T00:00:00",
          "2024-12-09T00:00:00",
          "2024-12-10T00:00:00",
          "2024-12-11T00:00:00",
          "2024-12-12T00:00:00",
          "2024-12-13T00:00:00",
          "2024-12-16T00:00:00",
          "2024-12-17T00:00:00",
          "2024-12-18T00:00:00",
          "2024-12-19T00:00:00",
          "2024-12-20T00:00:00",
          "2024-12-23T00:00:00",
          "2024-12-26T00:00:00",
          "2024-12-27T00:00:00",
          "2024-12-30T00:00:00",
          "2025-01-02T00:00:00",
          "2025-01-03T00:00:00",
          "2025-01-06T00:00:00",
          "2025-01-07T00:00:00",
          "2025-01-08T00:00:00",
          "2025-01-09T00:00:00",
          "2025-01-10T00:00:00",
          "2025-01-13T00:00:00",
          "2025-01-14T00:00:00",
          "2025-01-15T00:00:00",
          "2025-01-16T00:00:00",
          "2025-01-17T00:00:00",
          "2025-01-21T00:00:00",
          "2025-01-22T00:00:00",
          "2025-01-23T00:00:00",
          "2025-01-24T00:00:00",
          "2025-01-27T00:00:00",
          "2025-01-28T00:00:00",
          "2025-01-29T00:00:00",
          "2025-01-30T00:00:00",
          "2025-01-31T00:00:00",
          "2025-02-03T00:00:00",
          "2025-02-04T00:00:00",
          "2025-02-05T00:00:00",
          "2025-02-06T00:00:00",
          "2025-02-07T00:00:00",
          "2025-02-10T00:00:00",
          "2025-02-11T00:00:00",
          "2025-02-12T00:00:00",
          "2025-02-13T00:00:00",
          "2025-02-14T00:00:00",
          "2025-02-18T00:00:00",
          "2025-02-19T00:00:00",
          "2025-02-20T00:00:00",
          "2025-02-21T00:00:00",
          "2025-02-24T00:00:00",
          "2025-02-25T00:00:00",
          "2025-02-26T00:00:00",
          "2025-02-27T00:00:00",
          "2025-02-28T00:00:00",
          "2025-03-03T00:00:00",
          "2025-03-04T00:00:00",
          "2025-03-05T00:00:00",
          "2025-03-06T00:00:00",
          "2025-03-07T00:00:00",
          "2025-03-10T00:00:00",
          "2025-03-11T00:00:00",
          "2025-03-12T00:00:00",
          "2025-03-13T00:00:00",
          "2025-03-14T00:00:00",
          "2025-03-17T00:00:00",
          "2025-03-18T00:00:00",
          "2025-03-19T00:00:00",
          "2025-03-20T00:00:00",
          "2025-03-21T00:00:00",
          "2025-03-24T00:00:00",
          "2025-03-25T00:00:00",
          "2025-03-26T00:00:00",
          "2025-03-27T00:00:00",
          "2025-03-28T00:00:00",
          "2025-03-31T00:00:00",
          "2025-04-01T00:00:00",
          "2025-04-02T00:00:00",
          "2025-04-03T00:00:00",
          "2025-04-04T00:00:00",
          "2025-04-07T00:00:00",
          "2025-04-08T00:00:00",
          "2025-04-09T00:00:00",
          "2025-04-10T00:00:00",
          "2025-04-11T00:00:00",
          "2025-04-14T00:00:00",
          "2025-04-15T00:00:00",
          "2025-04-16T00:00:00",
          "2025-04-17T00:00:00",
          "2025-04-21T00:00:00",
          "2025-04-22T00:00:00",
          "2025-04-23T00:00:00",
          "2025-04-24T00:00:00",
          "2025-04-25T00:00:00",
          "2025-04-28T00:00:00",
          "2025-04-29T00:00:00",
          "2025-04-30T00:00:00",
          "2025-05-01T00:00:00",
          "2025-05-02T00:00:00",
          "2025-05-05T00:00:00",
          "2025-05-06T00:00:00",
          "2025-05-07T00:00:00",
          "2025-05-08T00:00:00",
          "2025-05-09T00:00:00",
          "2025-05-12T00:00:00",
          "2025-05-13T00:00:00",
          "2025-05-14T00:00:00",
          "2025-05-15T00:00:00",
          "2025-05-16T00:00:00",
          "2025-05-19T00:00:00",
          "2025-05-20T00:00:00",
          "2025-05-21T00:00:00",
          "2025-05-22T00:00:00",
          "2025-05-23T00:00:00",
          "2025-05-27T00:00:00",
          "2025-05-28T00:00:00",
          "2025-05-29T00:00:00",
          "2025-05-30T00:00:00",
          "2025-06-02T00:00:00",
          "2025-06-03T00:00:00",
          "2025-06-04T00:00:00",
          "2025-06-05T00:00:00",
          "2025-06-06T00:00:00",
          "2025-06-09T00:00:00",
          "2025-06-10T00:00:00",
          "2025-06-11T00:00:00",
          "2025-06-12T00:00:00",
          "2025-06-13T00:00:00",
          "2025-06-16T00:00:00",
          "2025-06-17T00:00:00",
          "2025-06-18T00:00:00",
          "2025-06-20T00:00:00",
          "2025-06-23T00:00:00"
         ],
         "y": {
          "bdata": "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",
          "dtype": "f8"
         }
        }
       ],
       "layout": {
        "legend": {
         "orientation": "h",
         "y": -0.2
        },
        "template": {
         "data": {
          "bar": [
           {
            "error_x": {
             "color": "#2a3f5f"
            },
            "error_y": {
             "color": "#2a3f5f"
            },
            "marker": {
             "line": {
              "color": "white",
              "width": 0.5
             },
             "pattern": {
              "fillmode": "overlay",
              "size": 10,
              "solidity": 0.2
             }
            },
            "type": "bar"
           }
          ],
          "barpolar": [
           {
            "marker": {
             "line": {
              "color": "white",
              "width": 0.5
             },
             "pattern": {
              "fillmode": "overlay",
              "size": 10,
              "solidity": 0.2
             }
            },
            "type": "barpolar"
           }
          ],
          "carpet": [
           {
            "aaxis": {
             "endlinecolor": "#2a3f5f",
             "gridcolor": "#C8D4E3",
             "linecolor": "#C8D4E3",
             "minorgridcolor": "#C8D4E3",
             "startlinecolor": "#2a3f5f"
            },
            "baxis": {
             "endlinecolor": "#2a3f5f",
             "gridcolor": "#C8D4E3",
             "linecolor": "#C8D4E3",
             "minorgridcolor": "#C8D4E3",
             "startlinecolor": "#2a3f5f"
            },
            "type": "carpet"
           }
          ],
          "choropleth": [
           {
            "colorbar": {
             "outlinewidth": 0,
             "ticks": ""
            },
            "type": "choropleth"
           }
          ],
          "contour": [
           {
            "colorbar": {
             "outlinewidth": 0,
             "ticks": ""
            },
            "colorscale": [
             [
              0,
              "#0d0887"
             ],
             [
              0.1111111111111111,
              "#46039f"
             ],
             [
              0.2222222222222222,
              "#7201a8"
             ],
             [
              0.3333333333333333,
              "#9c179e"
             ],
             [
              0.4444444444444444,
              "#bd3786"
             ],
             [
              0.5555555555555556,
              "#d8576b"
             ],
             [
              0.6666666666666666,
              "#ed7953"
             ],
             [
              0.7777777777777778,
              "#fb9f3a"
             ],
             [
              0.8888888888888888,
              "#fdca26"
             ],
             [
              1,
              "#f0f921"
             ]
            ],
            "type": "contour"
           }
          ],
          "contourcarpet": [
           {
            "colorbar": {
             "outlinewidth": 0,
             "ticks": ""
            },
            "type": "contourcarpet"
           }
          ],
          "heatmap": [
           {
            "colorbar": {
             "outlinewidth": 0,
             "ticks": ""
            },
            "colorscale": [
             [
              0,
              "#0d0887"
             ],
             [
              0.1111111111111111,
              "#46039f"
             ],
             [
              0.2222222222222222,
              "#7201a8"
             ],
             [
              0.3333333333333333,
              "#9c179e"
             ],
             [
              0.4444444444444444,
              "#bd3786"
             ],
             [
              0.5555555555555556,
              "#d8576b"
             ],
             [
              0.6666666666666666,
              "#ed7953"
             ],
             [
              0.7777777777777778,
              "#fb9f3a"
             ],
             [
              0.8888888888888888,
              "#fdca26"
             ],
             [
              1,
              "#f0f921"
             ]
            ],
            "type": "heatmap"
           }
          ],
          "histogram": [
           {
            "marker": {
             "pattern": {
              "fillmode": "overlay",
              "size": 10,
              "solidity": 0.2
             }
            },
            "type": "histogram"
           }
          ],
          "histogram2d": [
           {
            "colorbar": {
             "outlinewidth": 0,
             "ticks": ""
            },
            "colorscale": [
             [
              0,
              "#0d0887"
             ],
             [
              0.1111111111111111,
              "#46039f"
             ],
             [
              0.2222222222222222,
              "#7201a8"
             ],
             [
              0.3333333333333333,
              "#9c179e"
             ],
             [
              0.4444444444444444,
              "#bd3786"
             ],
             [
              0.5555555555555556,
              "#d8576b"
             ],
             [
              0.6666666666666666,
              "#ed7953"
             ],
             [
              0.7777777777777778,
              "#fb9f3a"
             ],
             [
              0.8888888888888888,
              "#fdca26"
             ],
             [
              1,
              "#f0f921"
             ]
            ],
            "type": "histogram2d"
           }
          ],
          "histogram2dcontour": [
           {
            "colorbar": {
             "outlinewidth": 0,
             "ticks": ""
            },
            "colorscale": [
             [
              0,
              "#0d0887"
             ],
             [
              0.1111111111111111,
              "#46039f"
             ],
             [
              0.2222222222222222,
              "#7201a8"
             ],
             [
              0.3333333333333333,
              "#9c179e"
             ],
             [
              0.4444444444444444,
              "#bd3786"
             ],
             [
              0.5555555555555556,
              "#d8576b"
             ],
             [
              0.6666666666666666,
              "#ed7953"
             ],
             [
              0.7777777777777778,
              "#fb9f3a"
             ],
             [
              0.8888888888888888,
              "#fdca26"
             ],
             [
              1,
              "#f0f921"
             ]
            ],
            "type": "histogram2dcontour"
           }
          ],
          "mesh3d": [
           {
            "colorbar": {
             "outlinewidth": 0,
             "ticks": ""
            },
            "type": "mesh3d"
           }
          ],
          "parcoords": [
           {
            "line": {
             "colorbar": {
              "outlinewidth": 0,
              "ticks": ""
             }
            },
            "type": "parcoords"
           }
          ],
          "pie": [
           {
            "automargin": true,
            "type": "pie"
           }
          ],
          "scatter": [
           {
            "fillpattern": {
             "fillmode": "overlay",
             "size": 10,
             "solidity": 0.2
            },
            "type": "scatter"
           }
          ],
          "scatter3d": [
           {
            "line": {
             "colorbar": {
              "outlinewidth": 0,
              "ticks": ""
             }
            },
            "marker": {
             "colorbar": {
              "outlinewidth": 0,
              "ticks": ""
             }
            },
            "type": "scatter3d"
           }
          ],
          "scattercarpet": [
           {
            "marker": {
             "colorbar": {
              "outlinewidth": 0,
              "ticks": ""
             }
            },
            "type": "scattercarpet"
           }
          ],
          "scattergeo": [
           {
            "marker": {
             "colorbar": {
              "outlinewidth": 0,
              "ticks": ""
             }
            },
            "type": "scattergeo"
           }
          ],
          "scattergl": [
           {
            "marker": {
             "colorbar": {
              "outlinewidth": 0,
              "ticks": ""
             }
            },
            "type": "scattergl"
           }
          ],
          "scattermap": [
           {
            "marker": {
             "colorbar": {
              "outlinewidth": 0,
              "ticks": ""
             }
            },
            "type": "scattermap"
           }
          ],
          "scattermapbox": [
           {
            "marker": {
             "colorbar": {
              "outlinewidth": 0,
              "ticks": ""
             }
            },
            "type": "scattermapbox"
           }
          ],
          "scatterpolar": [
           {
            "marker": {
             "colorbar": {
              "outlinewidth": 0,
              "ticks": ""
             }
            },
            "type": "scatterpolar"
           }
          ],
          "scatterpolargl": [
           {
            "marker": {
             "colorbar": {
              "outlinewidth": 0,
              "ticks": ""
             }
            },
            "type": "scatterpolargl"
           }
          ],
          "scatterternary": [
           {
            "marker": {
             "colorbar": {
              "outlinewidth": 0,
              "ticks": ""
             }
            },
            "type": "scatterternary"
           }
          ],
          "surface": [
           {
            "colorbar": {
             "outlinewidth": 0,
             "ticks": ""
            },
            "colorscale": [
             [
              0,
              "#0d0887"
             ],
             [
              0.1111111111111111,
              "#46039f"
             ],
             [
              0.2222222222222222,
              "#7201a8"
             ],
             [
              0.3333333333333333,
              "#9c179e"
             ],
             [
              0.4444444444444444,
              "#bd3786"
             ],
             [
              0.5555555555555556,
              "#d8576b"
             ],
             [
              0.6666666666666666,
              "#ed7953"
             ],
             [
              0.7777777777777778,
              "#fb9f3a"
             ],
             [
              0.8888888888888888,
              "#fdca26"
             ],
             [
              1,
              "#f0f921"
             ]
            ],
            "type": "surface"
           }
          ],
          "table": [
           {
            "cells": {
             "fill": {
              "color": "#EBF0F8"
             },
             "line": {
              "color": "white"
             }
            },
            "header": {
             "fill": {
              "color": "#C8D4E3"
             },
             "line": {
              "color": "white"
             }
            },
            "type": "table"
           }
          ]
         },
         "layout": {
          "annotationdefaults": {
           "arrowcolor": "#2a3f5f",
           "arrowhead": 0,
           "arrowwidth": 1
          },
          "autotypenumbers": "strict",
          "coloraxis": {
           "colorbar": {
            "outlinewidth": 0,
            "ticks": ""
           }
          },
          "colorscale": {
           "diverging": [
            [
             0,
             "#8e0152"
            ],
            [
             0.1,
             "#c51b7d"
            ],
            [
             0.2,
             "#de77ae"
            ],
            [
             0.3,
             "#f1b6da"
            ],
            [
             0.4,
             "#fde0ef"
            ],
            [
             0.5,
             "#f7f7f7"
            ],
            [
             0.6,
             "#e6f5d0"
            ],
            [
             0.7,
             "#b8e186"
            ],
            [
             0.8,
             "#7fbc41"
            ],
            [
             0.9,
             "#4d9221"
            ],
            [
             1,
             "#276419"
            ]
           ],
           "sequential": [
            [
             0,
             "#0d0887"
            ],
            [
             0.1111111111111111,
             "#46039f"
            ],
            [
             0.2222222222222222,
             "#7201a8"
            ],
            [
             0.3333333333333333,
             "#9c179e"
            ],
            [
             0.4444444444444444,
             "#bd3786"
            ],
            [
             0.5555555555555556,
             "#d8576b"
            ],
            [
             0.6666666666666666,
             "#ed7953"
            ],
            [
             0.7777777777777778,
             "#fb9f3a"
            ],
            [
             0.8888888888888888,
             "#fdca26"
            ],
            [
             1,
             "#f0f921"
            ]
           ],
           "sequentialminus": [
            [
             0,
             "#0d0887"
            ],
            [
             0.1111111111111111,
             "#46039f"
            ],
            [
             0.2222222222222222,
             "#7201a8"
            ],
            [
             0.3333333333333333,
             "#9c179e"
            ],
            [
             0.4444444444444444,
             "#bd3786"
            ],
            [
             0.5555555555555556,
             "#d8576b"
            ],
            [
             0.6666666666666666,
             "#ed7953"
            ],
            [
             0.7777777777777778,
             "#fb9f3a"
            ],
            [
             0.8888888888888888,
             "#fdca26"
            ],
            [
             1,
             "#f0f921"
            ]
           ]
          },
          "colorway": [
           "#636efa",
           "#EF553B",
           "#00cc96",
           "#ab63fa",
           "#FFA15A",
           "#19d3f3",
           "#FF6692",
           "#B6E880",
           "#FF97FF",
           "#FECB52"
          ],
          "font": {
           "color": "#2a3f5f"
          },
          "geo": {
           "bgcolor": "white",
           "lakecolor": "white",
           "landcolor": "white",
           "showlakes": true,
           "showland": true,
           "subunitcolor": "#C8D4E3"
          },
          "hoverlabel": {
           "align": "left"
          },
          "hovermode": "closest",
          "mapbox": {
           "style": "light"
          },
          "paper_bgcolor": "white",
          "plot_bgcolor": "white",
          "polar": {
           "angularaxis": {
            "gridcolor": "#EBF0F8",
            "linecolor": "#EBF0F8",
            "ticks": ""
           },
           "bgcolor": "white",
           "radialaxis": {
            "gridcolor": "#EBF0F8",
            "linecolor": "#EBF0F8",
            "ticks": ""
           }
          },
          "scene": {
           "xaxis": {
            "backgroundcolor": "white",
            "gridcolor": "#DFE8F3",
            "gridwidth": 2,
            "linecolor": "#EBF0F8",
            "showbackground": true,
            "ticks": "",
            "zerolinecolor": "#EBF0F8"
           },
           "yaxis": {
            "backgroundcolor": "white",
            "gridcolor": "#DFE8F3",
            "gridwidth": 2,
            "linecolor": "#EBF0F8",
            "showbackground": true,
            "ticks": "",
            "zerolinecolor": "#EBF0F8"
           },
           "zaxis": {
            "backgroundcolor": "white",
            "gridcolor": "#DFE8F3",
            "gridwidth": 2,
            "linecolor": "#EBF0F8",
            "showbackground": true,
            "ticks": "",
            "zerolinecolor": "#EBF0F8"
           }
          },
          "shapedefaults": {
           "line": {
            "color": "#2a3f5f"
           }
          },
          "ternary": {
           "aaxis": {
            "gridcolor": "#DFE8F3",
            "linecolor": "#A2B1C6",
            "ticks": ""
           },
           "baxis": {
            "gridcolor": "#DFE8F3",
            "linecolor": "#A2B1C6",
            "ticks": ""
           },
           "bgcolor": "white",
           "caxis": {
            "gridcolor": "#DFE8F3",
            "linecolor": "#A2B1C6",
            "ticks": ""
           }
          },
          "title": {
           "x": 0.05
          },
          "xaxis": {
           "automargin": true,
           "gridcolor": "#EBF0F8",
           "linecolor": "#EBF0F8",
           "ticks": "",
           "title": {
            "standoff": 15
           },
           "zerolinecolor": "#EBF0F8",
           "zerolinewidth": 2
          },
          "yaxis": {
           "automargin": true,
           "gridcolor": "#EBF0F8",
           "linecolor": "#EBF0F8",
           "ticks": "",
           "title": {
            "standoff": 15
           },
           "zerolinecolor": "#EBF0F8",
           "zerolinewidth": 2
          }
         }
        },
        "title": {
         "text": "Brent Crude Oil – Actual vs Predicted"
        },
        "xaxis": {
         "title": {
          "text": "Date"
         }
        },
        "yaxis": {
         "title": {
          "text": "Price (USD)"
         }
        }
       }
      }
     },
     "metadata": {},
     "output_type": "display_data"
    }
   ],
   "source": [
    "import yfinance as yf\n",
    "import pandas as pd\n",
    "import numpy as np\n",
    "from sklearn.ensemble import RandomForestRegressor\n",
    "from sklearn.metrics import (\n",
    "    mean_squared_error,\n",
    "    mean_absolute_error,\n",
    "    mean_absolute_percentage_error,\n",
    "    r2_score,\n",
    "    explained_variance_score\n",
    ")\n",
    "import plotly.graph_objects as go\n",
    "\n",
    "SEED = 42\n",
    "np.random.seed(SEED)\n",
    "\n",
    "# === 1. Download Brent crude oil price data ==================================\n",
    "df = (\n",
    "    yf.download(\"BZ=F\", start=\"2011-06-13\", end=\"2025-06-25\")[['Close']]\n",
    "      .rename(columns={'Close': 'Price'})\n",
    "      .dropna()\n",
    ")\n",
    "\n",
    "# === 2. Load & align embeddings =============================================\n",
    "emb = (\n",
    "    pd.read_csv('../Data/raw/embeddings_feature_news_embeddings_Word2Vec_HF_En.csv', parse_dates=['date'])\n",
    "      .set_index('date')\n",
    ")\n",
    "# Rialliniamo all'indice di df\n",
    "emb = emb.reindex(df.index).ffill().bfill()\n",
    "\n",
    "sent = (\n",
    "    pd.read_csv('../Data/raw/daily_sent.csv', parse_dates=['Date'])\n",
    "      .set_index('Date')\n",
    ")\n",
    "\n",
    "# Aggiungiamo gli embedding al DataFrame principale\n",
    "\n",
    "df['SENT_1'] = emb['embedding_2d_1_mean']\n",
    "df['SENT_2'] = emb['embedding_2d_2_mean']\n",
    "df['cosine_sim']            = emb['cosine_sim']\n",
    "df['drift']                 = emb['drift']\n",
    "df['drift_velocity']        = emb['drift_velocity']\n",
    "df['drift_velocity_diff']   = emb['drift_velocity_diff']\n",
    "df['drift_acceleration']    = emb['drift_acceleration']\n",
    "df['var_2d_1']              = emb['embedding_2d_1_var_daily']\n",
    "df['var_2d_2']              = emb['embedding_2d_2_var_daily']\n",
    "df['sentiment']             = sent['avg_score']\n",
    "\n",
    "# === 3. Costruzione delle lag-feature =======================================\n",
    "# Lag dei prezzi\n",
    "for lag in range(1, 6):\n",
    "    df[f'price_lag_{lag}'] = df['Price'].shift(lag)\n",
    "\n",
    "\n",
    "\n",
    "# Target = prezzo del giorno successivo\n",
    "df['target'] = df['Price'].shift(-1)\n",
    "df.dropna(inplace=True)\n",
    "\n",
    "# === 4. Train-test split (90/10) ============================================\n",
    "\n",
    "feat_cols = [\n",
    "    'Price','SENT_1','SENT_2',\n",
    "    'cosine_sim','drift','drift_velocity','drift_velocity_diff','drift_acceleration',\n",
    "    'var_2d_1','var_2d_2',\n",
    "    'sentiment'\n",
    "]\n",
    "\n",
    "X = df[feat_cols]\n",
    "y = df['target']\n",
    "split_idx = int(len(df) * 0.9)\n",
    "X_train, X_test = X.iloc[:split_idx], X.iloc[split_idx:]\n",
    "y_train, y_test = y.iloc[:split_idx], y.iloc[split_idx:]\n",
    "\n",
    "# === 5. Train Random Forest =================================================\n",
    "rf = RandomForestRegressor(n_estimators=200, random_state=SEED, n_jobs=-1)\n",
    "rf.fit(X_train, y_train)\n",
    "preds = rf.predict(X_test)\n",
    "\n",
    "# === 6. Metriche di valutazione ============================================\n",
    "def smape(y_true, y_pred):\n",
    "    denom = (np.abs(y_true) + np.abs(y_pred)) / 2\n",
    "    return np.mean(np.abs(y_true - y_pred) / denom) * 100\n",
    "\n",
    "def theils_u(y_true, y_pred):\n",
    "    rmsfe = np.sqrt(np.mean((y_pred - y_true) ** 2))\n",
    "    denom = (np.sqrt(np.mean(y_true ** 2)) +\n",
    "             np.sqrt(np.mean(y_pred ** 2)))\n",
    "    return rmsfe / denom\n",
    "\n",
    "metrics = {\n",
    "    \"RMSE\": np.sqrt(mean_squared_error(y_test, preds)),\n",
    "    \"MAE\": mean_absolute_error(y_test, preds),\n",
    "    \"MAPE (%)\": mean_absolute_percentage_error(y_test, preds) * 100,\n",
    "    \"sMAPE (%)\": smape(y_test.values, preds),\n",
    "    \"R²\": r2_score(y_test, preds),\n",
    "    \"Explained Variance\": explained_variance_score(y_test, preds),\n",
    "    \"Theil’s U\": theils_u(y_test.values, preds),\n",
    "    \"Directional Accuracy (%)\": (\n",
    "        np.mean(\n",
    "            np.sign(y_test.values[1:] - y_test.values[:-1]) ==\n",
    "            np.sign(preds[1:] - y_test.values[:-1])\n",
    "        ) * 100\n",
    "    )\n",
    "}\n",
    "\n",
    "print(pd.Series(metrics).to_frame('Random Forest').round(4))\n",
    "\n",
    "# === 7. Grafico Plotly Actual vs Predicted =================================\n",
    "fig = go.Figure()\n",
    "fig.add_trace(go.Scatter(\n",
    "    x=y_test.index, y=y_test, mode='lines', name='Actual'\n",
    "))\n",
    "fig.add_trace(go.Scatter(\n",
    "    x=y_test.index, y=preds, mode='lines', name='Predicted'\n",
    "))\n",
    "fig.update_layout(\n",
    "    title='Brent Crude Oil – Actual vs Predicted',\n",
    "    xaxis_title='Date',\n",
    "    yaxis_title='Price (USD)',\n",
    "    template='plotly_white',\n",
    "    legend=dict(orientation='h', y=-0.2)\n",
    ")\n",
    "fig.show()\n"
   ]
  },
  {
   "cell_type": "code",
   "execution_count": 2,
   "metadata": {},
   "outputs": [
    {
     "name": "stderr",
     "output_type": "stream",
     "text": [
      "/opt/homebrew/lib/python3.11/site-packages/tqdm/auto.py:21: TqdmWarning:\n",
      "\n",
      "IProgress not found. Please update jupyter and ipywidgets. See https://ipywidgets.readthedocs.io/en/stable/user_install.html\n",
      "\n"
     ]
    },
    {
     "data": {
      "image/png": "[encoded data removed]",
      "text/plain": [
       "<Figure size 640x480 with 1 Axes>"
      ]
     },
     "metadata": {},
     "output_type": "display_data"
    }
   ],
   "source": [
    "import shap\n",
    "\n",
    "explainer = shap.TreeExplainer(rf)\n",
    "\n",
    "def shap_bar_plot_for_date(date_str):\n",
    "    date = pd.to_datetime(date_str)\n",
    "    if date not in X_test.index:\n",
    "        print(f\"Data {date_str} non trovata nel test set.\")\n",
    "        return\n",
    "\n",
    "    x_instance = X_test.loc[date].values.reshape(1, -1)\n",
    "    shap_values = explainer.shap_values(x_instance)\n",
    "\n",
    "    shap.bar_plot(shap_values[0], feature_names=feat_cols)\n",
    "\n",
    "shap_bar_plot_for_date(\"2025-04-02\")"
   ]
  },
  {
   "cell_type": "code",
   "execution_count": 3,
   "metadata": {},
   "outputs": [
    {
     "data": {
      "text/plain": [
       "Price   Ticker\n",
       "Price   BZ=F      74.949997\n",
       "target            70.139999\n",
       "Name: 2025-04-02 00:00:00, dtype: float64"
      ]
     },
     "execution_count": 3,
     "metadata": {},
     "output_type": "execute_result"
    }
   ],
   "source": [
    "df.loc['2025-04-02', ['Price', 'target']]"
   ]
  },
  {
   "cell_type": "code",
   "execution_count": 4,
   "metadata": {},
   "outputs": [
    {
     "data": {
      "text/plain": [
       "69.68450054168702"
      ]
     },
     "execution_count": 4,
     "metadata": {},
     "output_type": "execute_result"
    }
   ],
   "source": [
    "date_target = '2025-04-03'\n",
    "idx = y_test.index.get_loc(date_target)\n",
    "preds[idx]"
   ]
  },
  {
   "cell_type": "code",
   "execution_count": 5,
   "metadata": {},
   "outputs": [
    {
     "data": {
      "text/plain": [
       "645     7\n",
       "646     7\n",
       "647     9\n",
       "648    14\n",
       "649    15\n",
       "650    13\n",
       "651     3\n",
       "652    15\n",
       "653    11\n",
       "654    14\n",
       "655    15\n",
       "656     3\n",
       "Name: cluster, dtype: int64"
      ]
     },
     "execution_count": 5,
     "metadata": {},
     "output_type": "execute_result"
    }
   ],
   "source": [
    "df_1 = pd.read_csv(\"../Data/raw/embeddings_CA_Word2vec.csv\")\n",
    "df_1.drop(columns=['Unnamed: 0'], inplace=True)\n",
    "df_1[df_1[\"Date\"] == \"2025-04-02\"][\"cluster\"]"
   ]
  },
  {
   "cell_type": "code",
   "execution_count": 6,
   "metadata": {},
   "outputs": [
    {
     "data": {
      "image/png": "[encoded data removed]",
      "text/plain": [
       "<Figure size 640x480 with 1 Axes>"
      ]
     },
     "metadata": {},
     "output_type": "display_data"
    }
   ],
   "source": [
    "explainer = shap.TreeExplainer(rf)\n",
    "\n",
    "def shap_bar_plot_for_date(date_str):\n",
    "    date = pd.to_datetime(date_str)\n",
    "    if date not in X_test.index:\n",
    "        print(f\"Data {date_str} non trovata nel test set.\")\n",
    "        return\n",
    "\n",
    "    x_instance = X_test.loc[date].values.reshape(1, -1)\n",
    "    shap_values = explainer.shap_values(x_instance)\n",
    "\n",
    "    shap.bar_plot(shap_values[0], feature_names=feat_cols)\n",
    "\n",
    "shap_bar_plot_for_date(\"2025-06-17\")"
   ]
  },
  {
   "cell_type": "code",
   "execution_count": 7,
   "metadata": {},
   "outputs": [
    {
     "data": {
      "text/plain": [
       "Price   Ticker\n",
       "Price   BZ=F      76.449997\n",
       "target            76.699997\n",
       "Name: 2025-06-17 00:00:00, dtype: float64"
      ]
     },
     "execution_count": 7,
     "metadata": {},
     "output_type": "execute_result"
    }
   ],
   "source": [
    "df.loc['2025-06-17', ['Price', 'target']]"
   ]
  },
  {
   "cell_type": "code",
   "execution_count": 8,
   "metadata": {},
   "outputs": [
    {
     "data": {
      "text/plain": [
       "76.52080043792725"
      ]
     },
     "execution_count": 8,
     "metadata": {},
     "output_type": "execute_result"
    }
   ],
   "source": [
    "date_target = '2025-06-18'\n",
    "idx = y_test.index.get_loc(date_target)\n",
    "preds[idx]"
   ]
  },
  {
   "cell_type": "code",
   "execution_count": 9,
   "metadata": {},
   "outputs": [
    {
     "data": {
      "text/plain": [
       "60     9\n",
       "61     4\n",
       "62    13\n",
       "63     6\n",
       "64    11\n",
       "65     0\n",
       "66     8\n",
       "67    11\n",
       "68    13\n",
       "69     2\n",
       "70    13\n",
       "Name: cluster, dtype: int64"
      ]
     },
     "execution_count": 9,
     "metadata": {},
     "output_type": "execute_result"
    }
   ],
   "source": [
    "df_1 = pd.read_csv(\"../Data/raw/embeddings_CA_ST.csv\")\n",
    "df_1.drop(columns=['Unnamed: 0'], inplace=True)\n",
    "df_1[df_1[\"Date\"] == \"2025-06-17\"][\"cluster\"]"
   ]
  },
  {
   "cell_type": "markdown",
   "metadata": {},
   "source": [
    "## XGBOOST"
   ]
  },
  {
   "cell_type": "code",
   "execution_count": null,
   "metadata": {},
   "outputs": [
    {
     "name": "stderr",
     "output_type": "stream",
     "text": [
      "[*********************100%***********************]  1 of 1 completed\n"
     ]
    },
    {
     "name": "stdout",
     "output_type": "stream",
     "text": [
      "                          XGBoost\n",
      "RMSE                       1.5870\n",
      "MAE                        1.1876\n",
      "MAPE (%)                   1.5695\n",
      "sMAPE (%)                  1.5616\n",
      "R²                         0.9503\n",
      "Explained Variance         0.9510\n",
      "Theil’s U                  0.0103\n",
      "Directional Accuracy (%)  52.2255\n"
     ]
    },
    {
     "data": {
      "application/vnd.plotly.v1+json": {
       "config": {
        "plotlyServerURL": "https://plot.ly"
       },
       "data": [
        {
         "mode": "lines",
         "name": "Actual",
         "type": "scatter",
         "x": [
          "2024-02-14T00:00:00.000000000",
          "2024-02-15T00:00:00.000000000",
          "2024-02-16T00:00:00.000000000",
          "2024-02-20T00:00:00.000000000",
          "2024-02-21T00:00:00.000000000",
          "2024-02-22T00:00:00.000000000",
          "2024-02-23T00:00:00.000000000",
          "2024-02-26T00:00:00.000000000",
          "2024-02-27T00:00:00.000000000",
          "2024-02-28T00:00:00.000000000",
          "2024-02-29T00:00:00.000000000",
          "2024-03-01T00:00:00.000000000",
          "2024-03-04T00:00:00.000000000",
          "2024-03-05T00:00:00.000000000",
          "2024-03-06T00:00:00.000000000",
          "2024-03-07T00:00:00.000000000",
          "2024-03-08T00:00:00.000000000",
          "2024-03-11T00:00:00.000000000",
          "2024-03-12T00:00:00.000000000",
          "2024-03-13T00:00:00.000000000",
          "2024-03-14T00:00:00.000000000",
          "2024-03-15T00:00:00.000000000",
          "2024-03-18T00:00:00.000000000",
          "2024-03-19T00:00:00.000000000",
          "2024-03-20T00:00:00.000000000",
          "2024-03-21T00:00:00.000000000",
          "2024-03-22T00:00:00.000000000",
          "2024-03-25T00:00:00.000000000",
          "2024-03-26T00:00:00.000000000",
          "2024-03-27T00:00:00.000000000",
          "2024-03-28T00:00:00.000000000",
          "2024-04-01T00:00:00.000000000",
          "2024-04-02T00:00:00.000000000",
          "2024-04-03T00:00:00.000000000",
          "2024-04-04T00:00:00.000000000",
          "2024-04-05T00:00:00.000000000",
          "2024-04-08T00:00:00.000000000",
          "2024-04-09T00:00:00.000000000",
          "2024-04-10T00:00:00.000000000",
          "2024-04-11T00:00:00.000000000",
          "2024-04-12T00:00:00.000000000",
          "2024-04-15T00:00:00.000000000",
          "2024-04-16T00:00:00.000000000",
          "2024-04-17T00:00:00.000000000",
          "2024-04-18T00:00:00.000000000",
          "2024-04-19T00:00:00.000000000",
          "2024-04-22T00:00:00.000000000",
          "2024-04-23T00:00:00.000000000",
          "2024-04-24T00:00:00.000000000",
          "2024-04-25T00:00:00.000000000",
          "2024-04-26T00:00:00.000000000",
          "2024-04-29T00:00:00.000000000",
          "2024-04-30T00:00:00.000000000",
          "2024-05-01T00:00:00.000000000",
          "2024-05-02T00:00:00.000000000",
          "2024-05-03T00:00:00.000000000",
          "2024-05-06T00:00:00.000000000",
          "2024-05-07T00:00:00.000000000",
          "2024-05-08T00:00:00.000000000",
          "2024-05-09T00:00:00.000000000",
          "2024-05-10T00:00:00.000000000",
          "2024-05-13T00:00:00.000000000",
          "2024-05-14T00:00:00.000000000",
          "2024-05-15T00:00:00.000000000",
          "2024-05-16T00:00:00.000000000",
          "2024-05-17T00:00:00.000000000",
          "2024-05-20T00:00:00.000000000",
          "2024-05-21T00:00:00.000000000",
          "2024-05-22T00:00:00.000000000",
          "2024-05-23T00:00:00.000000000",
          "2024-05-24T00:00:00.000000000",
          "2024-05-28T00:00:00.000000000",
          "2024-05-29T00:00:00.000000000",
          "2024-05-30T00:00:00.000000000",
          "2024-05-31T00:00:00.000000000",
          "2024-06-03T00:00:00.000000000",
          "2024-06-04T00:00:00.000000000",
          "2024-06-05T00:00:00.000000000",
          "2024-06-06T00:00:00.000000000",
          "2024-06-07T00:00:00.000000000",
          "2024-06-10T00:00:00.000000000",
          "2024-06-11T00:00:00.000000000",
          "2024-06-12T00:00:00.000000000",
          "2024-06-13T00:00:00.000000000",
          "2024-06-14T00:00:00.000000000",
          "2024-06-17T00:00:00.000000000",
          "2024-06-18T00:00:00.000000000",
          "2024-06-20T00:00:00.000000000",
          "2024-06-21T00:00:00.000000000",
          "2024-06-24T00:00:00.000000000",
          "2024-06-25T00:00:00.000000000",
          "2024-06-26T00:00:00.000000000",
          "2024-06-27T00:00:00.000000000",
          "2024-06-28T00:00:00.000000000",
          "2024-07-01T00:00:00.000000000",
          "2024-07-02T00:00:00.000000000",
          "2024-07-03T00:00:00.000000000",
          "2024-07-05T00:00:00.000000000",
          "2024-07-08T00:00:00.000000000",
          "2024-07-09T00:00:00.000000000",
          "2024-07-10T00:00:00.000000000",
          "2024-07-11T00:00:00.000000000",
          "2024-07-12T00:00:00.000000000",
          "2024-07-15T00:00:00.000000000",
          "2024-07-16T00:00:00.000000000",
          "2024-07-17T00:00:00.000000000",
          "2024-07-18T00:00:00.000000000",
          "2024-07-19T00:00:00.000000000",
          "2024-07-22T00:00:00.000000000",
          "2024-07-23T00:00:00.000000000",
          "2024-07-24T00:00:00.000000000",
          "2024-07-25T00:00:00.000000000",
          "2024-07-26T00:00:00.000000000",
          "2024-07-29T00:00:00.000000000",
          "2024-07-30T00:00:00.000000000",
          "2024-07-31T00:00:00.000000000",
          "2024-08-01T00:00:00.000000000",
          "2024-08-02T00:00:00.000000000",
          "2024-08-05T00:00:00.000000000",
          "2024-08-06T00:00:00.000000000",
          "2024-08-07T00:00:00.000000000",
          "2024-08-08T00:00:00.000000000",
          "2024-08-09T00:00:00.000000000",
          "2024-08-12T00:00:00.000000000",
          "2024-08-13T00:00:00.000000000",
          "2024-08-14T00:00:00.000000000",
          "2024-08-15T00:00:00.000000000",
          "2024-08-16T00:00:00.000000000",
          "2024-08-19T00:00:00.000000000",
          "2024-08-20T00:00:00.000000000",
          "2024-08-21T00:00:00.000000000",
          "2024-08-22T00:00:00.000000000",
          "2024-08-23T00:00:00.000000000",
          "2024-08-26T00:00:00.000000000",
          "2024-08-27T00:00:00.000000000",
          "2024-08-28T00:00:00.000000000",
          "2024-08-29T00:00:00.000000000",
          "2024-08-30T00:00:00.000000000",
          "2024-09-03T00:00:00.000000000",
          "2024-09-04T00:00:00.000000000",
          "2024-09-05T00:00:00.000000000",
          "2024-09-06T00:00:00.000000000",
          "2024-09-09T00:00:00.000000000",
          "2024-09-10T00:00:00.000000000",
          "2024-09-11T00:00:00.000000000",
          "2024-09-12T00:00:00.000000000",
          "2024-09-13T00:00:00.000000000",
          "2024-09-16T00:00:00.000000000",
          "2024-09-17T00:00:00.000000000",
          "2024-09-18T00:00:00.000000000",
          "2024-09-19T00:00:00.000000000",
          "2024-09-20T00:00:00.000000000",
          "2024-09-23T00:00:00.000000000",
          "2024-09-24T00:00:00.000000000",
          "2024-09-25T00:00:00.000000000",
          "2024-09-26T00:00:00.000000000",
          "2024-09-27T00:00:00.000000000",
          "2024-09-30T00:00:00.000000000",
          "2024-10-01T00:00:00.000000000",
          "2024-10-02T00:00:00.000000000",
          "2024-10-03T00:00:00.000000000",
          "2024-10-04T00:00:00.000000000",
          "2024-10-07T00:00:00.000000000",
          "2024-10-08T00:00:00.000000000",
          "2024-10-09T00:00:00.000000000",
          "2024-10-10T00:00:00.000000000",
          "2024-10-11T00:00:00.000000000",
          "2024-10-14T00:00:00.000000000",
          "2024-10-15T00:00:00.000000000",
          "2024-10-16T00:00:00.000000000",
          "2024-10-17T00:00:00.000000000",
          "2024-10-18T00:00:00.000000000",
          "2024-10-21T00:00:00.000000000",
          "2024-10-22T00:00:00.000000000",
          "2024-10-23T00:00:00.000000000",
          "2024-10-24T00:00:00.000000000",
          "2024-10-25T00:00:00.000000000",
          "2024-10-28T00:00:00.000000000",
          "2024-10-29T00:00:00.000000000",
          "2024-10-30T00:00:00.000000000",
          "2024-10-31T00:00:00.000000000",
          "2024-11-01T00:00:00.000000000",
          "2024-11-04T00:00:00.000000000",
          "2024-11-05T00:00:00.000000000",
          "2024-11-06T00:00:00.000000000",
          "2024-11-07T00:00:00.000000000",
          "2024-11-08T00:00:00.000000000",
          "2024-11-11T00:00:00.000000000",
          "2024-11-12T00:00:00.000000000",
          "2024-11-13T00:00:00.000000000",
          "2024-11-14T00:00:00.000000000",
          "2024-11-15T00:00:00.000000000",
          "2024-11-18T00:00:00.000000000",
          "2024-11-19T00:00:00.000000000",
          "2024-11-20T00:00:00.000000000",
          "2024-11-21T00:00:00.000000000",
          "2024-11-22T00:00:00.000000000",
          "2024-11-25T00:00:00.000000000",
          "2024-11-26T00:00:00.000000000",
          "2024-11-27T00:00:00.000000000",
          "2024-11-29T00:00:00.000000000",
          "2024-12-02T00:00:00.000000000",
          "2024-12-03T00:00:00.000000000",
          "2024-12-04T00:00:00.000000000",
          "2024-12-05T00:00:00.000000000",
          "2024-12-06T00:00:00.000000000",
          "2024-12-09T00:00:00.000000000",
          "2024-12-10T00:00:00.000000000",
          "2024-12-11T00:00:00.000000000",
          "2024-12-12T00:00:00.000000000",
          "2024-12-13T00:00:00.000000000",
          "2024-12-16T00:00:00.000000000",
          "2024-12-17T00:00:00.000000000",
          "2024-12-18T00:00:00.000000000",
          "2024-12-19T00:00:00.000000000",
          "2024-12-20T00:00:00.000000000",
          "2024-12-23T00:00:00.000000000",
          "2024-12-26T00:00:00.000000000",
          "2024-12-27T00:00:00.000000000",
          "2024-12-30T00:00:00.000000000",
          "2025-01-02T00:00:00.000000000",
          "2025-01-03T00:00:00.000000000",
          "2025-01-06T00:00:00.000000000",
          "2025-01-07T00:00:00.000000000",
          "2025-01-08T00:00:00.000000000",
          "2025-01-09T00:00:00.000000000",
          "2025-01-10T00:00:00.000000000",
          "2025-01-13T00:00:00.000000000",
          "2025-01-14T00:00:00.000000000",
          "2025-01-15T00:00:00.000000000",
          "2025-01-16T00:00:00.000000000",
          "2025-01-17T00:00:00.000000000",
          "2025-01-21T00:00:00.000000000",
          "2025-01-22T00:00:00.000000000",
          "2025-01-23T00:00:00.000000000",
          "2025-01-24T00:00:00.000000000",
          "2025-01-27T00:00:00.000000000",
          "2025-01-28T00:00:00.000000000",
          "2025-01-29T00:00:00.000000000",
          "2025-01-30T00:00:00.000000000",
          "2025-01-31T00:00:00.000000000",
          "2025-02-03T00:00:00.000000000",
          "2025-02-04T00:00:00.000000000",
          "2025-02-05T00:00:00.000000000",
          "2025-02-06T00:00:00.000000000",
          "2025-02-07T00:00:00.000000000",
          "2025-02-10T00:00:00.000000000",
          "2025-02-11T00:00:00.000000000",
          "2025-02-12T00:00:00.000000000",
          "2025-02-13T00:00:00.000000000",
          "2025-02-14T00:00:00.000000000",
          "2025-02-18T00:00:00.000000000",
          "2025-02-19T00:00:00.000000000",
          "2025-02-20T00:00:00.000000000",
          "2025-02-21T00:00:00.000000000",
          "2025-02-24T00:00:00.000000000",
          "2025-02-25T00:00:00.000000000",
          "2025-02-26T00:00:00.000000000",
          "2025-02-27T00:00:00.000000000",
          "2025-02-28T00:00:00.000000000",
          "2025-03-03T00:00:00.000000000",
          "2025-03-04T00:00:00.000000000",
          "2025-03-05T00:00:00.000000000",
          "2025-03-06T00:00:00.000000000",
          "2025-03-07T00:00:00.000000000",
          "2025-03-10T00:00:00.000000000",
          "2025-03-11T00:00:00.000000000",
          "2025-03-12T00:00:00.000000000",
          "2025-03-13T00:00:00.000000000",
          "2025-03-14T00:00:00.000000000",
          "2025-03-17T00:00:00.000000000",
          "2025-03-18T00:00:00.000000000",
          "2025-03-19T00:00:00.000000000",
          "2025-03-20T00:00:00.000000000",
          "2025-03-21T00:00:00.000000000",
          "2025-03-24T00:00:00.000000000",
          "2025-03-25T00:00:00.000000000",
          "2025-03-26T00:00:00.000000000",
          "2025-03-27T00:00:00.000000000",
          "2025-03-28T00:00:00.000000000",
          "2025-03-31T00:00:00.000000000",
          "2025-04-01T00:00:00.000000000",
          "2025-04-02T00:00:00.000000000",
          "2025-04-03T00:00:00.000000000",
          "2025-04-04T00:00:00.000000000",
          "2025-04-07T00:00:00.000000000",
          "2025-04-08T00:00:00.000000000",
          "2025-04-09T00:00:00.000000000",
          "2025-04-10T00:00:00.000000000",
          "2025-04-11T00:00:00.000000000",
          "2025-04-14T00:00:00.000000000",
          "2025-04-15T00:00:00.000000000",
          "2025-04-16T00:00:00.000000000",
          "2025-04-17T00:00:00.000000000",
          "2025-04-21T00:00:00.000000000",
          "2025-04-22T00:00:00.000000000",
          "2025-04-23T00:00:00.000000000",
          "2025-04-24T00:00:00.000000000",
          "2025-04-25T00:00:00.000000000",
          "2025-04-28T00:00:00.000000000",
          "2025-04-29T00:00:00.000000000",
          "2025-04-30T00:00:00.000000000",
          "2025-05-01T00:00:00.000000000",
          "2025-05-02T00:00:00.000000000",
          "2025-05-05T00:00:00.000000000",
          "2025-05-06T00:00:00.000000000",
          "2025-05-07T00:00:00.000000000",
          "2025-05-08T00:00:00.000000000",
          "2025-05-09T00:00:00.000000000",
          "2025-05-12T00:00:00.000000000",
          "2025-05-13T00:00:00.000000000",
          "2025-05-14T00:00:00.000000000",
          "2025-05-15T00:00:00.000000000",
          "2025-05-16T00:00:00.000000000",
          "2025-05-19T00:00:00.000000000",
          "2025-05-20T00:00:00.000000000",
          "2025-05-21T00:00:00.000000000",
          "2025-05-22T00:00:00.000000000",
          "2025-05-23T00:00:00.000000000",
          "2025-05-27T00:00:00.000000000",
          "2025-05-28T00:00:00.000000000",
          "2025-05-29T00:00:00.000000000",
          "2025-05-30T00:00:00.000000000",
          "2025-06-02T00:00:00.000000000",
          "2025-06-03T00:00:00.000000000",
          "2025-06-04T00:00:00.000000000",
          "2025-06-05T00:00:00.000000000",
          "2025-06-06T00:00:00.000000000",
          "2025-06-09T00:00:00.000000000",
          "2025-06-10T00:00:00.000000000",
          "2025-06-11T00:00:00.000000000",
          "2025-06-12T00:00:00.000000000",
          "2025-06-13T00:00:00.000000000",
          "2025-06-16T00:00:00.000000000",
          "2025-06-17T00:00:00.000000000",
          "2025-06-18T00:00:00.000000000",
          "2025-06-20T00:00:00.000000000",
          "2025-06-23T00:00:00.000000000"
         ],
         "y": {
          "bdata": "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",
          "dtype": "f8"
         }
        },
        {
         "mode": "lines",
         "name": "Predicted",
         "type": "scatter",
         "x": [
          "2024-02-14T00:00:00.000000000",
          "2024-02-15T00:00:00.000000000",
          "2024-02-16T00:00:00.000000000",
          "2024-02-20T00:00:00.000000000",
          "2024-02-21T00:00:00.000000000",
          "2024-02-22T00:00:00.000000000",
          "2024-02-23T00:00:00.000000000",
          "2024-02-26T00:00:00.000000000",
          "2024-02-27T00:00:00.000000000",
          "2024-02-28T00:00:00.000000000",
          "2024-02-29T00:00:00.000000000",
          "2024-03-01T00:00:00.000000000",
          "2024-03-04T00:00:00.000000000",
          "2024-03-05T00:00:00.000000000",
          "2024-03-06T00:00:00.000000000",
          "2024-03-07T00:00:00.000000000",
          "2024-03-08T00:00:00.000000000",
          "2024-03-11T00:00:00.000000000",
          "2024-03-12T00:00:00.000000000",
          "2024-03-13T00:00:00.000000000",
          "2024-03-14T00:00:00.000000000",
          "2024-03-15T00:00:00.000000000",
          "2024-03-18T00:00:00.000000000",
          "2024-03-19T00:00:00.000000000",
          "2024-03-20T00:00:00.000000000",
          "2024-03-21T00:00:00.000000000",
          "2024-03-22T00:00:00.000000000",
          "2024-03-25T00:00:00.000000000",
          "2024-03-26T00:00:00.000000000",
          "2024-03-27T00:00:00.000000000",
          "2024-03-28T00:00:00.000000000",
          "2024-04-01T00:00:00.000000000",
          "2024-04-02T00:00:00.000000000",
          "2024-04-03T00:00:00.000000000",
          "2024-04-04T00:00:00.000000000",
          "2024-04-05T00:00:00.000000000",
          "2024-04-08T00:00:00.000000000",
          "2024-04-09T00:00:00.000000000",
          "2024-04-10T00:00:00.000000000",
          "2024-04-11T00:00:00.000000000",
          "2024-04-12T00:00:00.000000000",
          "2024-04-15T00:00:00.000000000",
          "2024-04-16T00:00:00.000000000",
          "2024-04-17T00:00:00.000000000",
          "2024-04-18T00:00:00.000000000",
          "2024-04-19T00:00:00.000000000",
          "2024-04-22T00:00:00.000000000",
          "2024-04-23T00:00:00.000000000",
          "2024-04-24T00:00:00.000000000",
          "2024-04-25T00:00:00.000000000",
          "2024-04-26T00:00:00.000000000",
          "2024-04-29T00:00:00.000000000",
          "2024-04-30T00:00:00.000000000",
          "2024-05-01T00:00:00.000000000",
          "2024-05-02T00:00:00.000000000",
          "2024-05-03T00:00:00.000000000",
          "2024-05-06T00:00:00.000000000",
          "2024-05-07T00:00:00.000000000",
          "2024-05-08T00:00:00.000000000",
          "2024-05-09T00:00:00.000000000",
          "2024-05-10T00:00:00.000000000",
          "2024-05-13T00:00:00.000000000",
          "2024-05-14T00:00:00.000000000",
          "2024-05-15T00:00:00.000000000",
          "2024-05-16T00:00:00.000000000",
          "2024-05-17T00:00:00.000000000",
          "2024-05-20T00:00:00.000000000",
          "2024-05-21T00:00:00.000000000",
          "2024-05-22T00:00:00.000000000",
          "2024-05-23T00:00:00.000000000",
          "2024-05-24T00:00:00.000000000",
          "2024-05-28T00:00:00.000000000",
          "2024-05-29T00:00:00.000000000",
          "2024-05-30T00:00:00.000000000",
          "2024-05-31T00:00:00.000000000",
          "2024-06-03T00:00:00.000000000",
          "2024-06-04T00:00:00.000000000",
          "2024-06-05T00:00:00.000000000",
          "2024-06-06T00:00:00.000000000",
          "2024-06-07T00:00:00.000000000",
          "2024-06-10T00:00:00.000000000",
          "2024-06-11T00:00:00.000000000",
          "2024-06-12T00:00:00.000000000",
          "2024-06-13T00:00:00.000000000",
          "2024-06-14T00:00:00.000000000",
          "2024-06-17T00:00:00.000000000",
          "2024-06-18T00:00:00.000000000",
          "2024-06-20T00:00:00.000000000",
          "2024-06-21T00:00:00.000000000",
          "2024-06-24T00:00:00.000000000",
          "2024-06-25T00:00:00.000000000",
          "2024-06-26T00:00:00.000000000",
          "2024-06-27T00:00:00.000000000",
          "2024-06-28T00:00:00.000000000",
          "2024-07-01T00:00:00.000000000",
          "2024-07-02T00:00:00.000000000",
          "2024-07-03T00:00:00.000000000",
          "2024-07-05T00:00:00.000000000",
          "2024-07-08T00:00:00.000000000",
          "2024-07-09T00:00:00.000000000",
          "2024-07-10T00:00:00.000000000",
          "2024-07-11T00:00:00.000000000",
          "2024-07-12T00:00:00.000000000",
          "2024-07-15T00:00:00.000000000",
          "2024-07-16T00:00:00.000000000",
          "2024-07-17T00:00:00.000000000",
          "2024-07-18T00:00:00.000000000",
          "2024-07-19T00:00:00.000000000",
          "2024-07-22T00:00:00.000000000",
          "2024-07-23T00:00:00.000000000",
          "2024-07-24T00:00:00.000000000",
          "2024-07-25T00:00:00.000000000",
          "2024-07-26T00:00:00.000000000",
          "2024-07-29T00:00:00.000000000",
          "2024-07-30T00:00:00.000000000",
          "2024-07-31T00:00:00.000000000",
          "2024-08-01T00:00:00.000000000",
          "2024-08-02T00:00:00.000000000",
          "2024-08-05T00:00:00.000000000",
          "2024-08-06T00:00:00.000000000",
          "2024-08-07T00:00:00.000000000",
          "2024-08-08T00:00:00.000000000",
          "2024-08-09T00:00:00.000000000",
          "2024-08-12T00:00:00.000000000",
          "2024-08-13T00:00:00.000000000",
          "2024-08-14T00:00:00.000000000",
          "2024-08-15T00:00:00.000000000",
          "2024-08-16T00:00:00.000000000",
          "2024-08-19T00:00:00.000000000",
          "2024-08-20T00:00:00.000000000",
          "2024-08-21T00:00:00.000000000",
          "2024-08-22T00:00:00.000000000",
          "2024-08-23T00:00:00.000000000",
          "2024-08-26T00:00:00.000000000",
          "2024-08-27T00:00:00.000000000",
          "2024-08-28T00:00:00.000000000",
          "2024-08-29T00:00:00.000000000",
          "2024-08-30T00:00:00.000000000",
          "2024-09-03T00:00:00.000000000",
          "2024-09-04T00:00:00.000000000",
          "2024-09-05T00:00:00.000000000",
          "2024-09-06T00:00:00.000000000",
          "2024-09-09T00:00:00.000000000",
          "2024-09-10T00:00:00.000000000",
          "2024-09-11T00:00:00.000000000",
          "2024-09-12T00:00:00.000000000",
          "2024-09-13T00:00:00.000000000",
          "2024-09-16T00:00:00.000000000",
          "2024-09-17T00:00:00.000000000",
          "2024-09-18T00:00:00.000000000",
          "2024-09-19T00:00:00.000000000",
          "2024-09-20T00:00:00.000000000",
          "2024-09-23T00:00:00.000000000",
          "2024-09-24T00:00:00.000000000",
          "2024-09-25T00:00:00.000000000",
          "2024-09-26T00:00:00.000000000",
          "2024-09-27T00:00:00.000000000",
          "2024-09-30T00:00:00.000000000",
          "2024-10-01T00:00:00.000000000",
          "2024-10-02T00:00:00.000000000",
          "2024-10-03T00:00:00.000000000",
          "2024-10-04T00:00:00.000000000",
          "2024-10-07T00:00:00.000000000",
          "2024-10-08T00:00:00.000000000",
          "2024-10-09T00:00:00.000000000",
          "2024-10-10T00:00:00.000000000",
          "2024-10-11T00:00:00.000000000",
          "2024-10-14T00:00:00.000000000",
          "2024-10-15T00:00:00.000000000",
          "2024-10-16T00:00:00.000000000",
          "2024-10-17T00:00:00.000000000",
          "2024-10-18T00:00:00.000000000",
          "2024-10-21T00:00:00.000000000",
          "2024-10-22T00:00:00.000000000",
          "2024-10-23T00:00:00.000000000",
          "2024-10-24T00:00:00.000000000",
          "2024-10-25T00:00:00.000000000",
          "2024-10-28T00:00:00.000000000",
          "2024-10-29T00:00:00.000000000",
          "2024-10-30T00:00:00.000000000",
          "2024-10-31T00:00:00.000000000",
          "2024-11-01T00:00:00.000000000",
          "2024-11-04T00:00:00.000000000",
          "2024-11-05T00:00:00.000000000",
          "2024-11-06T00:00:00.000000000",
          "2024-11-07T00:00:00.000000000",
          "2024-11-08T00:00:00.000000000",
          "2024-11-11T00:00:00.000000000",
          "2024-11-12T00:00:00.000000000",
          "2024-11-13T00:00:00.000000000",
          "2024-11-14T00:00:00.000000000",
          "2024-11-15T00:00:00.000000000",
          "2024-11-18T00:00:00.000000000",
          "2024-11-19T00:00:00.000000000",
          "2024-11-20T00:00:00.000000000",
          "2024-11-21T00:00:00.000000000",
          "2024-11-22T00:00:00.000000000",
          "2024-11-25T00:00:00.000000000",
          "2024-11-26T00:00:00.000000000",
          "2024-11-27T00:00:00.000000000",
          "2024-11-29T00:00:00.000000000",
          "2024-12-02T00:00:00.000000000",
          "2024-12-03T00:00:00.000000000",
          "2024-12-04T00:00:00.000000000",
          "2024-12-05T00:00:00.000000000",
          "2024-12-06T00:00:00.000000000",
          "2024-12-09T00:00:00.000000000",
          "2024-12-10T00:00:00.000000000",
          "2024-12-11T00:00:00.000000000",
          "2024-12-12T00:00:00.000000000",
          "2024-12-13T00:00:00.000000000",
          "2024-12-16T00:00:00.000000000",
          "2024-12-17T00:00:00.000000000",
          "2024-12-18T00:00:00.000000000",
          "2024-12-19T00:00:00.000000000",
          "2024-12-20T00:00:00.000000000",
          "2024-12-23T00:00:00.000000000",
          "2024-12-26T00:00:00.000000000",
          "2024-12-27T00:00:00.000000000",
          "2024-12-30T00:00:00.000000000",
          "2025-01-02T00:00:00.000000000",
          "2025-01-03T00:00:00.000000000",
          "2025-01-06T00:00:00.000000000",
          "2025-01-07T00:00:00.000000000",
          "2025-01-08T00:00:00.000000000",
          "2025-01-09T00:00:00.000000000",
          "2025-01-10T00:00:00.000000000",
          "2025-01-13T00:00:00.000000000",
          "2025-01-14T00:00:00.000000000",
          "2025-01-15T00:00:00.000000000",
          "2025-01-16T00:00:00.000000000",
          "2025-01-17T00:00:00.000000000",
          "2025-01-21T00:00:00.000000000",
          "2025-01-22T00:00:00.000000000",
          "2025-01-23T00:00:00.000000000",
          "2025-01-24T00:00:00.000000000",
          "2025-01-27T00:00:00.000000000",
          "2025-01-28T00:00:00.000000000",
          "2025-01-29T00:00:00.000000000",
          "2025-01-30T00:00:00.000000000",
          "2025-01-31T00:00:00.000000000",
          "2025-02-03T00:00:00.000000000",
          "2025-02-04T00:00:00.000000000",
          "2025-02-05T00:00:00.000000000",
          "2025-02-06T00:00:00.000000000",
          "2025-02-07T00:00:00.000000000",
          "2025-02-10T00:00:00.000000000",
          "2025-02-11T00:00:00.000000000",
          "2025-02-12T00:00:00.000000000",
          "2025-02-13T00:00:00.000000000",
          "2025-02-14T00:00:00.000000000",
          "2025-02-18T00:00:00.000000000",
          "2025-02-19T00:00:00.000000000",
          "2025-02-20T00:00:00.000000000",
          "2025-02-21T00:00:00.000000000",
          "2025-02-24T00:00:00.000000000",
          "2025-02-25T00:00:00.000000000",
          "2025-02-26T00:00:00.000000000",
          "2025-02-27T00:00:00.000000000",
          "2025-02-28T00:00:00.000000000",
          "2025-03-03T00:00:00.000000000",
          "2025-03-04T00:00:00.000000000",
          "2025-03-05T00:00:00.000000000",
          "2025-03-06T00:00:00.000000000",
          "2025-03-07T00:00:00.000000000",
          "2025-03-10T00:00:00.000000000",
          "2025-03-11T00:00:00.000000000",
          "2025-03-12T00:00:00.000000000",
          "2025-03-13T00:00:00.000000000",
          "2025-03-14T00:00:00.000000000",
          "2025-03-17T00:00:00.000000000",
          "2025-03-18T00:00:00.000000000",
          "2025-03-19T00:00:00.000000000",
          "2025-03-20T00:00:00.000000000",
          "2025-03-21T00:00:00.000000000",
          "2025-03-24T00:00:00.000000000",
          "2025-03-25T00:00:00.000000000",
          "2025-03-26T00:00:00.000000000",
          "2025-03-27T00:00:00.000000000",
          "2025-03-28T00:00:00.000000000",
          "2025-03-31T00:00:00.000000000",
          "2025-04-01T00:00:00.000000000",
          "2025-04-02T00:00:00.000000000",
          "2025-04-03T00:00:00.000000000",
          "2025-04-04T00:00:00.000000000",
          "2025-04-07T00:00:00.000000000",
          "2025-04-08T00:00:00.000000000",
          "2025-04-09T00:00:00.000000000",
          "2025-04-10T00:00:00.000000000",
          "2025-04-11T00:00:00.000000000",
          "2025-04-14T00:00:00.000000000",
          "2025-04-15T00:00:00.000000000",
          "2025-04-16T00:00:00.000000000",
          "2025-04-17T00:00:00.000000000",
          "2025-04-21T00:00:00.000000000",
          "2025-04-22T00:00:00.000000000",
          "2025-04-23T00:00:00.000000000",
          "2025-04-24T00:00:00.000000000",
          "2025-04-25T00:00:00.000000000",
          "2025-04-28T00:00:00.000000000",
          "2025-04-29T00:00:00.000000000",
          "2025-04-30T00:00:00.000000000",
          "2025-05-01T00:00:00.000000000",
          "2025-05-02T00:00:00.000000000",
          "2025-05-05T00:00:00.000000000",
          "2025-05-06T00:00:00.000000000",
          "2025-05-07T00:00:00.000000000",
          "2025-05-08T00:00:00.000000000",
          "2025-05-09T00:00:00.000000000",
          "2025-05-12T00:00:00.000000000",
          "2025-05-13T00:00:00.000000000",
          "2025-05-14T00:00:00.000000000",
          "2025-05-15T00:00:00.000000000",
          "2025-05-16T00:00:00.000000000",
          "2025-05-19T00:00:00.000000000",
          "2025-05-20T00:00:00.000000000",
          "2025-05-21T00:00:00.000000000",
          "2025-05-22T00:00:00.000000000",
          "2025-05-23T00:00:00.000000000",
          "2025-05-27T00:00:00.000000000",
          "2025-05-28T00:00:00.000000000",
          "2025-05-29T00:00:00.000000000",
          "2025-05-30T00:00:00.000000000",
          "2025-06-02T00:00:00.000000000",
          "2025-06-03T00:00:00.000000000",
          "2025-06-04T00:00:00.000000000",
          "2025-06-05T00:00:00.000000000",
          "2025-06-06T00:00:00.000000000",
          "2025-06-09T00:00:00.000000000",
          "2025-06-10T00:00:00.000000000",
          "2025-06-11T00:00:00.000000000",
          "2025-06-12T00:00:00.000000000",
          "2025-06-13T00:00:00.000000000",
          "2025-06-16T00:00:00.000000000",
          "2025-06-17T00:00:00.000000000",
          "2025-06-18T00:00:00.000000000",
          "2025-06-20T00:00:00.000000000",
          "2025-06-23T00:00:00.000000000"
         ],
         "y": {
          "bdata": "znGiQryupEIFJKdCJxClQhy+okImUKdC70akQio2o0IIAKNCHDylQozYp0IdlaVCoPikQjvZokJTp6NCq+alQkPCokJD7KRCLRujQqt+pkLwMqpCYs6rQjluq0Jyg6xCF+ytQoteqkKSyKlC8GCqQqHeqkJIx6tC2cquQn1NrEJ7IK9CE56wQle0r0KW77ZCjma0QqhYtULrLbVC5dOzQhC2s0K/e7RCftG1QqufrkKRP65C9LqsQrZnqkIS665CSVOvQmwir0Jc2bJCa2KyQqGJsUII7qhCdDqpQvW/pUIklqZCYAmlQnXipkIATapC/eSkQvewpkI4nqNC5wylQsujpkK38KhCbhKqQgQ0pEL1bqFCy46lQsfJokIpA6lC/D2nQv+9pEKYD6NC206dQo5+mUKKBZ1C+y6iQoFbn0Ih66NCT7miQvEDpUIawqNCY1ykQgCWp0IT9KlClF+qQiQKqkJUEK1CmPupQh+aqkLue6xCYz2sQtiPrELDhqxCy+urQq0vrEI13KlCZbumQvCtqEL07qhCIKqoQhUCqEJE06ZC1lyoQsF/qUIvq6RCKx6jQolqokLXQqBCQc2iQgUBo0Jb0J9CYn+cQghin0JPfp9CpUubQubAmULLc5lCLhGeQjK/nUJdd6BC3guiQg0uoUJ9IqFCUtejQl/fokKt95pCCUOYQmJDmUJELZlCED2fQuhHokJitJ1CjiucQk+FokIIVJ9CtTiWQp00lUJY0pRCqbeRQlCzkUJfYIxCwX2OQnlgkEKTCpBCPRKSQvHRk0IiNpVC7RWWQunJlUJ0dpVCw4uXQlzNlEI2E5FCftKQQnNak0JF35RChauWQlKkm0JgAp1CRZCiQojymkJDoZpCrhOeQrIrnkKD9JpCCguVQuislEKZpZRCMPWSQrWClUJOY5dC0OiUQkEXlUJ3SJdCdOmPQkMkj0Igo5BC1KaRQhrukkIWsJZCrZSWQsy7lEIGUpdCUM+WQrfxkkLqVZFCdJyTQjtEkkIatY5Ctx2TQiBRlEIpBZVC7yaXQmB9l0J3KZVC3LWUQi3Ak0IAHpRCu3OTQm2clEKc3pFC7oeQQqZJkELoy5NCluCTQjKTlEIsFpVCdHSWQt7qlkJnQZRCYyuUQlI1k0LS5pNCFNmRQg7+kkIfqJVCY52UQkd5mUIn6JdClVqZQnsXmkJXvJpCWXCaQpSYnkJgLqBCf3ajQmjGokLa4aNCggahQuQKoELVBp5CipqdQhHQnULFMplCnXmaQhX5mUKNmZpC8EOZQnM5mELi+JhCpWeUQjoGlUKM5ZRC/yeYQlFImUI2I5hCZqiXQvsylkKp/ZdCIsqYQrTdmUIX3pRCfIyVQtYkk0LyL5JCSQ6XQh2xlEIIrJJCKA2OQsW1i0ILdItCBJqNQoGgikIxnopCvRiNQuA1jELp/oxCIb+PQrUrjkKLqI1CXZeRQmdGkELUs5JCD7qUQooWlULdzpZCsWWVQpn1lUJ61ZVCLB2WQtq8jkKzBoZC7/yBQtBygELTq4RCbtF9QiCWgEKjo4FCDU6BQnL4gkI9VYZCBUqFQiBuh0KiXoRCZpOFQkKphEJJL4NCUCCBQoQufUI953pC4fV2QgSEcUKmGHRCalx2QtcRe0JTnX1CXfaBQlfmg0IcsYNCqjCAQuyygkLE/oJCImGDQkIVgkLKyIBCL4aBQtAvgUJ0d4JCIlyBQi8rgEJFGoBCCiiDQkQzgkJpToNC/zGFQjhIhkLZD4VC8nKJQgAvikKZu5NCUp+SQmBMmEIge5lCG++YQiYSkUI=",
          "dtype": "f4"
         }
        }
       ],
       "layout": {
        "legend": {
         "orientation": "h",
         "y": -0.2
        },
        "template": {
         "data": {
          "bar": [
           {
            "error_x": {
             "color": "#2a3f5f"
            },
            "error_y": {
             "color": "#2a3f5f"
            },
            "marker": {
             "line": {
              "color": "white",
              "width": 0.5
             },
             "pattern": {
              "fillmode": "overlay",
              "size": 10,
              "solidity": 0.2
             }
            },
            "type": "bar"
           }
          ],
          "barpolar": [
           {
            "marker": {
             "line": {
              "color": "white",
              "width": 0.5
             },
             "pattern": {
              "fillmode": "overlay",
              "size": 10,
              "solidity": 0.2
             }
            },
            "type": "barpolar"
           }
          ],
          "carpet": [
           {
            "aaxis": {
             "endlinecolor": "#2a3f5f",
             "gridcolor": "#C8D4E3",
             "linecolor": "#C8D4E3",
             "minorgridcolor": "#C8D4E3",
             "startlinecolor": "#2a3f5f"
            },
            "baxis": {
             "endlinecolor": "#2a3f5f",
             "gridcolor": "#C8D4E3",
             "linecolor": "#C8D4E3",
             "minorgridcolor": "#C8D4E3",
             "startlinecolor": "#2a3f5f"
            },
            "type": "carpet"
           }
          ],
          "choropleth": [
           {
            "colorbar": {
             "outlinewidth": 0,
             "ticks": ""
            },
            "type": "choropleth"
           }
          ],
          "contour": [
           {
            "colorbar": {
             "outlinewidth": 0,
             "ticks": ""
            },
            "colorscale": [
             [
              0,
              "#0d0887"
             ],
             [
              0.1111111111111111,
              "#46039f"
             ],
             [
              0.2222222222222222,
              "#7201a8"
             ],
             [
              0.3333333333333333,
              "#9c179e"
             ],
             [
              0.4444444444444444,
              "#bd3786"
             ],
             [
              0.5555555555555556,
              "#d8576b"
             ],
             [
              0.6666666666666666,
              "#ed7953"
             ],
             [
              0.7777777777777778,
              "#fb9f3a"
             ],
             [
              0.8888888888888888,
              "#fdca26"
             ],
             [
              1,
              "#f0f921"
             ]
            ],
            "type": "contour"
           }
          ],
          "contourcarpet": [
           {
            "colorbar": {
             "outlinewidth": 0,
             "ticks": ""
            },
            "type": "contourcarpet"
           }
          ],
          "heatmap": [
           {
            "colorbar": {
             "outlinewidth": 0,
             "ticks": ""
            },
            "colorscale": [
             [
              0,
              "#0d0887"
             ],
             [
              0.1111111111111111,
              "#46039f"
             ],
             [
              0.2222222222222222,
              "#7201a8"
             ],
             [
              0.3333333333333333,
              "#9c179e"
             ],
             [
              0.4444444444444444,
              "#bd3786"
             ],
             [
              0.5555555555555556,
              "#d8576b"
             ],
             [
              0.6666666666666666,
              "#ed7953"
             ],
             [
              0.7777777777777778,
              "#fb9f3a"
             ],
             [
              0.8888888888888888,
              "#fdca26"
             ],
             [
              1,
              "#f0f921"
             ]
            ],
            "type": "heatmap"
           }
          ],
          "histogram": [
           {
            "marker": {
             "pattern": {
              "fillmode": "overlay",
              "size": 10,
              "solidity": 0.2
             }
            },
            "type": "histogram"
           }
          ],
          "histogram2d": [
           {
            "colorbar": {
             "outlinewidth": 0,
             "ticks": ""
            },
            "colorscale": [
             [
              0,
              "#0d0887"
             ],
             [
              0.1111111111111111,
              "#46039f"
             ],
             [
              0.2222222222222222,
              "#7201a8"
             ],
             [
              0.3333333333333333,
              "#9c179e"
             ],
             [
              0.4444444444444444,
              "#bd3786"
             ],
             [
              0.5555555555555556,
              "#d8576b"
             ],
             [
              0.6666666666666666,
              "#ed7953"
             ],
             [
              0.7777777777777778,
              "#fb9f3a"
             ],
             [
              0.8888888888888888,
              "#fdca26"
             ],
             [
              1,
              "#f0f921"
             ]
            ],
            "type": "histogram2d"
           }
          ],
          "histogram2dcontour": [
           {
            "colorbar": {
             "outlinewidth": 0,
             "ticks": ""
            },
            "colorscale": [
             [
              0,
              "#0d0887"
             ],
             [
              0.1111111111111111,
              "#46039f"
             ],
             [
              0.2222222222222222,
              "#7201a8"
             ],
             [
              0.3333333333333333,
              "#9c179e"
             ],
             [
              0.4444444444444444,
              "#bd3786"
             ],
             [
              0.5555555555555556,
              "#d8576b"
             ],
             [
              0.6666666666666666,
              "#ed7953"
             ],
             [
              0.7777777777777778,
              "#fb9f3a"
             ],
             [
              0.8888888888888888,
              "#fdca26"
             ],
             [
              1,
              "#f0f921"
             ]
            ],
            "type": "histogram2dcontour"
           }
          ],
          "mesh3d": [
           {
            "colorbar": {
             "outlinewidth": 0,
             "ticks": ""
            },
            "type": "mesh3d"
           }
          ],
          "parcoords": [
           {
            "line": {
             "colorbar": {
              "outlinewidth": 0,
              "ticks": ""
             }
            },
            "type": "parcoords"
           }
          ],
          "pie": [
           {
            "automargin": true,
            "type": "pie"
           }
          ],
          "scatter": [
           {
            "fillpattern": {
             "fillmode": "overlay",
             "size": 10,
             "solidity": 0.2
            },
            "type": "scatter"
           }
          ],
          "scatter3d": [
           {
            "line": {
             "colorbar": {
              "outlinewidth": 0,
              "ticks": ""
             }
            },
            "marker": {
             "colorbar": {
              "outlinewidth": 0,
              "ticks": ""
             }
            },
            "type": "scatter3d"
           }
          ],
          "scattercarpet": [
           {
            "marker": {
             "colorbar": {
              "outlinewidth": 0,
              "ticks": ""
             }
            },
            "type": "scattercarpet"
           }
          ],
          "scattergeo": [
           {
            "marker": {
             "colorbar": {
              "outlinewidth": 0,
              "ticks": ""
             }
            },
            "type": "scattergeo"
           }
          ],
          "scattergl": [
           {
            "marker": {
             "colorbar": {
              "outlinewidth": 0,
              "ticks": ""
             }
            },
            "type": "scattergl"
           }
          ],
          "scattermap": [
           {
            "marker": {
             "colorbar": {
              "outlinewidth": 0,
              "ticks": ""
             }
            },
            "type": "scattermap"
           }
          ],
          "scattermapbox": [
           {
            "marker": {
             "colorbar": {
              "outlinewidth": 0,
              "ticks": ""
             }
            },
            "type": "scattermapbox"
           }
          ],
          "scatterpolar": [
           {
            "marker": {
             "colorbar": {
              "outlinewidth": 0,
              "ticks": ""
             }
            },
            "type": "scatterpolar"
           }
          ],
          "scatterpolargl": [
           {
            "marker": {
             "colorbar": {
              "outlinewidth": 0,
              "ticks": ""
             }
            },
            "type": "scatterpolargl"
           }
          ],
          "scatterternary": [
           {
            "marker": {
             "colorbar": {
              "outlinewidth": 0,
              "ticks": ""
             }
            },
            "type": "scatterternary"
           }
          ],
          "surface": [
           {
            "colorbar": {
             "outlinewidth": 0,
             "ticks": ""
            },
            "colorscale": [
             [
              0,
              "#0d0887"
             ],
             [
              0.1111111111111111,
              "#46039f"
             ],
             [
              0.2222222222222222,
              "#7201a8"
             ],
             [
              0.3333333333333333,
              "#9c179e"
             ],
             [
              0.4444444444444444,
              "#bd3786"
             ],
             [
              0.5555555555555556,
              "#d8576b"
             ],
             [
              0.6666666666666666,
              "#ed7953"
             ],
             [
              0.7777777777777778,
              "#fb9f3a"
             ],
             [
              0.8888888888888888,
              "#fdca26"
             ],
             [
              1,
              "#f0f921"
             ]
            ],
            "type": "surface"
           }
          ],
          "table": [
           {
            "cells": {
             "fill": {
              "color": "#EBF0F8"
             },
             "line": {
              "color": "white"
             }
            },
            "header": {
             "fill": {
              "color": "#C8D4E3"
             },
             "line": {
              "color": "white"
             }
            },
            "type": "table"
           }
          ]
         },
         "layout": {
          "annotationdefaults": {
           "arrowcolor": "#2a3f5f",
           "arrowhead": 0,
           "arrowwidth": 1
          },
          "autotypenumbers": "strict",
          "coloraxis": {
           "colorbar": {
            "outlinewidth": 0,
            "ticks": ""
           }
          },
          "colorscale": {
           "diverging": [
            [
             0,
             "#8e0152"
            ],
            [
             0.1,
             "#c51b7d"
            ],
            [
             0.2,
             "#de77ae"
            ],
            [
             0.3,
             "#f1b6da"
            ],
            [
             0.4,
             "#fde0ef"
            ],
            [
             0.5,
             "#f7f7f7"
            ],
            [
             0.6,
             "#e6f5d0"
            ],
            [
             0.7,
             "#b8e186"
            ],
            [
             0.8,
             "#7fbc41"
            ],
            [
             0.9,
             "#4d9221"
            ],
            [
             1,
             "#276419"
            ]
           ],
           "sequential": [
            [
             0,
             "#0d0887"
            ],
            [
             0.1111111111111111,
             "#46039f"
            ],
            [
             0.2222222222222222,
             "#7201a8"
            ],
            [
             0.3333333333333333,
             "#9c179e"
            ],
            [
             0.4444444444444444,
             "#bd3786"
            ],
            [
             0.5555555555555556,
             "#d8576b"
            ],
            [
             0.6666666666666666,
             "#ed7953"
            ],
            [
             0.7777777777777778,
             "#fb9f3a"
            ],
            [
             0.8888888888888888,
             "#fdca26"
            ],
            [
             1,
             "#f0f921"
            ]
           ],
           "sequentialminus": [
            [
             0,
             "#0d0887"
            ],
            [
             0.1111111111111111,
             "#46039f"
            ],
            [
             0.2222222222222222,
             "#7201a8"
            ],
            [
             0.3333333333333333,
             "#9c179e"
            ],
            [
             0.4444444444444444,
             "#bd3786"
            ],
            [
             0.5555555555555556,
             "#d8576b"
            ],
            [
             0.6666666666666666,
             "#ed7953"
            ],
            [
             0.7777777777777778,
             "#fb9f3a"
            ],
            [
             0.8888888888888888,
             "#fdca26"
            ],
            [
             1,
             "#f0f921"
            ]
           ]
          },
          "colorway": [
           "#636efa",
           "#EF553B",
           "#00cc96",
           "#ab63fa",
           "#FFA15A",
           "#19d3f3",
           "#FF6692",
           "#B6E880",
           "#FF97FF",
           "#FECB52"
          ],
          "font": {
           "color": "#2a3f5f"
          },
          "geo": {
           "bgcolor": "white",
           "lakecolor": "white",
           "landcolor": "white",
           "showlakes": true,
           "showland": true,
           "subunitcolor": "#C8D4E3"
          },
          "hoverlabel": {
           "align": "left"
          },
          "hovermode": "closest",
          "mapbox": {
           "style": "light"
          },
          "paper_bgcolor": "white",
          "plot_bgcolor": "white",
          "polar": {
           "angularaxis": {
            "gridcolor": "#EBF0F8",
            "linecolor": "#EBF0F8",
            "ticks": ""
           },
           "bgcolor": "white",
           "radialaxis": {
            "gridcolor": "#EBF0F8",
            "linecolor": "#EBF0F8",
            "ticks": ""
           }
          },
          "scene": {
           "xaxis": {
            "backgroundcolor": "white",
            "gridcolor": "#DFE8F3",
            "gridwidth": 2,
            "linecolor": "#EBF0F8",
            "showbackground": true,
            "ticks": "",
            "zerolinecolor": "#EBF0F8"
           },
           "yaxis": {
            "backgroundcolor": "white",
            "gridcolor": "#DFE8F3",
            "gridwidth": 2,
            "linecolor": "#EBF0F8",
            "showbackground": true,
            "ticks": "",
            "zerolinecolor": "#EBF0F8"
           },
           "zaxis": {
            "backgroundcolor": "white",
            "gridcolor": "#DFE8F3",
            "gridwidth": 2,
            "linecolor": "#EBF0F8",
            "showbackground": true,
            "ticks": "",
            "zerolinecolor": "#EBF0F8"
           }
          },
          "shapedefaults": {
           "line": {
            "color": "#2a3f5f"
           }
          },
          "ternary": {
           "aaxis": {
            "gridcolor": "#DFE8F3",
            "linecolor": "#A2B1C6",
            "ticks": ""
           },
           "baxis": {
            "gridcolor": "#DFE8F3",
            "linecolor": "#A2B1C6",
            "ticks": ""
           },
           "bgcolor": "white",
           "caxis": {
            "gridcolor": "#DFE8F3",
            "linecolor": "#A2B1C6",
            "ticks": ""
           }
          },
          "title": {
           "x": 0.05
          },
          "xaxis": {
           "automargin": true,
           "gridcolor": "#EBF0F8",
           "linecolor": "#EBF0F8",
           "ticks": "",
           "title": {
            "standoff": 15
           },
           "zerolinecolor": "#EBF0F8",
           "zerolinewidth": 2
          },
          "yaxis": {
           "automargin": true,
           "gridcolor": "#EBF0F8",
           "linecolor": "#EBF0F8",
           "ticks": "",
           "title": {
            "standoff": 15
           },
           "zerolinecolor": "#EBF0F8",
           "zerolinewidth": 2
          }
         }
        },
        "title": {
         "text": "Brent Crude Oil – Actual vs Predicted (XGBoost)"
        },
        "xaxis": {
         "title": {
          "text": "Date"
         }
        },
        "yaxis": {
         "title": {
          "text": "Price (USD)"
         }
        }
       }
      }
     },
     "metadata": {},
     "output_type": "display_data"
    }
   ],
   "source": [
    "import yfinance as yf\n",
    "import pandas as pd\n",
    "import numpy as np\n",
    "from xgboost import XGBRegressor\n",
    "from sklearn.metrics import (\n",
    "    mean_squared_error,\n",
    "    mean_absolute_error,\n",
    "    mean_absolute_percentage_error,\n",
    "    r2_score,\n",
    "    explained_variance_score\n",
    ")\n",
    "import plotly.graph_objects as go\n",
    "\n",
    "SEED = 42\n",
    "np.random.seed(SEED)\n",
    "\n",
    "# === 1. Download Brent crude oil price data ==================================\n",
    "df = (\n",
    "    yf.download(\"BZ=F\", start=\"2011-06-13\", end=\"2025-06-25\")[['Close']]\n",
    "      .rename(columns={'Close': 'Price'})\n",
    "      .dropna()\n",
    ")\n",
    "\n",
    "# === 2. Load & align embeddings =============================================\n",
    "emb = (\n",
    "    pd.read_csv('../Data/raw/embeddings_feature_news_embeddings_Word2Vec_HF_En.csv', parse_dates=['date'])\n",
    "      .set_index('date')\n",
    ")\n",
    "emb = emb.reindex(df.index).ffill().bfill()\n",
    "sent = (\n",
    "    pd.read_csv('../Data/raw/daily_sent.csv', parse_dates=['Date'])\n",
    "      .set_index('Date')\n",
    ")\n",
    "\n",
    "df['SENT_1'] = emb['embedding_2d_1_mean']\n",
    "df['SENT_2'] = emb['embedding_2d_2_mean']\n",
    "df['cosine_sim']            = emb['cosine_sim']\n",
    "df['drift']                 = emb['drift']\n",
    "df['drift_velocity']        = emb['drift_velocity']\n",
    "df['drift_velocity_diff']   = emb['drift_velocity_diff']\n",
    "df['drift_acceleration']    = emb['drift_acceleration']\n",
    "df['var_2d_1']              = emb['embedding_2d_1_var_daily']\n",
    "df['var_2d_2']              = emb['embedding_2d_2_var_daily']\n",
    "df['sentiment']             = sent['avg_score']\n",
    "\n",
    "# === 3. Costruzione delle lag-feature =======================================\n",
    "for lag in range(1, 6):\n",
    "    df[f'price_lag_{lag}'] = df['Price'].shift(lag)\n",
    "\n",
    "df['target'] = df['Price'].shift(-1)\n",
    "df.dropna(inplace=True)\n",
    "\n",
    "# === 4. Train-test split (90/10) ============================================\n",
    "feat_cols = [\n",
    "    'Price','SENT_1','SENT_2',\n",
    "    'cosine_sim','drift','drift_velocity','drift_velocity_diff','drift_acceleration',\n",
    "    'var_2d_1','var_2d_2',\n",
    "    'sentiment'\n",
    "]\n",
    "\n",
    "X = df[feat_cols]\n",
    "y = df['target']\n",
    "split_idx = int(len(df) * 0.9)\n",
    "X_train, X_test = X.iloc[:split_idx], X.iloc[split_idx:]\n",
    "y_train, y_test = y.iloc[:split_idx], y.iloc[split_idx:]\n",
    "\n",
    "# === 5. Train XGBoost ======================================================\n",
    "xgb = XGBRegressor(\n",
    "    n_estimators=200,\n",
    "    max_depth=6,\n",
    "    learning_rate=0.07,\n",
    "    subsample=0.9,\n",
    "    colsample_bytree=0.9,\n",
    "    random_state=SEED,\n",
    "    n_jobs=-1,\n",
    "    tree_method=\"hist\"  # \"gpu_hist\" se hai una GPU\n",
    ")\n",
    "xgb.fit(X_train, y_train)\n",
    "preds = xgb.predict(X_test)\n",
    "\n",
    "# === 6. Metriche di valutazione ============================================\n",
    "def smape(y_true, y_pred):\n",
    "    denom = (np.abs(y_true) + np.abs(y_pred)) / 2\n",
    "    return np.mean(np.abs(y_true - y_pred) / denom) * 100\n",
    "\n",
    "def theils_u(y_true, y_pred):\n",
    "    rmsfe = np.sqrt(np.mean((y_pred - y_true) ** 2))\n",
    "    denom = (np.sqrt(np.mean(y_true ** 2)) +\n",
    "             np.sqrt(np.mean(y_pred ** 2)))\n",
    "    return rmsfe / denom\n",
    "\n",
    "metrics = {\n",
    "    \"RMSE\": np.sqrt(mean_squared_error(y_test, preds)),\n",
    "    \"MAE\": mean_absolute_error(y_test, preds),\n",
    "    \"MAPE (%)\": mean_absolute_percentage_error(y_test, preds) * 100,\n",
    "    \"sMAPE (%)\": smape(y_test.values, preds),\n",
    "    \"R²\": r2_score(y_test, preds),\n",
    "    \"Explained Variance\": explained_variance_score(y_test, preds),\n",
    "    \"Theil’s U\": theils_u(y_test.values, preds),\n",
    "    \"Directional Accuracy (%)\": (\n",
    "        np.mean(\n",
    "            np.sign(y_test.values[1:] - y_test.values[:-1]) ==\n",
    "            np.sign(preds[1:] - y_test.values[:-1])\n",
    "        ) * 100\n",
    "    )\n",
    "}\n",
    "\n",
    "print(pd.Series(metrics).to_frame('XGBoost').round(4))\n",
    "\n",
    "# === 7. Grafico Plotly Actual vs Predicted =================================\n",
    "fig = go.Figure()\n",
    "fig.add_trace(go.Scatter(\n",
    "    x=y_test.index, y=y_test, mode='lines', name='Actual'\n",
    "))\n",
    "fig.add_trace(go.Scatter(\n",
    "    x=y_test.index, y=preds, mode='lines', name='Predicted'\n",
    "))\n",
    "fig.update_layout(\n",
    "    title='Brent Crude Oil – Actual vs Predicted (XGBoost)',\n",
    "    xaxis_title='Date',\n",
    "    yaxis_title='Price (USD)',\n",
    "    template='plotly_white',\n",
    "    legend=dict(orientation='h', y=-0.2)\n",
    ")\n",
    "fig.show()\n"
   ]
  }
 ],
 "metadata": {
  "kernelspec": {
   "display_name": "Python 3",
   "language": "python",
   "name": "python3"
  },
  "language_info": {
   "codemirror_mode": {
    "name": "ipython",
    "version": 3
   },
   "file_extension": ".py",
   "mimetype": "text/x-python",
   "name": "python",
   "nbconvert_exporter": "python",
   "pygments_lexer": "ipython3",
   "version": "3.11.12"
  }
 },
 "nbformat": 4,
 "nbformat_minor": 2
}
