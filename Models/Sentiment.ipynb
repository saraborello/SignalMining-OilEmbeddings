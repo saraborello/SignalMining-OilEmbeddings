{
 "cells": [
  {
   "cell_type": "code",
   "execution_count": 1,
   "metadata": {},
   "outputs": [
    {
     "name": "stderr",
     "output_type": "stream",
     "text": [
      "/opt/homebrew/lib/python3.11/site-packages/tqdm/auto.py:21: TqdmWarning: IProgress not found. Please update jupyter and ipywidgets. See https://ipywidgets.readthedocs.io/en/stable/user_install.html\n",
      "  from .autonotebook import tqdm as notebook_tqdm\n"
     ]
    },
    {
     "name": "stdout",
     "output_type": "stream",
     "text": [
      "Titolo: Oil prices surge amid strong demand\n",
      "  negative: 0.909\n",
      "  neutral: 0.049\n",
      "  positive: 0.042\n",
      "\n",
      "Titolo: OPEC agrees to extend production cuts\n",
      "  negative: 0.767\n",
      "  neutral: 0.023\n",
      "  positive: 0.210\n",
      "\n",
      "Titolo: Crude oil prices plummet amid geopolitical tensions\n",
      "  negative: 0.014\n",
      "  neutral: 0.959\n",
      "  positive: 0.026\n",
      "\n"
     ]
    }
   ],
   "source": [
    "from transformers import AutoTokenizer, AutoModelForSequenceClassification\n",
    "import torch\n",
    "import numpy as np\n",
    "\n",
    "# Carica tokenizer e modello FinBERT pre-addestrato per sentiment\n",
    "model_name = \"ProsusAI/finbert\"\n",
    "tokenizer = AutoTokenizer.from_pretrained(model_name)\n",
    "model = AutoModelForSequenceClassification.from_pretrained(model_name)\n",
    "model.eval()\n",
    "\n",
    "def get_class_probabilities(text):\n",
    "    inputs = tokenizer(text, return_tensors=\"pt\", truncation=True, max_length=512)\n",
    "    with torch.no_grad():\n",
    "        outputs = model(**inputs)\n",
    "    probs = torch.softmax(outputs.logits, dim=1).cpu().numpy()[0]\n",
    "    labels = ['negative', 'neutral', 'positive']\n",
    "    # Restituisce dizionario con probabilità per ogni classe\n",
    "    return dict(zip(labels, probs))\n",
    "\n",
    "# Esempio di titoli\n",
    "titoli = [\n",
    "    \"Oil prices surge amid strong demand\",\n",
    "    \"OPEC agrees to extend production cuts\",\n",
    "    \"Crude oil prices plummet amid geopolitical tensions\"\n",
    "]\n",
    "\n",
    "for t in titoli:\n",
    "    probs = get_class_probabilities(t)\n",
    "    print(f\"Titolo: {t}\")\n",
    "    for label, prob in probs.items():\n",
    "        print(f\"  {label}: {prob:.3f}\")\n",
    "    print()\n"
   ]
  }
 ],
 "metadata": {
  "kernelspec": {
   "display_name": "Python 3",
   "language": "python",
   "name": "python3"
  },
  "language_info": {
   "codemirror_mode": {
    "name": "ipython",
    "version": 3
   },
   "file_extension": ".py",
   "mimetype": "text/x-python",
   "name": "python",
   "nbconvert_exporter": "python",
   "pygments_lexer": "ipython3",
   "version": "3.11.12"
  }
 },
 "nbformat": 4,
 "nbformat_minor": 2
}
